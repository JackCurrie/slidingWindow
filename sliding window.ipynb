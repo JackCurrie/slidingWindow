{
 "cells": [
  {
   "cell_type": "code",
   "execution_count": 30,
   "metadata": {},
   "outputs": [
    {
     "data": {
      "text/plain": [
       "'Loading model....'"
      ]
     },
     "metadata": {},
     "output_type": "display_data"
    },
    {
     "data": {
      "text/plain": [
       "'Model loaded.'"
      ]
     },
     "metadata": {},
     "output_type": "display_data"
    }
   ],
   "source": [
    "import numpy as np\n",
    "import pandas as pd\n",
    "import keras\n",
    "from keras.applications.vgg19 import VGG19\n",
    "from keras.applications.vgg19 import preprocess_input\n",
    "from keras.applications.vgg19 import decode_predictions\n",
    "from keras.models import Model\n",
    "from keras.layers import Dense, Dropout, Flatten\n",
    "import cv2 as cv\n",
    "\n",
    "display(\"Loading model....\")\n",
    "model = VGG19(weights='imagenet')\n",
    "display(\"Model loaded.\")\n",
    "\n",
    "#display(\"Preprocessing Image\")\n",
    "#imageName = \"ex1.png\"\n",
    "#image = cv.imread(imageName)\n",
    "#imageHeight, imageWidth, imageChannels = image.shape\n",
    "#display(\"Image \" + str(imageName) + \" is \" + str(imageWidth) + \"x\" + str(imageHeight) + \".\")\n",
    "#image = cv.resize(image, (224,224)).astype(np.float32)\n",
    "#image = image.transpose((2,0,1))\n",
    "#image = np.expand_dims(image, axis=0)\n",
    "\n",
    "#display(\"Predicting...\")\n",
    "#features = model.predict(image)\n",
    "#display(\"Done!\")\n",
    "#label = decode_predictions(features)\n",
    "#display(label)\n",
    "#display(label[0])\n",
    "#display(label[0][0])\n",
    "#label = label[0]\n",
    "#display(str(label[0][1]) + \" (\" + str(label[0][2]*100)+\"%)\")\n",
    "#display(str(label[0]) + \" (\" + str(label[1]*100)+\"%)\")"
   ]
  },
  {
   "cell_type": "code",
   "execution_count": 51,
   "metadata": {},
   "outputs": [
    {
     "data": {
      "text/plain": [
       "'Image ex1.png is 602x404.'"
      ]
     },
     "metadata": {},
     "output_type": "display_data"
    },
    {
     "data": {
      "text/plain": [
       "'Stack #0'"
      ]
     },
     "metadata": {},
     "output_type": "display_data"
    },
    {
     "name": "stdout",
     "output_type": "stream",
     "text": [
      "y:  0\n"
     ]
    },
    {
     "data": {
      "text/plain": [
       "[('n06359193', 'web_site', 0.24174668),\n",
       " ('n03532672', 'hook', 0.066418774),\n",
       " ('n03291819', 'envelope', 0.04223133),\n",
       " ('n04118776', 'rule', 0.031054791),\n",
       " ('n03126707', 'crane', 0.0205233)]"
      ]
     },
     "metadata": {},
     "output_type": "display_data"
    },
    {
     "data": {
      "text/plain": [
       "'Scaling x'"
      ]
     },
     "metadata": {},
     "output_type": "display_data"
    },
    {
     "data": {
      "text/plain": [
       "[('n06359193', 'web_site', 0.17338352),\n",
       " ('n03532672', 'hook', 0.083941676),\n",
       " ('n04141975', 'scale', 0.037448913),\n",
       " ('n03291819', 'envelope', 0.032005765),\n",
       " ('n03467068', 'guillotine', 0.03092017)]"
      ]
     },
     "metadata": {},
     "output_type": "display_data"
    },
    {
     "data": {
      "text/plain": [
       "'Scaling y'"
      ]
     },
     "metadata": {},
     "output_type": "display_data"
    },
    {
     "data": {
      "text/plain": [
       "[('n06359193', 'web_site', 0.12657727),\n",
       " ('n03532672', 'hook', 0.073928826),\n",
       " ('n03291819', 'envelope', 0.05580238),\n",
       " ('n03467068', 'guillotine', 0.045239214),\n",
       " ('n03041632', 'cleaver', 0.0340752)]"
      ]
     },
     "metadata": {},
     "output_type": "display_data"
    },
    {
     "data": {
      "text/plain": [
       "[('n06359193', 'web_site', 0.57730424),\n",
       " ('n02417914', 'ibex', 0.022160722),\n",
       " ('n09428293', 'seashore', 0.019823289),\n",
       " ('n09246464', 'cliff', 0.015958497),\n",
       " ('n02091635', 'otterhound', 0.015489708)]"
      ]
     },
     "metadata": {},
     "output_type": "display_data"
    },
    {
     "data": {
      "text/plain": [
       "'Scaling x'"
      ]
     },
     "metadata": {},
     "output_type": "display_data"
    },
    {
     "data": {
      "text/plain": [
       "[('n06359193', 'web_site', 0.42237929),\n",
       " ('n03180011', 'desktop_computer', 0.060775418),\n",
       " ('n04118776', 'rule', 0.028134352),\n",
       " ('n03041632', 'cleaver', 0.024878075),\n",
       " ('n03532672', 'hook', 0.0212832)]"
      ]
     },
     "metadata": {},
     "output_type": "display_data"
    },
    {
     "data": {
      "text/plain": [
       "'Scaling y'"
      ]
     },
     "metadata": {},
     "output_type": "display_data"
    },
    {
     "data": {
      "text/plain": [
       "[('n06359193', 'web_site', 0.4400127),\n",
       " ('n03291819', 'envelope', 0.122753106),\n",
       " ('n03041632', 'cleaver', 0.054215755),\n",
       " ('n02840245', 'binder', 0.016601209),\n",
       " ('n03532672', 'hook', 0.0128525635)]"
      ]
     },
     "metadata": {},
     "output_type": "display_data"
    },
    {
     "data": {
      "text/plain": [
       "[('n03743016', 'megalith', 0.23825826),\n",
       " ('n09246464', 'cliff', 0.18295686),\n",
       " ('n09399592', 'promontory', 0.13745281),\n",
       " ('n09428293', 'seashore', 0.06772536),\n",
       " ('n04326547', 'stone_wall', 0.032802295)]"
      ]
     },
     "metadata": {},
     "output_type": "display_data"
    },
    {
     "data": {
      "text/plain": [
       "'Scaling x'"
      ]
     },
     "metadata": {},
     "output_type": "display_data"
    },
    {
     "data": {
      "text/plain": [
       "[('n06359193', 'web_site', 0.035479948),\n",
       " ('n09428293', 'seashore', 0.02649597),\n",
       " ('n04019541', 'puck', 0.023886068),\n",
       " ('n02814860', 'beacon', 0.01968527),\n",
       " ('n02134084', 'ice_bear', 0.016908208)]"
      ]
     },
     "metadata": {},
     "output_type": "display_data"
    },
    {
     "data": {
      "text/plain": [
       "'Scaling y'"
      ]
     },
     "metadata": {},
     "output_type": "display_data"
    },
    {
     "data": {
      "text/plain": [
       "[('n03041632', 'cleaver', 0.054371044),\n",
       " ('n06359193', 'web_site', 0.029756088),\n",
       " ('n03291819', 'envelope', 0.022877194),\n",
       " ('n03532672', 'hook', 0.017099233),\n",
       " ('n04228054', 'ski', 0.011235655)]"
      ]
     },
     "metadata": {},
     "output_type": "display_data"
    },
    {
     "data": {
      "text/plain": [
       "[('n03743016', 'megalith', 0.3441003),\n",
       " ('n09246464', 'cliff', 0.12906948),\n",
       " ('n09399592', 'promontory', 0.09429274),\n",
       " ('n02417914', 'ibex', 0.0407674),\n",
       " ('n09428293', 'seashore', 0.036674514)]"
      ]
     },
     "metadata": {},
     "output_type": "display_data"
    },
    {
     "data": {
      "text/plain": [
       "'Scaling x'"
      ]
     },
     "metadata": {},
     "output_type": "display_data"
    },
    {
     "data": {
      "text/plain": [
       "[('n09246464', 'cliff', 0.13578211),\n",
       " ('n09399592', 'promontory', 0.12615162),\n",
       " ('n09428293', 'seashore', 0.080041796),\n",
       " ('n02134084', 'ice_bear', 0.068247534),\n",
       " ('n03743016', 'megalith', 0.03711379)]"
      ]
     },
     "metadata": {},
     "output_type": "display_data"
    },
    {
     "data": {
      "text/plain": [
       "'Scaling y'"
      ]
     },
     "metadata": {},
     "output_type": "display_data"
    },
    {
     "data": {
      "text/plain": [
       "[('n03041632', 'cleaver', 0.048059523),\n",
       " ('n06359193', 'web_site', 0.029149614),\n",
       " ('n03291819', 'envelope', 0.01844094),\n",
       " ('n03532672', 'hook', 0.017555209),\n",
       " ('n03804744', 'nail', 0.010944969)]"
      ]
     },
     "metadata": {},
     "output_type": "display_data"
    },
    {
     "data": {
      "text/plain": [
       "[('n06359193', 'web_site', 0.17129986),\n",
       " ('n09246464', 'cliff', 0.09475738),\n",
       " ('n03743016', 'megalith', 0.084464066),\n",
       " ('n09399592', 'promontory', 0.05057596),\n",
       " ('n02410509', 'bison', 0.045116138)]"
      ]
     },
     "metadata": {},
     "output_type": "display_data"
    },
    {
     "data": {
      "text/plain": [
       "'Scaling x'"
      ]
     },
     "metadata": {},
     "output_type": "display_data"
    },
    {
     "data": {
      "text/plain": [
       "[('n09399592', 'promontory', 0.17530142),\n",
       " ('n09246464', 'cliff', 0.16032842),\n",
       " ('n03743016', 'megalith', 0.07320006),\n",
       " ('n09428293', 'seashore', 0.065541156),\n",
       " ('n02134084', 'ice_bear', 0.04816736)]"
      ]
     },
     "metadata": {},
     "output_type": "display_data"
    },
    {
     "data": {
      "text/plain": [
       "'Scaling y'"
      ]
     },
     "metadata": {},
     "output_type": "display_data"
    },
    {
     "data": {
      "text/plain": [
       "[('n03041632', 'cleaver', 0.036403824),\n",
       " ('n06359193', 'web_site', 0.027082222),\n",
       " ('n03532672', 'hook', 0.022980183),\n",
       " ('n03291819', 'envelope', 0.018619334),\n",
       " ('n03804744', 'nail', 0.010352863)]"
      ]
     },
     "metadata": {},
     "output_type": "display_data"
    },
    {
     "data": {
      "text/plain": [
       "[('n03743016', 'megalith', 0.11972237),\n",
       " ('n09246464', 'cliff', 0.0712929),\n",
       " ('n06359193', 'web_site', 0.06767695),\n",
       " ('n02417914', 'ibex', 0.0456037),\n",
       " ('n09399592', 'promontory', 0.03972178)]"
      ]
     },
     "metadata": {},
     "output_type": "display_data"
    },
    {
     "data": {
      "text/plain": [
       "'Scaling x'"
      ]
     },
     "metadata": {},
     "output_type": "display_data"
    },
    {
     "data": {
      "text/plain": [
       "[('n03743016', 'megalith', 0.24942417),\n",
       " ('n02814860', 'beacon', 0.08460142),\n",
       " ('n09399592', 'promontory', 0.07695344),\n",
       " ('n09246464', 'cliff', 0.049663983),\n",
       " ('n04326547', 'stone_wall', 0.024659576)]"
      ]
     },
     "metadata": {},
     "output_type": "display_data"
    },
    {
     "data": {
      "text/plain": [
       "'Scaling y'"
      ]
     },
     "metadata": {},
     "output_type": "display_data"
    },
    {
     "data": {
      "text/plain": [
       "[('n03041632', 'cleaver', 0.03840692),\n",
       " ('n03532672', 'hook', 0.024467815),\n",
       " ('n06359193', 'web_site', 0.021516046),\n",
       " ('n03291819', 'envelope', 0.017962513),\n",
       " ('n11879895', 'rapeseed', 0.009824831)]"
      ]
     },
     "metadata": {},
     "output_type": "display_data"
    },
    {
     "data": {
      "text/plain": [
       "[('n06359193', 'web_site', 0.050294682),\n",
       " ('n02417914', 'ibex', 0.045860324),\n",
       " ('n02410509', 'bison', 0.03912996),\n",
       " ('n03743016', 'megalith', 0.031375982),\n",
       " ('n02114548', 'white_wolf', 0.028817274)]"
      ]
     },
     "metadata": {},
     "output_type": "display_data"
    },
    {
     "data": {
      "text/plain": [
       "'Scaling x'"
      ]
     },
     "metadata": {},
     "output_type": "display_data"
    },
    {
     "data": {
      "text/plain": [
       "[('n06359193', 'web_site', 0.13977325),\n",
       " ('n03196217', 'digital_clock', 0.13974926),\n",
       " ('n02708093', 'analog_clock', 0.019739272),\n",
       " ('n02114548', 'white_wolf', 0.018785385),\n",
       " ('n04141975', 'scale', 0.017483681)]"
      ]
     },
     "metadata": {},
     "output_type": "display_data"
    },
    {
     "data": {
      "text/plain": [
       "'Scaling y'"
      ]
     },
     "metadata": {},
     "output_type": "display_data"
    },
    {
     "data": {
      "text/plain": [
       "[('n03041632', 'cleaver', 0.028157232),\n",
       " ('n03532672', 'hook', 0.025534932),\n",
       " ('n11879895', 'rapeseed', 0.022668388),\n",
       " ('n06359193', 'web_site', 0.021782298),\n",
       " ('n03976657', 'pole', 0.015356026)]"
      ]
     },
     "metadata": {},
     "output_type": "display_data"
    },
    {
     "data": {
      "text/plain": [
       "[('n02114548', 'white_wolf', 0.11540682),\n",
       " ('n02134084', 'ice_bear', 0.10001711),\n",
       " ('n06359193', 'web_site', 0.07888595),\n",
       " ('n02437312', 'Arabian_camel', 0.04243956),\n",
       " ('n02104029', 'kuvasz', 0.039701127)]"
      ]
     },
     "metadata": {},
     "output_type": "display_data"
    },
    {
     "data": {
      "text/plain": [
       "'Scaling x'"
      ]
     },
     "metadata": {},
     "output_type": "display_data"
    },
    {
     "data": {
      "text/plain": [
       "[('n06359193', 'web_site', 0.117579505),\n",
       " ('n03196217', 'digital_clock', 0.08530641),\n",
       " ('n02114548', 'white_wolf', 0.060835324),\n",
       " ('n06794110', 'street_sign', 0.032296333),\n",
       " ('n02120079', 'Arctic_fox', 0.017999368)]"
      ]
     },
     "metadata": {},
     "output_type": "display_data"
    },
    {
     "data": {
      "text/plain": [
       "'Scaling y'"
      ]
     },
     "metadata": {},
     "output_type": "display_data"
    },
    {
     "data": {
      "text/plain": [
       "[('n03532672', 'hook', 0.029680641),\n",
       " ('n03041632', 'cleaver', 0.02930436),\n",
       " ('n06359193', 'web_site', 0.02586213),\n",
       " ('n11879895', 'rapeseed', 0.01651092),\n",
       " ('n03126707', 'crane', 0.016265165)]"
      ]
     },
     "metadata": {},
     "output_type": "display_data"
    },
    {
     "data": {
      "text/plain": [
       "[('n06359193', 'web_site', 0.16939662),\n",
       " ('n04467665', 'trailer_truck', 0.052087866),\n",
       " ('n09428293', 'seashore', 0.026037302),\n",
       " ('n03095699', 'container_ship', 0.025578799),\n",
       " ('n02692877', 'airship', 0.013978647)]"
      ]
     },
     "metadata": {},
     "output_type": "display_data"
    },
    {
     "data": {
      "text/plain": [
       "'Scaling x'"
      ]
     },
     "metadata": {},
     "output_type": "display_data"
    },
    {
     "data": {
      "text/plain": [
       "[('n06359193', 'web_site', 0.17807558),\n",
       " ('n03196217', 'digital_clock', 0.08057092),\n",
       " ('n04357314', 'sunscreen', 0.024126332),\n",
       " ('n02708093', 'analog_clock', 0.022097759),\n",
       " ('n03095699', 'container_ship', 0.01781284)]"
      ]
     },
     "metadata": {},
     "output_type": "display_data"
    },
    {
     "data": {
      "text/plain": [
       "'Scaling y'"
      ]
     },
     "metadata": {},
     "output_type": "display_data"
    },
    {
     "data": {
      "text/plain": [
       "[('n03041632', 'cleaver', 0.03859782),\n",
       " ('n03532672', 'hook', 0.029354151),\n",
       " ('n06359193', 'web_site', 0.026075365),\n",
       " ('n11879895', 'rapeseed', 0.016830511),\n",
       " ('n03126707', 'crane', 0.014922341)]"
      ]
     },
     "metadata": {},
     "output_type": "display_data"
    },
    {
     "data": {
      "text/plain": [
       "[('n06359193', 'web_site', 0.4242931),\n",
       " ('n04467665', 'trailer_truck', 0.023163142),\n",
       " ('n02692877', 'airship', 0.018387737),\n",
       " ('n03095699', 'container_ship', 0.016097018),\n",
       " ('n09428293', 'seashore', 0.016065951)]"
      ]
     },
     "metadata": {},
     "output_type": "display_data"
    },
    {
     "data": {
      "text/plain": [
       "'Scaling x'"
      ]
     },
     "metadata": {},
     "output_type": "display_data"
    },
    {
     "data": {
      "text/plain": [
       "[('n06359193', 'web_site', 0.24401622),\n",
       " ('n09428293', 'seashore', 0.054740865),\n",
       " ('n03095699', 'container_ship', 0.03784542),\n",
       " ('n04467665', 'trailer_truck', 0.027322982),\n",
       " ('n04357314', 'sunscreen', 0.017008804)]"
      ]
     },
     "metadata": {},
     "output_type": "display_data"
    },
    {
     "data": {
      "text/plain": [
       "'Scaling y'"
      ]
     },
     "metadata": {},
     "output_type": "display_data"
    },
    {
     "data": {
      "text/plain": [
       "[('n03041632', 'cleaver', 0.07509644),\n",
       " ('n03532672', 'hook', 0.02378656),\n",
       " ('n06359193', 'web_site', 0.023388902),\n",
       " ('n04228054', 'ski', 0.017824678),\n",
       " ('n11879895', 'rapeseed', 0.014375802)]"
      ]
     },
     "metadata": {},
     "output_type": "display_data"
    },
    {
     "data": {
      "text/plain": [
       "[('n06359193', 'web_site', 0.3337351),\n",
       " ('n02777292', 'balance_beam', 0.10223183),\n",
       " ('n04141975', 'scale', 0.028511105),\n",
       " ('n03291819', 'envelope', 0.026036566),\n",
       " ('n04357314', 'sunscreen', 0.014895433)]"
      ]
     },
     "metadata": {},
     "output_type": "display_data"
    },
    {
     "data": {
      "text/plain": [
       "'Scaling x'"
      ]
     },
     "metadata": {},
     "output_type": "display_data"
    },
    {
     "data": {
      "text/plain": [
       "[('n06359193', 'web_site', 0.3761456),\n",
       " ('n09428293', 'seashore', 0.02121269),\n",
       " ('n04467665', 'trailer_truck', 0.018060764),\n",
       " ('n03095699', 'container_ship', 0.017994942),\n",
       " ('n03291819', 'envelope', 0.016457262)]"
      ]
     },
     "metadata": {},
     "output_type": "display_data"
    },
    {
     "data": {
      "text/plain": [
       "'Scaling y'"
      ]
     },
     "metadata": {},
     "output_type": "display_data"
    },
    {
     "data": {
      "text/plain": [
       "[('n03041632', 'cleaver', 0.045126606),\n",
       " ('n03532672', 'hook', 0.024848787),\n",
       " ('n06359193', 'web_site', 0.019630956),\n",
       " ('n11879895', 'rapeseed', 0.018821057),\n",
       " ('n03976657', 'pole', 0.017168293)]"
      ]
     },
     "metadata": {},
     "output_type": "display_data"
    },
    {
     "data": {
      "text/plain": [
       "[('n06359193', 'web_site', 0.06926712),\n",
       " ('n04467665', 'trailer_truck', 0.04707952),\n",
       " ('n02777292', 'balance_beam', 0.025940944),\n",
       " ('n09428293', 'seashore', 0.022491483),\n",
       " ('n03126707', 'crane', 0.021439767)]"
      ]
     },
     "metadata": {},
     "output_type": "display_data"
    },
    {
     "data": {
      "text/plain": [
       "'Scaling x'"
      ]
     },
     "metadata": {},
     "output_type": "display_data"
    },
    {
     "data": {
      "text/plain": [
       "[('n06359193', 'web_site', 0.15036994),\n",
       " ('n04467665', 'trailer_truck', 0.036229547),\n",
       " ('n03095699', 'container_ship', 0.027202329),\n",
       " ('n09428293', 'seashore', 0.01697738),\n",
       " ('n04141975', 'scale', 0.016375624)]"
      ]
     },
     "metadata": {},
     "output_type": "display_data"
    },
    {
     "data": {
      "text/plain": [
       "'Scaling y'"
      ]
     },
     "metadata": {},
     "output_type": "display_data"
    },
    {
     "data": {
      "text/plain": [
       "[('n03041632', 'cleaver', 0.06456568),\n",
       " ('n03532672', 'hook', 0.028926603),\n",
       " ('n06359193', 'web_site', 0.022173822),\n",
       " ('n03291819', 'envelope', 0.016168062),\n",
       " ('n04228054', 'ski', 0.0144398995)]"
      ]
     },
     "metadata": {},
     "output_type": "display_data"
    },
    {
     "data": {
      "text/plain": [
       "[('n09428293', 'seashore', 0.0791025),\n",
       " ('n09399592', 'promontory', 0.0629263),\n",
       " ('n02814860', 'beacon', 0.033645634),\n",
       " ('n09246464', 'cliff', 0.032045864),\n",
       " ('n03792972', 'mountain_tent', 0.0219706)]"
      ]
     },
     "metadata": {},
     "output_type": "display_data"
    },
    {
     "data": {
      "text/plain": [
       "'Scaling x'"
      ]
     },
     "metadata": {},
     "output_type": "display_data"
    },
    {
     "data": {
      "text/plain": [
       "[('n06359193', 'web_site', 0.08551363),\n",
       " ('n02777292', 'balance_beam', 0.048514687),\n",
       " ('n03291819', 'envelope', 0.023633912),\n",
       " ('n09428293', 'seashore', 0.021778885),\n",
       " ('n04344873', 'studio_couch', 0.018473858)]"
      ]
     },
     "metadata": {},
     "output_type": "display_data"
    },
    {
     "data": {
      "text/plain": [
       "'Scaling y'"
      ]
     },
     "metadata": {},
     "output_type": "display_data"
    },
    {
     "data": {
      "text/plain": [
       "[('n03041632', 'cleaver', 0.06616026),\n",
       " ('n06359193', 'web_site', 0.022813082),\n",
       " ('n03532672', 'hook', 0.019377306),\n",
       " ('n04228054', 'ski', 0.018837398),\n",
       " ('n03498962', 'hatchet', 0.012431417)]"
      ]
     },
     "metadata": {},
     "output_type": "display_data"
    },
    {
     "data": {
      "text/plain": [
       "[('n09428293', 'seashore', 0.0849765),\n",
       " ('n09399592', 'promontory', 0.07263377),\n",
       " ('n09246464', 'cliff', 0.046894863),\n",
       " ('n07802026', 'hay', 0.03725135),\n",
       " ('n02814860', 'beacon', 0.027539162)]"
      ]
     },
     "metadata": {},
     "output_type": "display_data"
    },
    {
     "data": {
      "text/plain": [
       "'Scaling x'"
      ]
     },
     "metadata": {},
     "output_type": "display_data"
    },
    {
     "data": {
      "text/plain": [
       "[('n09428293', 'seashore', 0.05079039),\n",
       " ('n09399592', 'promontory', 0.03115524),\n",
       " ('n04592741', 'wing', 0.02738143),\n",
       " ('n09421951', 'sandbar', 0.026102962),\n",
       " ('n04552348', 'warplane', 0.025914451)]"
      ]
     },
     "metadata": {},
     "output_type": "display_data"
    },
    {
     "data": {
      "text/plain": [
       "'Scaling y'"
      ]
     },
     "metadata": {},
     "output_type": "display_data"
    },
    {
     "data": {
      "text/plain": [
       "[('n03041632', 'cleaver', 0.03526623),\n",
       " ('n03532672', 'hook', 0.02738783),\n",
       " ('n06359193', 'web_site', 0.022036724),\n",
       " ('n11879895', 'rapeseed', 0.01572832),\n",
       " ('n03976657', 'pole', 0.015649911)]"
      ]
     },
     "metadata": {},
     "output_type": "display_data"
    },
    {
     "data": {
      "text/plain": [
       "[('n09399592', 'promontory', 0.117023736),\n",
       " ('n03743016', 'megalith', 0.09512297),\n",
       " ('n09246464', 'cliff', 0.06520459),\n",
       " ('n07802026', 'hay', 0.05757144),\n",
       " ('n09428293', 'seashore', 0.051638633)]"
      ]
     },
     "metadata": {},
     "output_type": "display_data"
    },
    {
     "data": {
      "text/plain": [
       "'Scaling x'"
      ]
     },
     "metadata": {},
     "output_type": "display_data"
    },
    {
     "data": {
      "text/plain": [
       "[('n09428293', 'seashore', 0.08800693),\n",
       " ('n09399592', 'promontory', 0.083144404),\n",
       " ('n09246464', 'cliff', 0.042992447),\n",
       " ('n02814860', 'beacon', 0.038320467),\n",
       " ('n02037110', 'oystercatcher', 0.021181663)]"
      ]
     },
     "metadata": {},
     "output_type": "display_data"
    },
    {
     "data": {
      "text/plain": [
       "'Scaling y'"
      ]
     },
     "metadata": {},
     "output_type": "display_data"
    },
    {
     "data": {
      "text/plain": [
       "[('n11879895', 'rapeseed', 0.022479467),\n",
       " ('n03532672', 'hook', 0.022298293),\n",
       " ('n03041632', 'cleaver', 0.020015864),\n",
       " ('n09428293', 'seashore', 0.018667074),\n",
       " ('n06359193', 'web_site', 0.017262924)]"
      ]
     },
     "metadata": {},
     "output_type": "display_data"
    },
    {
     "data": {
      "text/plain": [
       "[('n09399592', 'promontory', 0.13872126),\n",
       " ('n09428293', 'seashore', 0.073683366),\n",
       " ('n09246464', 'cliff', 0.07144713),\n",
       " ('n03743016', 'megalith', 0.06957607),\n",
       " ('n07802026', 'hay', 0.04527624)]"
      ]
     },
     "metadata": {},
     "output_type": "display_data"
    },
    {
     "data": {
      "text/plain": [
       "'Scaling x'"
      ]
     },
     "metadata": {},
     "output_type": "display_data"
    },
    {
     "data": {
      "text/plain": [
       "[('n09399592', 'promontory', 0.10701393),\n",
       " ('n09428293', 'seashore', 0.10237824),\n",
       " ('n09246464', 'cliff', 0.047076836),\n",
       " ('n02814860', 'beacon', 0.030046938),\n",
       " ('n02037110', 'oystercatcher', 0.02962739)]"
      ]
     },
     "metadata": {},
     "output_type": "display_data"
    },
    {
     "data": {
      "text/plain": [
       "'Scaling y'"
      ]
     },
     "metadata": {},
     "output_type": "display_data"
    },
    {
     "data": {
      "text/plain": [
       "[('n03041632', 'cleaver', 0.026940553),\n",
       " ('n03532672', 'hook', 0.023601828),\n",
       " ('n09428293', 'seashore', 0.021197379),\n",
       " ('n11879895', 'rapeseed', 0.019839184),\n",
       " ('n03976657', 'pole', 0.018325394)]"
      ]
     },
     "metadata": {},
     "output_type": "display_data"
    },
    {
     "data": {
      "text/plain": [
       "[('n09399592', 'promontory', 0.119029544),\n",
       " ('n09246464', 'cliff', 0.07444922),\n",
       " ('n09428293', 'seashore', 0.06109419),\n",
       " ('n07802026', 'hay', 0.053080488),\n",
       " ('n03743016', 'megalith', 0.04681034)]"
      ]
     },
     "metadata": {},
     "output_type": "display_data"
    },
    {
     "data": {
      "text/plain": [
       "'Scaling x'"
      ]
     },
     "metadata": {},
     "output_type": "display_data"
    },
    {
     "data": {
      "text/plain": [
       "[('n09399592', 'promontory', 0.14064674),\n",
       " ('n09428293', 'seashore', 0.09834535),\n",
       " ('n09246464', 'cliff', 0.054886565),\n",
       " ('n02037110', 'oystercatcher', 0.048997343),\n",
       " ('n02814860', 'beacon', 0.039068446)]"
      ]
     },
     "metadata": {},
     "output_type": "display_data"
    },
    {
     "data": {
      "text/plain": [
       "'Scaling y'"
      ]
     },
     "metadata": {},
     "output_type": "display_data"
    },
    {
     "data": {
      "text/plain": [
       "[('n03041632', 'cleaver', 0.029414233),\n",
       " ('n06359193', 'web_site', 0.023257947),\n",
       " ('n09428293', 'seashore', 0.023225509),\n",
       " ('n11879895', 'rapeseed', 0.021633673),\n",
       " ('n03532672', 'hook', 0.018579822)]"
      ]
     },
     "metadata": {},
     "output_type": "display_data"
    },
    {
     "data": {
      "text/plain": [
       "[('n09399592', 'promontory', 0.13090566),\n",
       " ('n09246464', 'cliff', 0.068234704),\n",
       " ('n09428293', 'seashore', 0.057413757),\n",
       " ('n03743016', 'megalith', 0.045061566),\n",
       " ('n03792972', 'mountain_tent', 0.035697404)]"
      ]
     },
     "metadata": {},
     "output_type": "display_data"
    },
    {
     "data": {
      "text/plain": [
       "'Scaling x'"
      ]
     },
     "metadata": {},
     "output_type": "display_data"
    },
    {
     "data": {
      "text/plain": [
       "[('n09399592', 'promontory', 0.11759737),\n",
       " ('n09428293', 'seashore', 0.083074376),\n",
       " ('n09246464', 'cliff', 0.053598855),\n",
       " ('n02417914', 'ibex', 0.038982823),\n",
       " ('n02814860', 'beacon', 0.02992646)]"
      ]
     },
     "metadata": {},
     "output_type": "display_data"
    },
    {
     "data": {
      "text/plain": [
       "'Scaling y'"
      ]
     },
     "metadata": {},
     "output_type": "display_data"
    },
    {
     "data": {
      "text/plain": [
       "[('n03041632', 'cleaver', 0.033111192),\n",
       " ('n06359193', 'web_site', 0.026478434),\n",
       " ('n03532672', 'hook', 0.02608782),\n",
       " ('n04228054', 'ski', 0.02218225),\n",
       " ('n09428293', 'seashore', 0.018384509)]"
      ]
     },
     "metadata": {},
     "output_type": "display_data"
    },
    {
     "data": {
      "text/plain": [
       "[('n09399592', 'promontory', 0.087330215),\n",
       " ('n09246464', 'cliff', 0.071982734),\n",
       " ('n03743016', 'megalith', 0.06654884),\n",
       " ('n07802026', 'hay', 0.06477738),\n",
       " ('n09468604', 'valley', 0.047367003)]"
      ]
     },
     "metadata": {},
     "output_type": "display_data"
    },
    {
     "data": {
      "text/plain": [
       "'Scaling x'"
      ]
     },
     "metadata": {},
     "output_type": "display_data"
    },
    {
     "data": {
      "text/plain": [
       "[('n07802026', 'hay', 0.11476452),\n",
       " ('n09399592', 'promontory', 0.09802021),\n",
       " ('n02417914', 'ibex', 0.057557125),\n",
       " ('n02410509', 'bison', 0.045663364),\n",
       " ('n09246464', 'cliff', 0.0453936)]"
      ]
     },
     "metadata": {},
     "output_type": "display_data"
    },
    {
     "data": {
      "text/plain": [
       "'Scaling y'"
      ]
     },
     "metadata": {},
     "output_type": "display_data"
    },
    {
     "data": {
      "text/plain": [
       "[('n11879895', 'rapeseed', 0.028087156),\n",
       " ('n06359193', 'web_site', 0.0215555),\n",
       " ('n03041632', 'cleaver', 0.021170657),\n",
       " ('n03532672', 'hook', 0.020325467),\n",
       " ('n09428293', 'seashore', 0.020233214)]"
      ]
     },
     "metadata": {},
     "output_type": "display_data"
    },
    {
     "data": {
      "text/plain": [
       "[('n09399592', 'promontory', 0.08111298),\n",
       " ('n09246464', 'cliff', 0.07861957),\n",
       " ('n03743016', 'megalith', 0.049442068),\n",
       " ('n09468604', 'valley', 0.0485169),\n",
       " ('n07802026', 'hay', 0.044960238)]"
      ]
     },
     "metadata": {},
     "output_type": "display_data"
    },
    {
     "data": {
      "text/plain": [
       "'Scaling x'"
      ]
     },
     "metadata": {},
     "output_type": "display_data"
    },
    {
     "data": {
      "text/plain": [
       "[('n09399592', 'promontory', 0.09860531),\n",
       " ('n09428293', 'seashore', 0.07437745),\n",
       " ('n09246464', 'cliff', 0.07419626),\n",
       " ('n03792972', 'mountain_tent', 0.031834297),\n",
       " ('n03743016', 'megalith', 0.029935531)]"
      ]
     },
     "metadata": {},
     "output_type": "display_data"
    },
    {
     "data": {
      "text/plain": [
       "'Scaling y'"
      ]
     },
     "metadata": {},
     "output_type": "display_data"
    },
    {
     "data": {
      "text/plain": [
       "[('n11879895', 'rapeseed', 0.03236582),\n",
       " ('n03532672', 'hook', 0.02743477),\n",
       " ('n03041632', 'cleaver', 0.022098005),\n",
       " ('n03976657', 'pole', 0.019969635),\n",
       " ('n06359193', 'web_site', 0.017203424)]"
      ]
     },
     "metadata": {},
     "output_type": "display_data"
    },
    {
     "data": {
      "text/plain": [
       "[('n09399592', 'promontory', 0.08416422),\n",
       " ('n09246464', 'cliff', 0.06539674),\n",
       " ('n09428293', 'seashore', 0.044887003),\n",
       " ('n03743016', 'megalith', 0.038633656),\n",
       " ('n02410509', 'bison', 0.032186873)]"
      ]
     },
     "metadata": {},
     "output_type": "display_data"
    },
    {
     "data": {
      "text/plain": [
       "'Scaling x'"
      ]
     },
     "metadata": {},
     "output_type": "display_data"
    },
    {
     "data": {
      "text/plain": [
       "[('n09428293', 'seashore', 0.07486782),\n",
       " ('n09399592', 'promontory', 0.07289412),\n",
       " ('n02417914', 'ibex', 0.050493605),\n",
       " ('n09246464', 'cliff', 0.04767635),\n",
       " ('n07802026', 'hay', 0.043182757)]"
      ]
     },
     "metadata": {},
     "output_type": "display_data"
    },
    {
     "data": {
      "text/plain": [
       "'Scaling y'"
      ]
     },
     "metadata": {},
     "output_type": "display_data"
    },
    {
     "data": {
      "text/plain": [
       "[('n07802026', 'hay', 0.01642736),\n",
       " ('n06359193', 'web_site', 0.014415409),\n",
       " ('n02437312', 'Arabian_camel', 0.014203967),\n",
       " ('n11879895', 'rapeseed', 0.011796628),\n",
       " ('n03532672', 'hook', 0.010282583)]"
      ]
     },
     "metadata": {},
     "output_type": "display_data"
    },
    {
     "data": {
      "text/plain": [
       "[('n09399592', 'promontory', 0.04752175),\n",
       " ('n02410509', 'bison', 0.041293226),\n",
       " ('n09246464', 'cliff', 0.04008507),\n",
       " ('n03743016', 'megalith', 0.03583646),\n",
       " ('n09428293', 'seashore', 0.031502012)]"
      ]
     },
     "metadata": {},
     "output_type": "display_data"
    },
    {
     "data": {
      "text/plain": [
       "'Scaling x'"
      ]
     },
     "metadata": {},
     "output_type": "display_data"
    },
    {
     "data": {
      "text/plain": [
       "[('n07802026', 'hay', 0.11678793),\n",
       " ('n09428293', 'seashore', 0.06373912),\n",
       " ('n09246464', 'cliff', 0.055054266),\n",
       " ('n09399592', 'promontory', 0.04605891),\n",
       " ('n02410509', 'bison', 0.038691837)]"
      ]
     },
     "metadata": {},
     "output_type": "display_data"
    },
    {
     "data": {
      "text/plain": [
       "'Scaling y'"
      ]
     },
     "metadata": {},
     "output_type": "display_data"
    },
    {
     "data": {
      "text/plain": [
       "[('n02417914', 'ibex', 0.08444039),\n",
       " ('n02437312', 'Arabian_camel', 0.03848741),\n",
       " ('n04326547', 'stone_wall', 0.028445384),\n",
       " ('n09246464', 'cliff', 0.027447043),\n",
       " ('n03743016', 'megalith', 0.023932373)]"
      ]
     },
     "metadata": {},
     "output_type": "display_data"
    },
    {
     "data": {
      "text/plain": [
       "[('n02417914', 'ibex', 0.06338628),\n",
       " ('n09428293', 'seashore', 0.045651767),\n",
       " ('n09246464', 'cliff', 0.04485297),\n",
       " ('n02410509', 'bison', 0.043069527),\n",
       " ('n09468604', 'valley', 0.040440865)]"
      ]
     },
     "metadata": {},
     "output_type": "display_data"
    },
    {
     "data": {
      "text/plain": [
       "'Scaling x'"
      ]
     },
     "metadata": {},
     "output_type": "display_data"
    },
    {
     "data": {
      "text/plain": [
       "[('n07802026', 'hay', 0.067809105),\n",
       " ('n09428293', 'seashore', 0.049490146),\n",
       " ('n02410509', 'bison', 0.041240044),\n",
       " ('n09246464', 'cliff', 0.040377893),\n",
       " ('n09399592', 'promontory', 0.032757163)]"
      ]
     },
     "metadata": {},
     "output_type": "display_data"
    },
    {
     "data": {
      "text/plain": [
       "'Scaling y'"
      ]
     },
     "metadata": {},
     "output_type": "display_data"
    },
    {
     "data": {
      "text/plain": [
       "[('n02417914', 'ibex', 0.03877511),\n",
       " ('n09246464', 'cliff', 0.023605928),\n",
       " ('n09428293', 'seashore', 0.022395965),\n",
       " ('n09288635', 'geyser', 0.021812508),\n",
       " ('n09193705', 'alp', 0.017814841)]"
      ]
     },
     "metadata": {},
     "output_type": "display_data"
    },
    {
     "name": "stdout",
     "output_type": "stream",
     "text": [
      "y:  1\n",
      "y:  2\n",
      "y:  3\n",
      "y:  4\n",
      "y:  5\n",
      "y:  6\n",
      "y:  7\n",
      "y:  8\n",
      "y:  9\n",
      "y:  10\n",
      "y:  11\n",
      "y:  12\n",
      "y:  13\n",
      "y:  14\n",
      "y:  15\n",
      "y:  16\n",
      "y:  17\n",
      "y:  18\n",
      "y:  19\n",
      "y:  20\n",
      "y:  21\n",
      "y:  22\n",
      "y:  23\n",
      "y:  24\n",
      "y:  25\n",
      "y:  26\n",
      "y:  27\n",
      "y:  28\n",
      "y:  29\n",
      "y:  30\n",
      "y:  31\n",
      "y:  32\n",
      "y:  33\n",
      "y:  34\n",
      "y:  35\n",
      "y:  36\n",
      "y:  37\n",
      "y:  38\n",
      "y:  39\n",
      "y:  40\n",
      "y:  41\n",
      "y:  42\n",
      "y:  43\n",
      "y:  44\n"
     ]
    },
    {
     "data": {
      "text/plain": [
       "[('n06359193', 'web_site', 0.124783725),\n",
       " ('n03291819', 'envelope', 0.08901754),\n",
       " ('n02777292', 'balance_beam', 0.05576303),\n",
       " ('n03532672', 'hook', 0.022252943),\n",
       " ('n03729826', 'matchstick', 0.014926063)]"
      ]
     },
     "metadata": {},
     "output_type": "display_data"
    },
    {
     "data": {
      "text/plain": [
       "'Scaling x'"
      ]
     },
     "metadata": {},
     "output_type": "display_data"
    },
    {
     "data": {
      "text/plain": [
       "[('n06359193', 'web_site', 0.05246061),\n",
       " ('n03337140', 'file', 0.049857732),\n",
       " ('n03291819', 'envelope', 0.045205463),\n",
       " ('n03532672', 'hook', 0.039200347),\n",
       " ('n04550184', 'wardrobe', 0.02625358)]"
      ]
     },
     "metadata": {},
     "output_type": "display_data"
    },
    {
     "data": {
      "text/plain": [
       "'Scaling y'"
      ]
     },
     "metadata": {},
     "output_type": "display_data"
    },
    {
     "data": {
      "text/plain": [
       "[('n06359193', 'web_site', 0.19056325),\n",
       " ('n03532672', 'hook', 0.04043867),\n",
       " ('n03291819', 'envelope', 0.03901315),\n",
       " ('n03126707', 'crane', 0.012662294),\n",
       " ('n03976657', 'pole', 0.012228444)]"
      ]
     },
     "metadata": {},
     "output_type": "display_data"
    },
    {
     "data": {
      "text/plain": [
       "[('n09246464', 'cliff', 0.14337789),\n",
       " ('n06359193', 'web_site', 0.13565828),\n",
       " ('n09428293', 'seashore', 0.048564397),\n",
       " ('n09399592', 'promontory', 0.040911183),\n",
       " ('n02417914', 'ibex', 0.03674678)]"
      ]
     },
     "metadata": {},
     "output_type": "display_data"
    },
    {
     "data": {
      "text/plain": [
       "'Scaling x'"
      ]
     },
     "metadata": {},
     "output_type": "display_data"
    },
    {
     "data": {
      "text/plain": [
       "[('n03337140', 'file', 0.12734653),\n",
       " ('n02777292', 'balance_beam', 0.041544165),\n",
       " ('n06359193', 'web_site', 0.034658078),\n",
       " ('n03532672', 'hook', 0.033120885),\n",
       " ('n03976657', 'pole', 0.030540105)]"
      ]
     },
     "metadata": {},
     "output_type": "display_data"
    },
    {
     "data": {
      "text/plain": [
       "'Scaling y'"
      ]
     },
     "metadata": {},
     "output_type": "display_data"
    },
    {
     "data": {
      "text/plain": [
       "[('n03240683', 'drilling_platform', 0.04888762),\n",
       " ('n06359193', 'web_site', 0.046942096),\n",
       " ('n03126707', 'crane', 0.027011303),\n",
       " ('n03532672', 'hook', 0.025148049),\n",
       " ('n04147183', 'schooner', 0.021800851)]"
      ]
     },
     "metadata": {},
     "output_type": "display_data"
    },
    {
     "data": {
      "text/plain": [
       "[('n09246464', 'cliff', 0.15941955),\n",
       " ('n03743016', 'megalith', 0.098289),\n",
       " ('n09399592', 'promontory', 0.07145216),\n",
       " ('n02437312', 'Arabian_camel', 0.03965902),\n",
       " ('n09428293', 'seashore', 0.03233825)]"
      ]
     },
     "metadata": {},
     "output_type": "display_data"
    },
    {
     "data": {
      "text/plain": [
       "'Scaling x'"
      ]
     },
     "metadata": {},
     "output_type": "display_data"
    },
    {
     "data": {
      "text/plain": [
       "[('n02437312', 'Arabian_camel', 0.0636444),\n",
       " ('n02422106', 'hartebeest', 0.036251783),\n",
       " ('n01518878', 'ostrich', 0.02619322),\n",
       " ('n02777292', 'balance_beam', 0.025429467),\n",
       " ('n07802026', 'hay', 0.024144437)]"
      ]
     },
     "metadata": {},
     "output_type": "display_data"
    },
    {
     "data": {
      "text/plain": [
       "'Scaling y'"
      ]
     },
     "metadata": {},
     "output_type": "display_data"
    },
    {
     "data": {
      "text/plain": [
       "[('n02437312', 'Arabian_camel', 0.06706005),\n",
       " ('n02422106', 'hartebeest', 0.056934543),\n",
       " ('n02423022', 'gazelle', 0.025553953),\n",
       " ('n02422699', 'impala', 0.018535864),\n",
       " ('n09428293', 'seashore', 0.018246448)]"
      ]
     },
     "metadata": {},
     "output_type": "display_data"
    },
    {
     "data": {
      "text/plain": [
       "[('n03743016', 'megalith', 0.21195614),\n",
       " ('n09246464', 'cliff', 0.17625102),\n",
       " ('n09399592', 'promontory', 0.100225985),\n",
       " ('n02437312', 'Arabian_camel', 0.0284857),\n",
       " ('n09428293', 'seashore', 0.02774955)]"
      ]
     },
     "metadata": {},
     "output_type": "display_data"
    },
    {
     "data": {
      "text/plain": [
       "'Scaling x'"
      ]
     },
     "metadata": {},
     "output_type": "display_data"
    },
    {
     "data": {
      "text/plain": [
       "[('n09246464', 'cliff', 0.11124533),\n",
       " ('n09399592', 'promontory', 0.08351062),\n",
       " ('n02077923', 'sea_lion', 0.04941175),\n",
       " ('n03743016', 'megalith', 0.044241156),\n",
       " ('n09428293', 'seashore', 0.043026384)]"
      ]
     },
     "metadata": {},
     "output_type": "display_data"
    },
    {
     "data": {
      "text/plain": [
       "'Scaling y'"
      ]
     },
     "metadata": {},
     "output_type": "display_data"
    },
    {
     "data": {
      "text/plain": [
       "[('n02422106', 'hartebeest', 0.030836234),\n",
       " ('n02437312', 'Arabian_camel', 0.02877049),\n",
       " ('n02134084', 'ice_bear', 0.023499757),\n",
       " ('n09428293', 'seashore', 0.02040971),\n",
       " ('n09399592', 'promontory', 0.018839804)]"
      ]
     },
     "metadata": {},
     "output_type": "display_data"
    },
    {
     "data": {
      "text/plain": [
       "[('n09246464', 'cliff', 0.10455466),\n",
       " ('n03743016', 'megalith', 0.097881794),\n",
       " ('n09399592', 'promontory', 0.06403778),\n",
       " ('n03594945', 'jeep', 0.044532478),\n",
       " ('n09428293', 'seashore', 0.03181858)]"
      ]
     },
     "metadata": {},
     "output_type": "display_data"
    },
    {
     "data": {
      "text/plain": [
       "'Scaling x'"
      ]
     },
     "metadata": {},
     "output_type": "display_data"
    },
    {
     "data": {
      "text/plain": [
       "[('n09399592', 'promontory', 0.17224199),\n",
       " ('n09246464', 'cliff', 0.10971089),\n",
       " ('n09428293', 'seashore', 0.065557525),\n",
       " ('n02077923', 'sea_lion', 0.038143408),\n",
       " ('n02437312', 'Arabian_camel', 0.025946833)]"
      ]
     },
     "metadata": {},
     "output_type": "display_data"
    },
    {
     "data": {
      "text/plain": [
       "'Scaling y'"
      ]
     },
     "metadata": {},
     "output_type": "display_data"
    },
    {
     "data": {
      "text/plain": [
       "[('n02422106', 'hartebeest', 0.03632099),\n",
       " ('n02437312', 'Arabian_camel', 0.03270068),\n",
       " ('n09428293', 'seashore', 0.024241801),\n",
       " ('n02423022', 'gazelle', 0.016460221),\n",
       " ('n04467665', 'trailer_truck', 0.016151125)]"
      ]
     },
     "metadata": {},
     "output_type": "display_data"
    },
    {
     "data": {
      "text/plain": [
       "[('n06794110', 'street_sign', 0.78245676),\n",
       " ('n03743016', 'megalith', 0.054716777),\n",
       " ('n03710193', 'mailbox', 0.011156294),\n",
       " ('n06874185', 'traffic_light', 0.009636307),\n",
       " ('n11879895', 'rapeseed', 0.005730475)]"
      ]
     },
     "metadata": {},
     "output_type": "display_data"
    },
    {
     "data": {
      "text/plain": [
       "'Scaling x'"
      ]
     },
     "metadata": {},
     "output_type": "display_data"
    },
    {
     "data": {
      "text/plain": [
       "[('n09399592', 'promontory', 0.20188625),\n",
       " ('n09246464', 'cliff', 0.084961794),\n",
       " ('n09428293', 'seashore', 0.0526598),\n",
       " ('n03743016', 'megalith', 0.04444705),\n",
       " ('n03594945', 'jeep', 0.028832467)]"
      ]
     },
     "metadata": {},
     "output_type": "display_data"
    },
    {
     "data": {
      "text/plain": [
       "'Scaling y'"
      ]
     },
     "metadata": {},
     "output_type": "display_data"
    },
    {
     "data": {
      "text/plain": [
       "[('n02437312', 'Arabian_camel', 0.03717452),\n",
       " ('n02422106', 'hartebeest', 0.03479552),\n",
       " ('n04467665', 'trailer_truck', 0.024791865),\n",
       " ('n09428293', 'seashore', 0.018228328),\n",
       " ('n02423022', 'gazelle', 0.01609165)]"
      ]
     },
     "metadata": {},
     "output_type": "display_data"
    },
    {
     "data": {
      "text/plain": [
       "[('n06794110', 'street_sign', 0.3571084),\n",
       " ('n03743016', 'megalith', 0.028865267),\n",
       " ('n03792972', 'mountain_tent', 0.020735921),\n",
       " ('n04090263', 'rifle', 0.01825675),\n",
       " ('n04044716', 'radio_telescope', 0.01778118)]"
      ]
     },
     "metadata": {},
     "output_type": "display_data"
    },
    {
     "data": {
      "text/plain": [
       "'Scaling x'"
      ]
     },
     "metadata": {},
     "output_type": "display_data"
    },
    {
     "data": {
      "text/plain": [
       "[('n06794110', 'street_sign', 0.5109941),\n",
       " ('n09421951', 'sandbar', 0.027761541),\n",
       " ('n03710193', 'mailbox', 0.016597841),\n",
       " ('n09428293', 'seashore', 0.015778914),\n",
       " ('n03196217', 'digital_clock', 0.015688052)]"
      ]
     },
     "metadata": {},
     "output_type": "display_data"
    },
    {
     "data": {
      "text/plain": [
       "'Scaling y'"
      ]
     },
     "metadata": {},
     "output_type": "display_data"
    },
    {
     "data": {
      "text/plain": [
       "[('n04467665', 'trailer_truck', 0.052501556),\n",
       " ('n04428191', 'thresher', 0.032256722),\n",
       " ('n09428293', 'seashore', 0.019753993),\n",
       " ('n03496892', 'harvester', 0.019739833),\n",
       " ('n02437312', 'Arabian_camel', 0.01915756)]"
      ]
     },
     "metadata": {},
     "output_type": "display_data"
    },
    {
     "data": {
      "text/plain": [
       "[('n06794110', 'street_sign', 0.29729527),\n",
       " ('n03743016', 'megalith', 0.032044172),\n",
       " ('n04336792', 'stretcher', 0.026779255),\n",
       " ('n02437312', 'Arabian_camel', 0.025008917),\n",
       " ('n02797295', 'barrow', 0.019560793)]"
      ]
     },
     "metadata": {},
     "output_type": "display_data"
    },
    {
     "data": {
      "text/plain": [
       "'Scaling x'"
      ]
     },
     "metadata": {},
     "output_type": "display_data"
    },
    {
     "data": {
      "text/plain": [
       "[('n06794110', 'street_sign', 0.6213185),\n",
       " ('n04258138', 'solar_dish', 0.01658041),\n",
       " ('n03792972', 'mountain_tent', 0.016065689),\n",
       " ('n04044716', 'radio_telescope', 0.014201995),\n",
       " ('n03710193', 'mailbox', 0.013846743)]"
      ]
     },
     "metadata": {},
     "output_type": "display_data"
    },
    {
     "data": {
      "text/plain": [
       "'Scaling y'"
      ]
     },
     "metadata": {},
     "output_type": "display_data"
    },
    {
     "data": {
      "text/plain": [
       "[('n04467665', 'trailer_truck', 0.037400667),\n",
       " ('n11879895', 'rapeseed', 0.026033752),\n",
       " ('n09428293', 'seashore', 0.019498175),\n",
       " ('n02692877', 'airship', 0.017360797),\n",
       " ('n04428191', 'thresher', 0.016007666)]"
      ]
     },
     "metadata": {},
     "output_type": "display_data"
    },
    {
     "data": {
      "text/plain": [
       "[('n06794110', 'street_sign', 0.2740134),\n",
       " ('n02437312', 'Arabian_camel', 0.05947504),\n",
       " ('n09421951', 'sandbar', 0.038724698),\n",
       " ('n04336792', 'stretcher', 0.024703328),\n",
       " ('n09428293', 'seashore', 0.02148094)]"
      ]
     },
     "metadata": {},
     "output_type": "display_data"
    },
    {
     "data": {
      "text/plain": [
       "'Scaling x'"
      ]
     },
     "metadata": {},
     "output_type": "display_data"
    },
    {
     "data": {
      "text/plain": [
       "[('n06794110', 'street_sign', 0.25429028),\n",
       " ('n04336792', 'stretcher', 0.058579512),\n",
       " ('n03891251', 'park_bench', 0.03079023),\n",
       " ('n03967562', 'plow', 0.029941794),\n",
       " ('n02797295', 'barrow', 0.029836768)]"
      ]
     },
     "metadata": {},
     "output_type": "display_data"
    },
    {
     "data": {
      "text/plain": [
       "'Scaling y'"
      ]
     },
     "metadata": {},
     "output_type": "display_data"
    },
    {
     "data": {
      "text/plain": [
       "[('n04467665', 'trailer_truck', 0.026002632),\n",
       " ('n11879895', 'rapeseed', 0.02510776),\n",
       " ('n09428293', 'seashore', 0.015835874),\n",
       " ('n03532672', 'hook', 0.015099558),\n",
       " ('n02692877', 'airship', 0.014997715)]"
      ]
     },
     "metadata": {},
     "output_type": "display_data"
    },
    {
     "data": {
      "text/plain": [
       "[('n02437312', 'Arabian_camel', 0.054275997),\n",
       " ('n04540053', 'volleyball', 0.046214696),\n",
       " ('n09421951', 'sandbar', 0.044582862),\n",
       " ('n06794110', 'street_sign', 0.03427453),\n",
       " ('n03888605', 'parallel_bars', 0.027740853)]"
      ]
     },
     "metadata": {},
     "output_type": "display_data"
    },
    {
     "data": {
      "text/plain": [
       "'Scaling x'"
      ]
     },
     "metadata": {},
     "output_type": "display_data"
    },
    {
     "data": {
      "text/plain": [
       "[('n09421951', 'sandbar', 0.12230633),\n",
       " ('n09428293', 'seashore', 0.08260462),\n",
       " ('n03787032', 'mortarboard', 0.035175126),\n",
       " ('n04336792', 'stretcher', 0.02812116),\n",
       " ('n04371430', 'swimming_trunks', 0.026870709)]"
      ]
     },
     "metadata": {},
     "output_type": "display_data"
    },
    {
     "data": {
      "text/plain": [
       "'Scaling y'"
      ]
     },
     "metadata": {},
     "output_type": "display_data"
    },
    {
     "data": {
      "text/plain": [
       "[('n09428293', 'seashore', 0.027733268),\n",
       " ('n11879895', 'rapeseed', 0.018916355),\n",
       " ('n09399592', 'promontory', 0.018454036),\n",
       " ('n04467665', 'trailer_truck', 0.017942263),\n",
       " ('n03095699', 'container_ship', 0.017103309)]"
      ]
     },
     "metadata": {},
     "output_type": "display_data"
    },
    {
     "data": {
      "text/plain": [
       "[('n04336792', 'stretcher', 0.040320106),\n",
       " ('n03787032', 'mortarboard', 0.03421001),\n",
       " ('n03792972', 'mountain_tent', 0.028788285),\n",
       " ('n02841315', 'binoculars', 0.02586369),\n",
       " ('n04371430', 'swimming_trunks', 0.02428075)]"
      ]
     },
     "metadata": {},
     "output_type": "display_data"
    },
    {
     "data": {
      "text/plain": [
       "'Scaling x'"
      ]
     },
     "metadata": {},
     "output_type": "display_data"
    },
    {
     "data": {
      "text/plain": [
       "[('n03787032', 'mortarboard', 0.043200094),\n",
       " ('n03791053', 'motor_scooter', 0.023146214),\n",
       " ('n04336792', 'stretcher', 0.018841827),\n",
       " ('n09421951', 'sandbar', 0.017383482),\n",
       " ('n04371430', 'swimming_trunks', 0.016779123)]"
      ]
     },
     "metadata": {},
     "output_type": "display_data"
    },
    {
     "data": {
      "text/plain": [
       "'Scaling y'"
      ]
     },
     "metadata": {},
     "output_type": "display_data"
    },
    {
     "data": {
      "text/plain": [
       "[('n04467665', 'trailer_truck', 0.026350388),\n",
       " ('n11879895', 'rapeseed', 0.024832895),\n",
       " ('n09428293', 'seashore', 0.01785127),\n",
       " ('n03240683', 'drilling_platform', 0.01721769),\n",
       " ('n02692877', 'airship', 0.016545422)]"
      ]
     },
     "metadata": {},
     "output_type": "display_data"
    },
    {
     "data": {
      "text/plain": [
       "[('n03594945', 'jeep', 0.08424394),\n",
       " ('n04428191', 'thresher', 0.03632469),\n",
       " ('n04467665', 'trailer_truck', 0.03045199),\n",
       " ('n02841315', 'binoculars', 0.028144304),\n",
       " ('n03417042', 'garbage_truck', 0.025905529)]"
      ]
     },
     "metadata": {},
     "output_type": "display_data"
    },
    {
     "data": {
      "text/plain": [
       "'Scaling x'"
      ]
     },
     "metadata": {},
     "output_type": "display_data"
    },
    {
     "data": {
      "text/plain": [
       "[('n04428191', 'thresher', 0.0495715),\n",
       " ('n03888605', 'parallel_bars', 0.03983408),\n",
       " ('n02704792', 'amphibian', 0.031418584),\n",
       " ('n03478589', 'half_track', 0.026256643),\n",
       " ('n09421951', 'sandbar', 0.023281015)]"
      ]
     },
     "metadata": {},
     "output_type": "display_data"
    },
    {
     "data": {
      "text/plain": [
       "'Scaling y'"
      ]
     },
     "metadata": {},
     "output_type": "display_data"
    },
    {
     "data": {
      "text/plain": [
       "[('n03240683', 'drilling_platform', 0.02703393),\n",
       " ('n03095699', 'container_ship', 0.021519369),\n",
       " ('n11879895', 'rapeseed', 0.021036385),\n",
       " ('n09428293', 'seashore', 0.019655986),\n",
       " ('n02692877', 'airship', 0.018809257)]"
      ]
     },
     "metadata": {},
     "output_type": "display_data"
    },
    {
     "data": {
      "text/plain": [
       "[('n02437312', 'Arabian_camel', 0.11153806),\n",
       " ('n09428293', 'seashore', 0.046444263),\n",
       " ('n09399592', 'promontory', 0.043835565),\n",
       " ('n02410509', 'bison', 0.031667992),\n",
       " ('n09246464', 'cliff', 0.0272307)]"
      ]
     },
     "metadata": {},
     "output_type": "display_data"
    },
    {
     "data": {
      "text/plain": [
       "'Scaling x'"
      ]
     },
     "metadata": {},
     "output_type": "display_data"
    },
    {
     "data": {
      "text/plain": [
       "[('n09421951', 'sandbar', 0.07800804),\n",
       " ('n09428293', 'seashore', 0.07759913),\n",
       " ('n02437312', 'Arabian_camel', 0.06555834),\n",
       " ('n04606251', 'wreck', 0.019124743),\n",
       " ('n02391049', 'zebra', 0.013496453)]"
      ]
     },
     "metadata": {},
     "output_type": "display_data"
    },
    {
     "data": {
      "text/plain": [
       "'Scaling y'"
      ]
     },
     "metadata": {},
     "output_type": "display_data"
    },
    {
     "data": {
      "text/plain": [
       "[('n03888257', 'parachute', 0.020852216),\n",
       " ('n09399592', 'promontory', 0.019137478),\n",
       " ('n09428293', 'seashore', 0.017758038),\n",
       " ('n02066245', 'grey_whale', 0.017591089),\n",
       " ('n03240683', 'drilling_platform', 0.017177051)]"
      ]
     },
     "metadata": {},
     "output_type": "display_data"
    },
    {
     "data": {
      "text/plain": [
       "[('n04467665', 'trailer_truck', 0.06296328),\n",
       " ('n04604644', 'worm_fence', 0.04029058),\n",
       " ('n09399592', 'promontory', 0.029316645),\n",
       " ('n03095699', 'container_ship', 0.026885757),\n",
       " ('n09428293', 'seashore', 0.026552707)]"
      ]
     },
     "metadata": {},
     "output_type": "display_data"
    },
    {
     "data": {
      "text/plain": [
       "'Scaling x'"
      ]
     },
     "metadata": {},
     "output_type": "display_data"
    },
    {
     "data": {
      "text/plain": [
       "[('n02437312', 'Arabian_camel', 0.12936068),\n",
       " ('n09428293', 'seashore', 0.04597445),\n",
       " ('n09399592', 'promontory', 0.043809257),\n",
       " ('n03743016', 'megalith', 0.037315875),\n",
       " ('n02410509', 'bison', 0.02970361)]"
      ]
     },
     "metadata": {},
     "output_type": "display_data"
    },
    {
     "data": {
      "text/plain": [
       "'Scaling y'"
      ]
     },
     "metadata": {},
     "output_type": "display_data"
    },
    {
     "data": {
      "text/plain": [
       "[('n01943899', 'conch', 0.01753405),\n",
       " ('n09428293', 'seashore', 0.016984344),\n",
       " ('n02437312', 'Arabian_camel', 0.015498335),\n",
       " ('n09399592', 'promontory', 0.014777842),\n",
       " ('n04357314', 'sunscreen', 0.014425726)]"
      ]
     },
     "metadata": {},
     "output_type": "display_data"
    },
    {
     "data": {
      "text/plain": [
       "[('n09399592', 'promontory', 0.076141104),\n",
       " ('n04467665', 'trailer_truck', 0.058039173),\n",
       " ('n02410509', 'bison', 0.050557606),\n",
       " ('n07802026', 'hay', 0.050046876),\n",
       " ('n09428293', 'seashore', 0.043247532)]"
      ]
     },
     "metadata": {},
     "output_type": "display_data"
    },
    {
     "data": {
      "text/plain": [
       "'Scaling x'"
      ]
     },
     "metadata": {},
     "output_type": "display_data"
    },
    {
     "data": {
      "text/plain": [
       "[('n02437312', 'Arabian_camel', 0.07042415),\n",
       " ('n09399592', 'promontory', 0.06715704),\n",
       " ('n09428293', 'seashore', 0.05605059),\n",
       " ('n03743016', 'megalith', 0.045955274),\n",
       " ('n09246464', 'cliff', 0.03373794)]"
      ]
     },
     "metadata": {},
     "output_type": "display_data"
    },
    {
     "data": {
      "text/plain": [
       "'Scaling y'"
      ]
     },
     "metadata": {},
     "output_type": "display_data"
    },
    {
     "data": {
      "text/plain": [
       "[('n02134084', 'ice_bear', 0.06206569),\n",
       " ('n02422106', 'hartebeest', 0.046944566),\n",
       " ('n02437312', 'Arabian_camel', 0.039938346),\n",
       " ('n02417914', 'ibex', 0.024862824),\n",
       " ('n07802026', 'hay', 0.022863677)]"
      ]
     },
     "metadata": {},
     "output_type": "display_data"
    },
    {
     "data": {
      "text/plain": [
       "[('n04467665', 'trailer_truck', 0.07554054),\n",
       " ('n09399592', 'promontory', 0.059631903),\n",
       " ('n09428293', 'seashore', 0.03812404),\n",
       " ('n02410509', 'bison', 0.032914203),\n",
       " ('n02437312', 'Arabian_camel', 0.031311013)]"
      ]
     },
     "metadata": {},
     "output_type": "display_data"
    },
    {
     "data": {
      "text/plain": [
       "'Scaling x'"
      ]
     },
     "metadata": {},
     "output_type": "display_data"
    },
    {
     "data": {
      "text/plain": [
       "[('n09399592', 'promontory', 0.04436896),\n",
       " ('n04467665', 'trailer_truck', 0.039089914),\n",
       " ('n09428293', 'seashore', 0.037106495),\n",
       " ('n03095699', 'container_ship', 0.033938013),\n",
       " ('n07802026', 'hay', 0.029092172)]"
      ]
     },
     "metadata": {},
     "output_type": "display_data"
    },
    {
     "data": {
      "text/plain": [
       "'Scaling y'"
      ]
     },
     "metadata": {},
     "output_type": "display_data"
    },
    {
     "data": {
      "text/plain": [
       "[('n02422106', 'hartebeest', 0.09611435),\n",
       " ('n02437312', 'Arabian_camel', 0.062549755),\n",
       " ('n02134084', 'ice_bear', 0.049850654),\n",
       " ('n02423022', 'gazelle', 0.04723266),\n",
       " ('n02417914', 'ibex', 0.046812788)]"
      ]
     },
     "metadata": {},
     "output_type": "display_data"
    },
    {
     "data": {
      "text/plain": [
       "[('n04467665', 'trailer_truck', 0.05237131),\n",
       " ('n09399592', 'promontory', 0.05051763),\n",
       " ('n09428293', 'seashore', 0.02468664),\n",
       " ('n06359193', 'web_site', 0.022238083),\n",
       " ('n09246464', 'cliff', 0.02039615)]"
      ]
     },
     "metadata": {},
     "output_type": "display_data"
    },
    {
     "data": {
      "text/plain": [
       "'Scaling x'"
      ]
     },
     "metadata": {},
     "output_type": "display_data"
    },
    {
     "data": {
      "text/plain": [
       "[('n09399592', 'promontory', 0.05481032),\n",
       " ('n09428293', 'seashore', 0.041167825),\n",
       " ('n02417914', 'ibex', 0.039941005),\n",
       " ('n02410509', 'bison', 0.025310652),\n",
       " ('n02422106', 'hartebeest', 0.024495667)]"
      ]
     },
     "metadata": {},
     "output_type": "display_data"
    },
    {
     "data": {
      "text/plain": [
       "'Scaling y'"
      ]
     },
     "metadata": {},
     "output_type": "display_data"
    },
    {
     "data": {
      "text/plain": [
       "[('n02417914', 'ibex', 0.085915625),\n",
       " ('n02437312', 'Arabian_camel', 0.07319604),\n",
       " ('n02422106', 'hartebeest', 0.07072485),\n",
       " ('n02134084', 'ice_bear', 0.06597127),\n",
       " ('n02077923', 'sea_lion', 0.035226192)]"
      ]
     },
     "metadata": {},
     "output_type": "display_data"
    },
    {
     "data": {
      "text/plain": [
       "[('n04467665', 'trailer_truck', 0.07909018),\n",
       " ('n06794110', 'street_sign', 0.035541214),\n",
       " ('n04044716', 'radio_telescope', 0.030834217),\n",
       " ('n06359193', 'web_site', 0.027804108),\n",
       " ('n09399592', 'promontory', 0.024831092)]"
      ]
     },
     "metadata": {},
     "output_type": "display_data"
    },
    {
     "data": {
      "text/plain": [
       "'Scaling x'"
      ]
     },
     "metadata": {},
     "output_type": "display_data"
    },
    {
     "data": {
      "text/plain": [
       "[('n04467665', 'trailer_truck', 0.0329621),\n",
       " ('n06359193', 'web_site', 0.028951691),\n",
       " ('n04604644', 'worm_fence', 0.026599687),\n",
       " ('n02422106', 'hartebeest', 0.022625554),\n",
       " ('n09428293', 'seashore', 0.016559929)]"
      ]
     },
     "metadata": {},
     "output_type": "display_data"
    },
    {
     "data": {
      "text/plain": [
       "'Scaling y'"
      ]
     },
     "metadata": {},
     "output_type": "display_data"
    },
    {
     "data": {
      "text/plain": [
       "[('n02417914', 'ibex', 0.117235735),\n",
       " ('n02437312', 'Arabian_camel', 0.047543004),\n",
       " ('n02422106', 'hartebeest', 0.035039052),\n",
       " ('n02134084', 'ice_bear', 0.03312197),\n",
       " ('n09399592', 'promontory', 0.030871216)]"
      ]
     },
     "metadata": {},
     "output_type": "display_data"
    },
    {
     "data": {
      "text/plain": [
       "[('n09468604', 'valley', 0.055646993),\n",
       " ('n09399592', 'promontory', 0.04780055),\n",
       " ('n09428293', 'seashore', 0.042146683),\n",
       " ('n04467665', 'trailer_truck', 0.03054508),\n",
       " ('n02410509', 'bison', 0.030208344)]"
      ]
     },
     "metadata": {},
     "output_type": "display_data"
    },
    {
     "data": {
      "text/plain": [
       "'Scaling x'"
      ]
     },
     "metadata": {},
     "output_type": "display_data"
    },
    {
     "data": {
      "text/plain": [
       "[('n06359193', 'web_site', 0.13261253),\n",
       " ('n04467665', 'trailer_truck', 0.042536836),\n",
       " ('n09428293', 'seashore', 0.040421072),\n",
       " ('n07802026', 'hay', 0.039993268),\n",
       " ('n02692877', 'airship', 0.02897035)]"
      ]
     },
     "metadata": {},
     "output_type": "display_data"
    },
    {
     "data": {
      "text/plain": [
       "'Scaling y'"
      ]
     },
     "metadata": {},
     "output_type": "display_data"
    },
    {
     "data": {
      "text/plain": [
       "[('n02417914', 'ibex', 0.06550088),\n",
       " ('n02437312', 'Arabian_camel', 0.054783437),\n",
       " ('n02422106', 'hartebeest', 0.039866842),\n",
       " ('n07802026', 'hay', 0.036677316),\n",
       " ('n09428293', 'seashore', 0.027958503)]"
      ]
     },
     "metadata": {},
     "output_type": "display_data"
    },
    {
     "data": {
      "text/plain": [
       "[('n09399592', 'promontory', 0.10856451),\n",
       " ('n09428293', 'seashore', 0.050099928),\n",
       " ('n09468604', 'valley', 0.046322756),\n",
       " ('n03792972', 'mountain_tent', 0.036177766),\n",
       " ('n09246464', 'cliff', 0.03486597)]"
      ]
     },
     "metadata": {},
     "output_type": "display_data"
    },
    {
     "data": {
      "text/plain": [
       "'Scaling x'"
      ]
     },
     "metadata": {},
     "output_type": "display_data"
    },
    {
     "data": {
      "text/plain": [
       "[('n09428293', 'seashore', 0.04028878),\n",
       " ('n02437312', 'Arabian_camel', 0.038829457),\n",
       " ('n02422106', 'hartebeest', 0.028264485),\n",
       " ('n09399592', 'promontory', 0.027067328),\n",
       " ('n04467665', 'trailer_truck', 0.025061768)]"
      ]
     },
     "metadata": {},
     "output_type": "display_data"
    },
    {
     "data": {
      "text/plain": [
       "'Scaling y'"
      ]
     },
     "metadata": {},
     "output_type": "display_data"
    },
    {
     "data": {
      "text/plain": [
       "[('n09246464', 'cliff', 0.07825151),\n",
       " ('n09399592', 'promontory', 0.07569832),\n",
       " ('n02417914', 'ibex', 0.055931594),\n",
       " ('n09193705', 'alp', 0.03910354),\n",
       " ('n09428293', 'seashore', 0.036862347)]"
      ]
     },
     "metadata": {},
     "output_type": "display_data"
    },
    {
     "data": {
      "text/plain": [
       "[('n09399592', 'promontory', 0.09462705),\n",
       " ('n09428293', 'seashore', 0.06551409),\n",
       " ('n03792972', 'mountain_tent', 0.040761147),\n",
       " ('n09421951', 'sandbar', 0.034354027),\n",
       " ('n09246464', 'cliff', 0.025352374)]"
      ]
     },
     "metadata": {},
     "output_type": "display_data"
    },
    {
     "data": {
      "text/plain": [
       "'Scaling x'"
      ]
     },
     "metadata": {},
     "output_type": "display_data"
    },
    {
     "data": {
      "text/plain": [
       "[('n09428293', 'seashore', 0.10381928),\n",
       " ('n09399592', 'promontory', 0.06553513),\n",
       " ('n09421951', 'sandbar', 0.0447376),\n",
       " ('n03792972', 'mountain_tent', 0.024483763),\n",
       " ('n02437312', 'Arabian_camel', 0.019961217)]"
      ]
     },
     "metadata": {},
     "output_type": "display_data"
    },
    {
     "data": {
      "text/plain": [
       "'Scaling y'"
      ]
     },
     "metadata": {},
     "output_type": "display_data"
    },
    {
     "data": {
      "text/plain": [
       "[('n09246464', 'cliff', 0.08889863),\n",
       " ('n09399592', 'promontory', 0.078876324),\n",
       " ('n02417914', 'ibex', 0.054451037),\n",
       " ('n09193705', 'alp', 0.035086315),\n",
       " ('n09468604', 'valley', 0.0347358)]"
      ]
     },
     "metadata": {},
     "output_type": "display_data"
    },
    {
     "data": {
      "text/plain": [
       "[('n09399592', 'promontory', 0.11317557),\n",
       " ('n09428293', 'seashore', 0.052289598),\n",
       " ('n09246464', 'cliff', 0.038687292),\n",
       " ('n09421951', 'sandbar', 0.036255248),\n",
       " ('n03743016', 'megalith', 0.03569481)]"
      ]
     },
     "metadata": {},
     "output_type": "display_data"
    },
    {
     "data": {
      "text/plain": [
       "'Scaling x'"
      ]
     },
     "metadata": {},
     "output_type": "display_data"
    },
    {
     "data": {
      "text/plain": [
       "[('n09428293', 'seashore', 0.09084094),\n",
       " ('n09399592', 'promontory', 0.09006982),\n",
       " ('n09246464', 'cliff', 0.05009621),\n",
       " ('n09421951', 'sandbar', 0.04437622),\n",
       " ('n03743016', 'megalith', 0.030423349)]"
      ]
     },
     "metadata": {},
     "output_type": "display_data"
    },
    {
     "data": {
      "text/plain": [
       "'Scaling y'"
      ]
     },
     "metadata": {},
     "output_type": "display_data"
    },
    {
     "data": {
      "text/plain": [
       "[('n09399592', 'promontory', 0.083359204),\n",
       " ('n09246464', 'cliff', 0.07602239),\n",
       " ('n02417914', 'ibex', 0.05882084),\n",
       " ('n03743016', 'megalith', 0.045083437),\n",
       " ('n03792782', 'mountain_bike', 0.034048717)]"
      ]
     },
     "metadata": {},
     "output_type": "display_data"
    },
    {
     "data": {
      "text/plain": [
       "[('n09428293', 'seashore', 0.09949893),\n",
       " ('n09399592', 'promontory', 0.06473191),\n",
       " ('n09246464', 'cliff', 0.038822614),\n",
       " ('n02410509', 'bison', 0.034129888),\n",
       " ('n07802026', 'hay', 0.027493842)]"
      ]
     },
     "metadata": {},
     "output_type": "display_data"
    },
    {
     "data": {
      "text/plain": [
       "'Scaling x'"
      ]
     },
     "metadata": {},
     "output_type": "display_data"
    },
    {
     "data": {
      "text/plain": [
       "[('n09399592', 'promontory', 0.06172566),\n",
       " ('n09428293', 'seashore', 0.05341264),\n",
       " ('n02437312', 'Arabian_camel', 0.030776124),\n",
       " ('n03743016', 'megalith', 0.02957853),\n",
       " ('n02410509', 'bison', 0.027893666)]"
      ]
     },
     "metadata": {},
     "output_type": "display_data"
    },
    {
     "data": {
      "text/plain": [
       "'Scaling y'"
      ]
     },
     "metadata": {},
     "output_type": "display_data"
    },
    {
     "data": {
      "text/plain": [
       "[('n02417914', 'ibex', 0.07042558),\n",
       " ('n09246464', 'cliff', 0.059449613),\n",
       " ('n09399592', 'promontory', 0.046175715),\n",
       " ('n09193705', 'alp', 0.03971895),\n",
       " ('n09428293', 'seashore', 0.03309057)]"
      ]
     },
     "metadata": {},
     "output_type": "display_data"
    },
    {
     "name": "stdout",
     "output_type": "stream",
     "text": [
      "y:  45\n",
      "y:  46\n",
      "y:  47\n",
      "y:  48\n",
      "y:  49\n",
      "y:  50\n",
      "y:  51\n",
      "y:  52\n",
      "y:  53\n",
      "y:  54\n",
      "y:  55\n",
      "y:  56\n",
      "y:  57\n",
      "y:  58\n",
      "y:  59\n",
      "y:  60\n",
      "y:  61\n",
      "y:  62\n",
      "y:  63\n",
      "y:  64\n",
      "y:  65\n",
      "y:  66\n",
      "y:  67\n",
      "y:  68\n",
      "y:  69\n",
      "y:  70\n",
      "y:  71\n",
      "y:  72\n",
      "y:  73\n",
      "y:  74\n",
      "y:  75\n",
      "y:  76\n",
      "y:  77\n",
      "y:  78\n",
      "y:  79\n",
      "y:  80\n",
      "y:  81\n",
      "y:  82\n",
      "y:  83\n",
      "y:  84\n",
      "y:  85\n",
      "y:  86\n",
      "y:  87\n",
      "y:  88\n"
     ]
    },
    {
     "data": {
      "text/plain": [
       "[('n06359193', 'web_site', 0.22684959),\n",
       " ('n02106382', 'Bouvier_des_Flandres', 0.021207998),\n",
       " ('n01518878', 'ostrich', 0.017333904),\n",
       " ('n02105056', 'groenendael', 0.017254991),\n",
       " ('n03291819', 'envelope', 0.014371421)]"
      ]
     },
     "metadata": {},
     "output_type": "display_data"
    },
    {
     "data": {
      "text/plain": [
       "'Scaling x'"
      ]
     },
     "metadata": {},
     "output_type": "display_data"
    },
    {
     "data": {
      "text/plain": [
       "[('n06359193', 'web_site', 0.14969984),\n",
       " ('n04357314', 'sunscreen', 0.051446367),\n",
       " ('n03291819', 'envelope', 0.025891986),\n",
       " ('n03690938', 'lotion', 0.021941468),\n",
       " ('n02106382', 'Bouvier_des_Flandres', 0.016422968)]"
      ]
     },
     "metadata": {},
     "output_type": "display_data"
    },
    {
     "data": {
      "text/plain": [
       "'Scaling y'"
      ]
     },
     "metadata": {},
     "output_type": "display_data"
    },
    {
     "data": {
      "text/plain": [
       "[('n06359193', 'web_site', 0.27353227),\n",
       " ('n03291819', 'envelope', 0.05590074),\n",
       " ('n04357314', 'sunscreen', 0.02816008),\n",
       " ('n03532672', 'hook', 0.023953158),\n",
       " ('n04118776', 'rule', 0.021278948)]"
      ]
     },
     "metadata": {},
     "output_type": "display_data"
    },
    {
     "data": {
      "text/plain": [
       "[('n06359193', 'web_site', 0.21216229),\n",
       " ('n03743016', 'megalith', 0.072713725),\n",
       " ('n02814860', 'beacon', 0.046940234),\n",
       " ('n09246464', 'cliff', 0.030581364),\n",
       " ('n04008634', 'projectile', 0.027797207)]"
      ]
     },
     "metadata": {},
     "output_type": "display_data"
    },
    {
     "data": {
      "text/plain": [
       "'Scaling x'"
      ]
     },
     "metadata": {},
     "output_type": "display_data"
    },
    {
     "data": {
      "text/plain": [
       "[('n06359193', 'web_site', 0.23743072),\n",
       " ('n04118776', 'rule', 0.040432025),\n",
       " ('n03976657', 'pole', 0.03543253),\n",
       " ('n03532672', 'hook', 0.021431582),\n",
       " ('n03291819', 'envelope', 0.021407949)]"
      ]
     },
     "metadata": {},
     "output_type": "display_data"
    },
    {
     "data": {
      "text/plain": [
       "'Scaling y'"
      ]
     },
     "metadata": {},
     "output_type": "display_data"
    },
    {
     "data": {
      "text/plain": [
       "[('n09246464', 'cliff', 0.1726979),\n",
       " ('n06359193', 'web_site', 0.058762573),\n",
       " ('n03743016', 'megalith', 0.05152747),\n",
       " ('n02814860', 'beacon', 0.049814012),\n",
       " ('n09399592', 'promontory', 0.03481335)]"
      ]
     },
     "metadata": {},
     "output_type": "display_data"
    },
    {
     "data": {
      "text/plain": [
       "[('n03743016', 'megalith', 0.1500038),\n",
       " ('n07802026', 'hay', 0.06302051),\n",
       " ('n02410509', 'bison', 0.057945233),\n",
       " ('n09246464', 'cliff', 0.037883684),\n",
       " ('n02437312', 'Arabian_camel', 0.029642703)]"
      ]
     },
     "metadata": {},
     "output_type": "display_data"
    },
    {
     "data": {
      "text/plain": [
       "'Scaling x'"
      ]
     },
     "metadata": {},
     "output_type": "display_data"
    },
    {
     "data": {
      "text/plain": [
       "[('n01518878', 'ostrich', 0.06267718),\n",
       " ('n07802026', 'hay', 0.062272307),\n",
       " ('n02437312', 'Arabian_camel', 0.047103718),\n",
       " ('n02391049', 'zebra', 0.04135556),\n",
       " ('n03888257', 'parachute', 0.037836865)]"
      ]
     },
     "metadata": {},
     "output_type": "display_data"
    },
    {
     "data": {
      "text/plain": [
       "'Scaling y'"
      ]
     },
     "metadata": {},
     "output_type": "display_data"
    },
    {
     "data": {
      "text/plain": [
       "[('n03743016', 'megalith', 0.7117589),\n",
       " ('n09246464', 'cliff', 0.13336249),\n",
       " ('n09399592', 'promontory', 0.03911653),\n",
       " ('n04326547', 'stone_wall', 0.031318944),\n",
       " ('n03042490', 'cliff_dwelling', 0.015723791)]"
      ]
     },
     "metadata": {},
     "output_type": "display_data"
    },
    {
     "data": {
      "text/plain": [
       "[('n03743016', 'megalith', 0.29246056),\n",
       " ('n07802026', 'hay', 0.08426773),\n",
       " ('n02410509', 'bison', 0.075774044),\n",
       " ('n09246464', 'cliff', 0.049610395),\n",
       " ('n09399592', 'promontory', 0.044384714)]"
      ]
     },
     "metadata": {},
     "output_type": "display_data"
    },
    {
     "data": {
      "text/plain": [
       "'Scaling x'"
      ]
     },
     "metadata": {},
     "output_type": "display_data"
    },
    {
     "data": {
      "text/plain": [
       "[('n09246464', 'cliff', 0.16857062),\n",
       " ('n09399592', 'promontory', 0.15501834),\n",
       " ('n09428293', 'seashore', 0.07484729),\n",
       " ('n03743016', 'megalith', 0.059073515),\n",
       " ('n04606251', 'wreck', 0.025578432)]"
      ]
     },
     "metadata": {},
     "output_type": "display_data"
    },
    {
     "data": {
      "text/plain": [
       "'Scaling y'"
      ]
     },
     "metadata": {},
     "output_type": "display_data"
    },
    {
     "data": {
      "text/plain": [
       "[('n03743016', 'megalith', 0.82403225),\n",
       " ('n09246464', 'cliff', 0.07091428),\n",
       " ('n09399592', 'promontory', 0.02620083),\n",
       " ('n04326547', 'stone_wall', 0.017094327),\n",
       " ('n03042490', 'cliff_dwelling', 0.009071597)]"
      ]
     },
     "metadata": {},
     "output_type": "display_data"
    },
    {
     "data": {
      "text/plain": [
       "[('n07802026', 'hay', 0.0802218),\n",
       " ('n03496892', 'harvester', 0.07401858),\n",
       " ('n03594945', 'jeep', 0.073376864),\n",
       " ('n03743016', 'megalith', 0.05987589),\n",
       " ('n02410509', 'bison', 0.051304996)]"
      ]
     },
     "metadata": {},
     "output_type": "display_data"
    },
    {
     "data": {
      "text/plain": [
       "'Scaling x'"
      ]
     },
     "metadata": {},
     "output_type": "display_data"
    },
    {
     "data": {
      "text/plain": [
       "[('n09399592', 'promontory', 0.13713214),\n",
       " ('n09246464', 'cliff', 0.10721902),\n",
       " ('n09428293', 'seashore', 0.08064612),\n",
       " ('n09421951', 'sandbar', 0.025975736),\n",
       " ('n04606251', 'wreck', 0.023036677)]"
      ]
     },
     "metadata": {},
     "output_type": "display_data"
    },
    {
     "data": {
      "text/plain": [
       "'Scaling y'"
      ]
     },
     "metadata": {},
     "output_type": "display_data"
    },
    {
     "data": {
      "text/plain": [
       "[('n03743016', 'megalith', 0.71148556),\n",
       " ('n09246464', 'cliff', 0.08218781),\n",
       " ('n04326547', 'stone_wall', 0.025235288),\n",
       " ('n09399592', 'promontory', 0.01574495),\n",
       " ('n04417672', 'thatch', 0.007700424)]"
      ]
     },
     "metadata": {},
     "output_type": "display_data"
    },
    {
     "data": {
      "text/plain": [
       "[('n06794110', 'street_sign', 0.6906807),\n",
       " ('n06359193', 'web_site', 0.017160164),\n",
       " ('n04370456', 'sweatshirt', 0.013824998),\n",
       " ('n03743016', 'megalith', 0.012950219),\n",
       " ('n03891251', 'park_bench', 0.007483741)]"
      ]
     },
     "metadata": {},
     "output_type": "display_data"
    },
    {
     "data": {
      "text/plain": [
       "'Scaling x'"
      ]
     },
     "metadata": {},
     "output_type": "display_data"
    },
    {
     "data": {
      "text/plain": [
       "[('n09399592', 'promontory', 0.11599805),\n",
       " ('n09246464', 'cliff', 0.08051135),\n",
       " ('n03743016', 'megalith', 0.05029088),\n",
       " ('n09428293', 'seashore', 0.043234475),\n",
       " ('n03594945', 'jeep', 0.034715816)]"
      ]
     },
     "metadata": {},
     "output_type": "display_data"
    },
    {
     "data": {
      "text/plain": [
       "'Scaling y'"
      ]
     },
     "metadata": {},
     "output_type": "display_data"
    },
    {
     "data": {
      "text/plain": [
       "[('n06794110', 'street_sign', 0.38023213),\n",
       " ('n03743016', 'megalith', 0.3213831),\n",
       " ('n09246464', 'cliff', 0.043924425),\n",
       " ('n04326547', 'stone_wall', 0.012496161),\n",
       " ('n09399592', 'promontory', 0.011894656)]"
      ]
     },
     "metadata": {},
     "output_type": "display_data"
    },
    {
     "data": {
      "text/plain": [
       "[('n06794110', 'street_sign', 0.11827578),\n",
       " ('n03891251', 'park_bench', 0.0914668),\n",
       " ('n04090263', 'rifle', 0.048801698),\n",
       " ('n02437312', 'Arabian_camel', 0.015874043),\n",
       " ('n04370456', 'sweatshirt', 0.014694769)]"
      ]
     },
     "metadata": {},
     "output_type": "display_data"
    },
    {
     "data": {
      "text/plain": [
       "'Scaling x'"
      ]
     },
     "metadata": {},
     "output_type": "display_data"
    },
    {
     "data": {
      "text/plain": [
       "[('n06794110', 'street_sign', 0.41838533),\n",
       " ('n03196217', 'digital_clock', 0.028228367),\n",
       " ('n04509417', 'unicycle', 0.025269296),\n",
       " ('n04485082', 'tripod', 0.014729888),\n",
       " ('n02835271', 'bicycle-built-for-two', 0.014684024)]"
      ]
     },
     "metadata": {},
     "output_type": "display_data"
    },
    {
     "data": {
      "text/plain": [
       "'Scaling y'"
      ]
     },
     "metadata": {},
     "output_type": "display_data"
    },
    {
     "data": {
      "text/plain": [
       "[('n06794110', 'street_sign', 0.38735503),\n",
       " ('n03743016', 'megalith', 0.022874236),\n",
       " ('n02417914', 'ibex', 0.018066766),\n",
       " ('n04467665', 'trailer_truck', 0.01756428),\n",
       " ('n03792782', 'mountain_bike', 0.01370804)]"
      ]
     },
     "metadata": {},
     "output_type": "display_data"
    },
    {
     "data": {
      "text/plain": [
       "[('n06794110', 'street_sign', 0.10910371),\n",
       " ('n09835506', 'ballplayer', 0.06894879),\n",
       " ('n02437312', 'Arabian_camel', 0.041367855),\n",
       " ('n04090263', 'rifle', 0.03548684),\n",
       " ('n03891251', 'park_bench', 0.03082052)]"
      ]
     },
     "metadata": {},
     "output_type": "display_data"
    },
    {
     "data": {
      "text/plain": [
       "'Scaling x'"
      ]
     },
     "metadata": {},
     "output_type": "display_data"
    },
    {
     "data": {
      "text/plain": [
       "[('n06794110', 'street_sign', 0.6504099),\n",
       " ('n03196217', 'digital_clock', 0.02138213),\n",
       " ('n06359193', 'web_site', 0.010799175),\n",
       " ('n04149813', 'scoreboard', 0.0089112995),\n",
       " ('n04485082', 'tripod', 0.008056625)]"
      ]
     },
     "metadata": {},
     "output_type": "display_data"
    },
    {
     "data": {
      "text/plain": [
       "'Scaling y'"
      ]
     },
     "metadata": {},
     "output_type": "display_data"
    },
    {
     "data": {
      "text/plain": [
       "[('n06794110', 'street_sign', 0.18664123),\n",
       " ('n02104029', 'kuvasz', 0.06740318),\n",
       " ('n02105505', 'komondor', 0.03978098),\n",
       " ('n04357314', 'sunscreen', 0.024541037),\n",
       " ('n02091635', 'otterhound', 0.019330746)]"
      ]
     },
     "metadata": {},
     "output_type": "display_data"
    },
    {
     "data": {
      "text/plain": [
       "[('n09835506', 'ballplayer', 0.10554245),\n",
       " ('n06794110', 'street_sign', 0.0758869),\n",
       " ('n02437312', 'Arabian_camel', 0.072128505),\n",
       " ('n03888605', 'parallel_bars', 0.03214274),\n",
       " ('n04090263', 'rifle', 0.03190308)]"
      ]
     },
     "metadata": {},
     "output_type": "display_data"
    },
    {
     "data": {
      "text/plain": [
       "'Scaling x'"
      ]
     },
     "metadata": {},
     "output_type": "display_data"
    },
    {
     "data": {
      "text/plain": [
       "[('n06794110', 'street_sign', 0.32778156),\n",
       " ('n03888605', 'parallel_bars', 0.057663564),\n",
       " ('n04370456', 'sweatshirt', 0.024056887),\n",
       " ('n03891251', 'park_bench', 0.021674046),\n",
       " ('n03196217', 'digital_clock', 0.015150207)]"
      ]
     },
     "metadata": {},
     "output_type": "display_data"
    },
    {
     "data": {
      "text/plain": [
       "'Scaling y'"
      ]
     },
     "metadata": {},
     "output_type": "display_data"
    },
    {
     "data": {
      "text/plain": [
       "[('n06794110', 'street_sign', 0.25275838),\n",
       " ('n02437312', 'Arabian_camel', 0.016873352),\n",
       " ('n04149813', 'scoreboard', 0.016741492),\n",
       " ('n04357314', 'sunscreen', 0.015833009),\n",
       " ('n04428191', 'thresher', 0.014491366)]"
      ]
     },
     "metadata": {},
     "output_type": "display_data"
    },
    {
     "data": {
      "text/plain": [
       "[('n03888605', 'parallel_bars', 0.052322157),\n",
       " ('n03891251', 'park_bench', 0.049973667),\n",
       " ('n02437312', 'Arabian_camel', 0.03887739),\n",
       " ('n09835506', 'ballplayer', 0.031202521),\n",
       " ('n06794110', 'street_sign', 0.026832959)]"
      ]
     },
     "metadata": {},
     "output_type": "display_data"
    },
    {
     "data": {
      "text/plain": [
       "'Scaling x'"
      ]
     },
     "metadata": {},
     "output_type": "display_data"
    },
    {
     "data": {
      "text/plain": [
       "[('n04370456', 'sweatshirt', 0.044905487),\n",
       " ('n09835506', 'ballplayer', 0.037699293),\n",
       " ('n03891251', 'park_bench', 0.037516307),\n",
       " ('n04136333', 'sarong', 0.036920197),\n",
       " ('n04357314', 'sunscreen', 0.02911594)]"
      ]
     },
     "metadata": {},
     "output_type": "display_data"
    },
    {
     "data": {
      "text/plain": [
       "'Scaling y'"
      ]
     },
     "metadata": {},
     "output_type": "display_data"
    },
    {
     "data": {
      "text/plain": [
       "[('n02777292', 'balance_beam', 0.12396637),\n",
       " ('n06794110', 'street_sign', 0.06664316),\n",
       " ('n06359193', 'web_site', 0.024033204),\n",
       " ('n04357314', 'sunscreen', 0.023633417),\n",
       " ('n04149813', 'scoreboard', 0.02184797)]"
      ]
     },
     "metadata": {},
     "output_type": "display_data"
    },
    {
     "data": {
      "text/plain": [
       "[('n04090263', 'rifle', 0.07590924),\n",
       " ('n02841315', 'binoculars', 0.041705634),\n",
       " ('n09835506', 'ballplayer', 0.028958434),\n",
       " ('n03124170', 'cowboy_hat', 0.021586638),\n",
       " ('n02749479', 'assault_rifle', 0.021400182)]"
      ]
     },
     "metadata": {},
     "output_type": "display_data"
    },
    {
     "data": {
      "text/plain": [
       "'Scaling x'"
      ]
     },
     "metadata": {},
     "output_type": "display_data"
    },
    {
     "data": {
      "text/plain": [
       "[('n03891251', 'park_bench', 0.053749755),\n",
       " ('n02841315', 'binoculars', 0.040752806),\n",
       " ('n04370456', 'sweatshirt', 0.038201034),\n",
       " ('n09835506', 'ballplayer', 0.03237212),\n",
       " ('n03814639', 'neck_brace', 0.02904198)]"
      ]
     },
     "metadata": {},
     "output_type": "display_data"
    },
    {
     "data": {
      "text/plain": [
       "'Scaling y'"
      ]
     },
     "metadata": {},
     "output_type": "display_data"
    },
    {
     "data": {
      "text/plain": [
       "[('n04467665', 'trailer_truck', 0.07950345),\n",
       " ('n03796401', 'moving_van', 0.048440374),\n",
       " ('n04065272', 'recreational_vehicle', 0.031065928),\n",
       " ('n06359193', 'web_site', 0.028622659),\n",
       " ('n06794110', 'street_sign', 0.024522252)]"
      ]
     },
     "metadata": {},
     "output_type": "display_data"
    },
    {
     "data": {
      "text/plain": [
       "[('n04485082', 'tripod', 0.050285064),\n",
       " ('n04090263', 'rifle', 0.045777474),\n",
       " ('n02841315', 'binoculars', 0.040670175),\n",
       " ('n04428191', 'thresher', 0.032823034),\n",
       " ('n03967562', 'plow', 0.02665593)]"
      ]
     },
     "metadata": {},
     "output_type": "display_data"
    },
    {
     "data": {
      "text/plain": [
       "'Scaling x'"
      ]
     },
     "metadata": {},
     "output_type": "display_data"
    },
    {
     "data": {
      "text/plain": [
       "[('n03888605', 'parallel_bars', 0.18636812),\n",
       " ('n03535780', 'horizontal_bar', 0.068124056),\n",
       " ('n04482393', 'tricycle', 0.0394613),\n",
       " ('n09835506', 'ballplayer', 0.035695016),\n",
       " ('n02437312', 'Arabian_camel', 0.033744477)]"
      ]
     },
     "metadata": {},
     "output_type": "display_data"
    },
    {
     "data": {
      "text/plain": [
       "'Scaling y'"
      ]
     },
     "metadata": {},
     "output_type": "display_data"
    },
    {
     "data": {
      "text/plain": [
       "[('n04467665', 'trailer_truck', 0.050004072),\n",
       " ('n04065272', 'recreational_vehicle', 0.04970888),\n",
       " ('n09193705', 'alp', 0.037776835),\n",
       " ('n09399592', 'promontory', 0.03675622),\n",
       " ('n09246464', 'cliff', 0.032008406)]"
      ]
     },
     "metadata": {},
     "output_type": "display_data"
    },
    {
     "data": {
      "text/plain": [
       "[('n02437312', 'Arabian_camel', 0.04187708),\n",
       " ('n01518878', 'ostrich', 0.038342852),\n",
       " ('n04008634', 'projectile', 0.035729464),\n",
       " ('n03773504', 'missile', 0.030290805),\n",
       " ('n04428191', 'thresher', 0.02958064)]"
      ]
     },
     "metadata": {},
     "output_type": "display_data"
    },
    {
     "data": {
      "text/plain": [
       "'Scaling x'"
      ]
     },
     "metadata": {},
     "output_type": "display_data"
    },
    {
     "data": {
      "text/plain": [
       "[('n02437312', 'Arabian_camel', 0.08943952),\n",
       " ('n01518878', 'ostrich', 0.066259615),\n",
       " ('n09428293', 'seashore', 0.041773673),\n",
       " ('n09421951', 'sandbar', 0.04036098),\n",
       " ('n03888605', 'parallel_bars', 0.020839483)]"
      ]
     },
     "metadata": {},
     "output_type": "display_data"
    },
    {
     "data": {
      "text/plain": [
       "'Scaling y'"
      ]
     },
     "metadata": {},
     "output_type": "display_data"
    },
    {
     "data": {
      "text/plain": [
       "[('n09399592', 'promontory', 0.13616791),\n",
       " ('n09246464', 'cliff', 0.09594059),\n",
       " ('n02417914', 'ibex', 0.07010347),\n",
       " ('n09428293', 'seashore', 0.0371259),\n",
       " ('n09468604', 'valley', 0.02850346)]"
      ]
     },
     "metadata": {},
     "output_type": "display_data"
    },
    {
     "data": {
      "text/plain": [
       "[('n03496892', 'harvester', 0.28918126),\n",
       " ('n04428191', 'thresher', 0.14302915),\n",
       " ('n03967562', 'plow', 0.07266599),\n",
       " ('n04465501', 'tractor', 0.036744222),\n",
       " ('n04467665', 'trailer_truck', 0.036098704)]"
      ]
     },
     "metadata": {},
     "output_type": "display_data"
    },
    {
     "data": {
      "text/plain": [
       "'Scaling x'"
      ]
     },
     "metadata": {},
     "output_type": "display_data"
    },
    {
     "data": {
      "text/plain": [
       "[('n02437312', 'Arabian_camel', 0.106883414),\n",
       " ('n01518878', 'ostrich', 0.04513126),\n",
       " ('n09428293', 'seashore', 0.037921857),\n",
       " ('n09421951', 'sandbar', 0.029548446),\n",
       " ('n02410509', 'bison', 0.029353527)]"
      ]
     },
     "metadata": {},
     "output_type": "display_data"
    },
    {
     "data": {
      "text/plain": [
       "'Scaling y'"
      ]
     },
     "metadata": {},
     "output_type": "display_data"
    },
    {
     "data": {
      "text/plain": [
       "[('n09399592', 'promontory', 0.1126632),\n",
       " ('n09246464', 'cliff', 0.09611496),\n",
       " ('n02417914', 'ibex', 0.05662223),\n",
       " ('n02361337', 'marmot', 0.035927717),\n",
       " ('n03743016', 'megalith', 0.034116197)]"
      ]
     },
     "metadata": {},
     "output_type": "display_data"
    },
    {
     "data": {
      "text/plain": [
       "[('n06794110', 'street_sign', 0.13132638),\n",
       " ('n03496892', 'harvester', 0.051737376),\n",
       " ('n04428191', 'thresher', 0.041394185),\n",
       " ('n06359193', 'web_site', 0.041143067),\n",
       " ('n07802026', 'hay', 0.031088464)]"
      ]
     },
     "metadata": {},
     "output_type": "display_data"
    },
    {
     "data": {
      "text/plain": [
       "'Scaling x'"
      ]
     },
     "metadata": {},
     "output_type": "display_data"
    },
    {
     "data": {
      "text/plain": [
       "[('n01665541', 'leatherback_turtle', 0.07564131),\n",
       " ('n09399592', 'promontory', 0.051776387),\n",
       " ('n09428293', 'seashore', 0.040909637),\n",
       " ('n09246464', 'cliff', 0.03278605),\n",
       " ('n02037110', 'oystercatcher', 0.029541684)]"
      ]
     },
     "metadata": {},
     "output_type": "display_data"
    },
    {
     "data": {
      "text/plain": [
       "'Scaling y'"
      ]
     },
     "metadata": {},
     "output_type": "display_data"
    },
    {
     "data": {
      "text/plain": [
       "[('n02417914', 'ibex', 0.15534467),\n",
       " ('n03743016', 'megalith', 0.07304825),\n",
       " ('n02361337', 'marmot', 0.07015143),\n",
       " ('n09246464', 'cliff', 0.063645765),\n",
       " ('n09399592', 'promontory', 0.062647946)]"
      ]
     },
     "metadata": {},
     "output_type": "display_data"
    },
    {
     "ename": "KeyboardInterrupt",
     "evalue": "",
     "output_type": "error",
     "traceback": [
      "\u001b[0;31m---------------------------------------------------------------------------\u001b[0m",
      "\u001b[0;31mKeyboardInterrupt\u001b[0m                         Traceback (most recent call last)",
      "\u001b[0;32m<ipython-input-51-ff88e3f300d4>\u001b[0m in \u001b[0;36m<module>\u001b[0;34m()\u001b[0m\n\u001b[1;32m    104\u001b[0m                     \u001b[0;31m#Perform classification on the baseline window\u001b[0m\u001b[0;34m\u001b[0m\u001b[0;34m\u001b[0m\u001b[0m\n\u001b[1;32m    105\u001b[0m                     \u001b[0mcrop\u001b[0m \u001b[0;34m=\u001b[0m \u001b[0mimage\u001b[0m\u001b[0;34m[\u001b[0m\u001b[0my\u001b[0m\u001b[0;34m:\u001b[0m\u001b[0my\u001b[0m\u001b[0;34m+\u001b[0m\u001b[0mwindowSize\u001b[0m\u001b[0;34m,\u001b[0m \u001b[0mx\u001b[0m\u001b[0;34m:\u001b[0m\u001b[0mx\u001b[0m\u001b[0;34m+\u001b[0m\u001b[0mwindowSize\u001b[0m\u001b[0;34m]\u001b[0m\u001b[0;34m\u001b[0m\u001b[0m\n\u001b[0;32m--> 106\u001b[0;31m                     \u001b[0mtemp\u001b[0m \u001b[0;34m=\u001b[0m \u001b[0mmodelPredict\u001b[0m\u001b[0;34m(\u001b[0m\u001b[0mcrop\u001b[0m\u001b[0;34m,\u001b[0m \u001b[0mcurrentScale\u001b[0m\u001b[0;34m)\u001b[0m\u001b[0;34m\u001b[0m\u001b[0m\n\u001b[0m\u001b[1;32m    107\u001b[0m                     \u001b[0mresults\u001b[0m\u001b[0;34m.\u001b[0m\u001b[0mappend\u001b[0m\u001b[0;34m(\u001b[0m\u001b[0mtemp\u001b[0m\u001b[0;34m)\u001b[0m\u001b[0;34m\u001b[0m\u001b[0m\n\u001b[1;32m    108\u001b[0m \u001b[0;34m\u001b[0m\u001b[0m\n",
      "\u001b[0;32m<ipython-input-51-ff88e3f300d4>\u001b[0m in \u001b[0;36mmodelPredict\u001b[0;34m(predictionImage, currentScale, currentScaleX, currentScaleY)\u001b[0m\n\u001b[1;32m     39\u001b[0m     \u001b[0mpredictionImage\u001b[0m \u001b[0;34m=\u001b[0m \u001b[0mpredictionImage\u001b[0m\u001b[0;34m.\u001b[0m\u001b[0mastype\u001b[0m\u001b[0;34m(\u001b[0m\u001b[0mnp\u001b[0m\u001b[0;34m.\u001b[0m\u001b[0mfloat32\u001b[0m\u001b[0;34m)\u001b[0m\u001b[0;34m\u001b[0m\u001b[0m\n\u001b[1;32m     40\u001b[0m     \u001b[0mpredictionImage\u001b[0m \u001b[0;34m=\u001b[0m \u001b[0mnp\u001b[0m\u001b[0;34m.\u001b[0m\u001b[0mexpand_dims\u001b[0m\u001b[0;34m(\u001b[0m\u001b[0mpredictionImage\u001b[0m\u001b[0;34m,\u001b[0m \u001b[0maxis\u001b[0m\u001b[0;34m=\u001b[0m\u001b[0;36m0\u001b[0m\u001b[0;34m)\u001b[0m\u001b[0;34m\u001b[0m\u001b[0m\n\u001b[0;32m---> 41\u001b[0;31m     \u001b[0mresult\u001b[0m \u001b[0;34m=\u001b[0m \u001b[0mmodel\u001b[0m\u001b[0;34m.\u001b[0m\u001b[0mpredict\u001b[0m\u001b[0;34m(\u001b[0m\u001b[0mpredictionImage\u001b[0m\u001b[0;34m)\u001b[0m\u001b[0;34m\u001b[0m\u001b[0m\n\u001b[0m\u001b[1;32m     42\u001b[0m \u001b[0;34m\u001b[0m\u001b[0m\n\u001b[1;32m     43\u001b[0m     \u001b[0;31m######################################################\u001b[0m\u001b[0;34m\u001b[0m\u001b[0;34m\u001b[0m\u001b[0m\n",
      "\u001b[0;32m/usr/local/lib/python3.5/dist-packages/keras/engine/training.py\u001b[0m in \u001b[0;36mpredict\u001b[0;34m(self, x, batch_size, verbose, steps)\u001b[0m\n\u001b[1;32m   1840\u001b[0m         \u001b[0mf\u001b[0m \u001b[0;34m=\u001b[0m \u001b[0mself\u001b[0m\u001b[0;34m.\u001b[0m\u001b[0mpredict_function\u001b[0m\u001b[0;34m\u001b[0m\u001b[0m\n\u001b[1;32m   1841\u001b[0m         return self._predict_loop(f, ins, batch_size=batch_size,\n\u001b[0;32m-> 1842\u001b[0;31m                                   verbose=verbose, steps=steps)\n\u001b[0m\u001b[1;32m   1843\u001b[0m \u001b[0;34m\u001b[0m\u001b[0m\n\u001b[1;32m   1844\u001b[0m     def train_on_batch(self, x, y,\n",
      "\u001b[0;32m/usr/local/lib/python3.5/dist-packages/keras/engine/training.py\u001b[0m in \u001b[0;36m_predict_loop\u001b[0;34m(self, f, ins, batch_size, verbose, steps)\u001b[0m\n\u001b[1;32m   1335\u001b[0m                     \u001b[0mins_batch\u001b[0m\u001b[0;34m[\u001b[0m\u001b[0mi\u001b[0m\u001b[0;34m]\u001b[0m \u001b[0;34m=\u001b[0m \u001b[0mins_batch\u001b[0m\u001b[0;34m[\u001b[0m\u001b[0mi\u001b[0m\u001b[0;34m]\u001b[0m\u001b[0;34m.\u001b[0m\u001b[0mtoarray\u001b[0m\u001b[0;34m(\u001b[0m\u001b[0;34m)\u001b[0m\u001b[0;34m\u001b[0m\u001b[0m\n\u001b[1;32m   1336\u001b[0m \u001b[0;34m\u001b[0m\u001b[0m\n\u001b[0;32m-> 1337\u001b[0;31m                 \u001b[0mbatch_outs\u001b[0m \u001b[0;34m=\u001b[0m \u001b[0mf\u001b[0m\u001b[0;34m(\u001b[0m\u001b[0mins_batch\u001b[0m\u001b[0;34m)\u001b[0m\u001b[0;34m\u001b[0m\u001b[0m\n\u001b[0m\u001b[1;32m   1338\u001b[0m                 \u001b[0;32mif\u001b[0m \u001b[0;32mnot\u001b[0m \u001b[0misinstance\u001b[0m\u001b[0;34m(\u001b[0m\u001b[0mbatch_outs\u001b[0m\u001b[0;34m,\u001b[0m \u001b[0mlist\u001b[0m\u001b[0;34m)\u001b[0m\u001b[0;34m:\u001b[0m\u001b[0;34m\u001b[0m\u001b[0m\n\u001b[1;32m   1339\u001b[0m                     \u001b[0mbatch_outs\u001b[0m \u001b[0;34m=\u001b[0m \u001b[0;34m[\u001b[0m\u001b[0mbatch_outs\u001b[0m\u001b[0;34m]\u001b[0m\u001b[0;34m\u001b[0m\u001b[0m\n",
      "\u001b[0;32m/usr/local/lib/python3.5/dist-packages/keras/backend/tensorflow_backend.py\u001b[0m in \u001b[0;36m__call__\u001b[0;34m(self, inputs)\u001b[0m\n\u001b[1;32m   2473\u001b[0m         \u001b[0msession\u001b[0m \u001b[0;34m=\u001b[0m \u001b[0mget_session\u001b[0m\u001b[0;34m(\u001b[0m\u001b[0;34m)\u001b[0m\u001b[0;34m\u001b[0m\u001b[0m\n\u001b[1;32m   2474\u001b[0m         updated = session.run(fetches=fetches, feed_dict=feed_dict,\n\u001b[0;32m-> 2475\u001b[0;31m                               **self.session_kwargs)\n\u001b[0m\u001b[1;32m   2476\u001b[0m         \u001b[0;32mreturn\u001b[0m \u001b[0mupdated\u001b[0m\u001b[0;34m[\u001b[0m\u001b[0;34m:\u001b[0m\u001b[0mlen\u001b[0m\u001b[0;34m(\u001b[0m\u001b[0mself\u001b[0m\u001b[0;34m.\u001b[0m\u001b[0moutputs\u001b[0m\u001b[0;34m)\u001b[0m\u001b[0;34m]\u001b[0m\u001b[0;34m\u001b[0m\u001b[0m\n\u001b[1;32m   2477\u001b[0m \u001b[0;34m\u001b[0m\u001b[0m\n",
      "\u001b[0;32m/usr/local/lib/python3.5/dist-packages/tensorflow/python/client/session.py\u001b[0m in \u001b[0;36mrun\u001b[0;34m(self, fetches, feed_dict, options, run_metadata)\u001b[0m\n\u001b[1;32m    903\u001b[0m     \u001b[0;32mtry\u001b[0m\u001b[0;34m:\u001b[0m\u001b[0;34m\u001b[0m\u001b[0m\n\u001b[1;32m    904\u001b[0m       result = self._run(None, fetches, feed_dict, options_ptr,\n\u001b[0;32m--> 905\u001b[0;31m                          run_metadata_ptr)\n\u001b[0m\u001b[1;32m    906\u001b[0m       \u001b[0;32mif\u001b[0m \u001b[0mrun_metadata\u001b[0m\u001b[0;34m:\u001b[0m\u001b[0;34m\u001b[0m\u001b[0m\n\u001b[1;32m    907\u001b[0m         \u001b[0mproto_data\u001b[0m \u001b[0;34m=\u001b[0m \u001b[0mtf_session\u001b[0m\u001b[0;34m.\u001b[0m\u001b[0mTF_GetBuffer\u001b[0m\u001b[0;34m(\u001b[0m\u001b[0mrun_metadata_ptr\u001b[0m\u001b[0;34m)\u001b[0m\u001b[0;34m\u001b[0m\u001b[0m\n",
      "\u001b[0;32m/usr/local/lib/python3.5/dist-packages/tensorflow/python/client/session.py\u001b[0m in \u001b[0;36m_run\u001b[0;34m(self, handle, fetches, feed_dict, options, run_metadata)\u001b[0m\n\u001b[1;32m   1135\u001b[0m     \u001b[0;32mif\u001b[0m \u001b[0mfinal_fetches\u001b[0m \u001b[0;32mor\u001b[0m \u001b[0mfinal_targets\u001b[0m \u001b[0;32mor\u001b[0m \u001b[0;34m(\u001b[0m\u001b[0mhandle\u001b[0m \u001b[0;32mand\u001b[0m \u001b[0mfeed_dict_tensor\u001b[0m\u001b[0;34m)\u001b[0m\u001b[0;34m:\u001b[0m\u001b[0;34m\u001b[0m\u001b[0m\n\u001b[1;32m   1136\u001b[0m       results = self._do_run(handle, final_targets, final_fetches,\n\u001b[0;32m-> 1137\u001b[0;31m                              feed_dict_tensor, options, run_metadata)\n\u001b[0m\u001b[1;32m   1138\u001b[0m     \u001b[0;32melse\u001b[0m\u001b[0;34m:\u001b[0m\u001b[0;34m\u001b[0m\u001b[0m\n\u001b[1;32m   1139\u001b[0m       \u001b[0mresults\u001b[0m \u001b[0;34m=\u001b[0m \u001b[0;34m[\u001b[0m\u001b[0;34m]\u001b[0m\u001b[0;34m\u001b[0m\u001b[0m\n",
      "\u001b[0;32m/usr/local/lib/python3.5/dist-packages/tensorflow/python/client/session.py\u001b[0m in \u001b[0;36m_do_run\u001b[0;34m(self, handle, target_list, fetch_list, feed_dict, options, run_metadata)\u001b[0m\n\u001b[1;32m   1353\u001b[0m     \u001b[0;32mif\u001b[0m \u001b[0mhandle\u001b[0m \u001b[0;32mis\u001b[0m \u001b[0;32mNone\u001b[0m\u001b[0;34m:\u001b[0m\u001b[0;34m\u001b[0m\u001b[0m\n\u001b[1;32m   1354\u001b[0m       return self._do_call(_run_fn, self._session, feeds, fetches, targets,\n\u001b[0;32m-> 1355\u001b[0;31m                            options, run_metadata)\n\u001b[0m\u001b[1;32m   1356\u001b[0m     \u001b[0;32melse\u001b[0m\u001b[0;34m:\u001b[0m\u001b[0;34m\u001b[0m\u001b[0m\n\u001b[1;32m   1357\u001b[0m       \u001b[0;32mreturn\u001b[0m \u001b[0mself\u001b[0m\u001b[0;34m.\u001b[0m\u001b[0m_do_call\u001b[0m\u001b[0;34m(\u001b[0m\u001b[0m_prun_fn\u001b[0m\u001b[0;34m,\u001b[0m \u001b[0mself\u001b[0m\u001b[0;34m.\u001b[0m\u001b[0m_session\u001b[0m\u001b[0;34m,\u001b[0m \u001b[0mhandle\u001b[0m\u001b[0;34m,\u001b[0m \u001b[0mfeeds\u001b[0m\u001b[0;34m,\u001b[0m \u001b[0mfetches\u001b[0m\u001b[0;34m)\u001b[0m\u001b[0;34m\u001b[0m\u001b[0m\n",
      "\u001b[0;32m/usr/local/lib/python3.5/dist-packages/tensorflow/python/client/session.py\u001b[0m in \u001b[0;36m_do_call\u001b[0;34m(self, fn, *args)\u001b[0m\n\u001b[1;32m   1359\u001b[0m   \u001b[0;32mdef\u001b[0m \u001b[0m_do_call\u001b[0m\u001b[0;34m(\u001b[0m\u001b[0mself\u001b[0m\u001b[0;34m,\u001b[0m \u001b[0mfn\u001b[0m\u001b[0;34m,\u001b[0m \u001b[0;34m*\u001b[0m\u001b[0margs\u001b[0m\u001b[0;34m)\u001b[0m\u001b[0;34m:\u001b[0m\u001b[0;34m\u001b[0m\u001b[0m\n\u001b[1;32m   1360\u001b[0m     \u001b[0;32mtry\u001b[0m\u001b[0;34m:\u001b[0m\u001b[0;34m\u001b[0m\u001b[0m\n\u001b[0;32m-> 1361\u001b[0;31m       \u001b[0;32mreturn\u001b[0m \u001b[0mfn\u001b[0m\u001b[0;34m(\u001b[0m\u001b[0;34m*\u001b[0m\u001b[0margs\u001b[0m\u001b[0;34m)\u001b[0m\u001b[0;34m\u001b[0m\u001b[0m\n\u001b[0m\u001b[1;32m   1362\u001b[0m     \u001b[0;32mexcept\u001b[0m \u001b[0merrors\u001b[0m\u001b[0;34m.\u001b[0m\u001b[0mOpError\u001b[0m \u001b[0;32mas\u001b[0m \u001b[0me\u001b[0m\u001b[0;34m:\u001b[0m\u001b[0;34m\u001b[0m\u001b[0m\n\u001b[1;32m   1363\u001b[0m       \u001b[0mmessage\u001b[0m \u001b[0;34m=\u001b[0m \u001b[0mcompat\u001b[0m\u001b[0;34m.\u001b[0m\u001b[0mas_text\u001b[0m\u001b[0;34m(\u001b[0m\u001b[0me\u001b[0m\u001b[0;34m.\u001b[0m\u001b[0mmessage\u001b[0m\u001b[0;34m)\u001b[0m\u001b[0;34m\u001b[0m\u001b[0m\n",
      "\u001b[0;32m/usr/local/lib/python3.5/dist-packages/tensorflow/python/client/session.py\u001b[0m in \u001b[0;36m_run_fn\u001b[0;34m(session, feed_dict, fetch_list, target_list, options, run_metadata)\u001b[0m\n\u001b[1;32m   1338\u001b[0m         \u001b[0;32melse\u001b[0m\u001b[0;34m:\u001b[0m\u001b[0;34m\u001b[0m\u001b[0m\n\u001b[1;32m   1339\u001b[0m           return tf_session.TF_Run(session, options, feed_dict, fetch_list,\n\u001b[0;32m-> 1340\u001b[0;31m                                    target_list, status, run_metadata)\n\u001b[0m\u001b[1;32m   1341\u001b[0m \u001b[0;34m\u001b[0m\u001b[0m\n\u001b[1;32m   1342\u001b[0m     \u001b[0;32mdef\u001b[0m \u001b[0m_prun_fn\u001b[0m\u001b[0;34m(\u001b[0m\u001b[0msession\u001b[0m\u001b[0;34m,\u001b[0m \u001b[0mhandle\u001b[0m\u001b[0;34m,\u001b[0m \u001b[0mfeed_dict\u001b[0m\u001b[0;34m,\u001b[0m \u001b[0mfetch_list\u001b[0m\u001b[0;34m)\u001b[0m\u001b[0;34m:\u001b[0m\u001b[0;34m\u001b[0m\u001b[0m\n",
      "\u001b[0;31mKeyboardInterrupt\u001b[0m: "
     ]
    }
   ],
   "source": [
    "#Read in image\n",
    "imageName = \"ex1.png\"\n",
    "image = cv.imread(imageName)\n",
    "imageHeight, imageWidth, imageChannels = image.shape\n",
    "\n",
    "#Parameters to play around with\n",
    "windowSize = 224     #REMEBER TO CHANGE THIS TO 128!!!!!!!!!!!!!!!!!!!!!!!!!!!!!!!!!!!!!!\n",
    "\n",
    "numStacks = 4       #Nunmber of times to shrink the image. If this shrinks the image past\n",
    "                    #the point where the image size is less than the window size, the script will end\n",
    "                    #without any loss\n",
    "        \n",
    "zoomFactor = 2     # How much to initially enlarge image in order to zoom in on smaller boxes.\n",
    "                   # Smallest box size wikll be windowSize / zoomFactor, so a zoomfactor of 2 will\n",
    "                   # have a minimum size of 112 with a window size of 224.\n",
    "        \n",
    "scaleFactor = .9  #Determines how much smaller each subsequent scaling of the image is. Percentage\n",
    "\n",
    "scaleX = 1         # How many times to apply a scale in the x direction only\n",
    "\n",
    "scaleY = 1        # How many times to apply a scale in the y direction only\n",
    "\n",
    "scaleXFactor = 1.5   # How much to stretch when scaling in the x direction (Percentage)\n",
    "\n",
    "scaleYFactor = 1.5  # How much to stretch when scaling in the y direction\n",
    "\n",
    "convStrideFactor = .2 # Percent of window size to use as convStride\n",
    "convStride = int(windowSize * convStrideFactor)\n",
    "\n",
    "class boxResult:\n",
    "    x=0\n",
    "    y=0\n",
    "    height=0\n",
    "    width=0\n",
    "    classification=0\n",
    "    confidence=0.0\n",
    "\n",
    "def modelPredict(predictionImage, currentScale, currentScaleX=1, currentScaleY=1):\n",
    "    predictionImage = predictionImage.astype(np.float32)\n",
    "    predictionImage = np.expand_dims(predictionImage, axis=0)\n",
    "    result = model.predict(predictionImage)\n",
    "\n",
    "    ######################################################\n",
    "    label = decode_predictions(result)[0]\n",
    "    display(label)\n",
    "\n",
    "    #This section makes sense of the VGG19 results and makes sense of them\n",
    "    #As long as the highest weighted result ends up in temp.classification\n",
    "    #and temp.confidence below, everything should still work when switching\n",
    "    #models.\n",
    "    ######################################################\n",
    "    #Store results in an ar\n",
    "    #x, y, h, w, class, confidence\n",
    "    temp = boxResult()\n",
    "    temp.x = int(x / currentScaleX / currentScale)\n",
    "    temp.y = int(y / currentScaleY / currentScale)\n",
    "    temp.height = int(windowSize / currentScaleX / currentScale)\n",
    "    temp.width = int(windowSize / currentScaleY / currentScale)\n",
    "    temp.classification = label[1]################################\n",
    "    temp.confididence = label[2]##################################\n",
    "    return temp\n",
    "\n",
    "#Image info\n",
    "display(\"Image \" + str(imageName) + \" is \" + str(imageWidth) + \"x\" + str(imageHeight) + \".\")\n",
    "\n",
    "\n",
    "\n",
    "#Scale up image to get zoomed in squares\n",
    "image = cv.resize(image, None, fx=zoomFactor, fy=zoomFactor, interpolation = cv.INTER_CUBIC)\n",
    "currentScale = zoomFactor\n",
    "results = []\n",
    "\n",
    "# Get frames then scale down\n",
    "# number of times based on numStacks\n",
    "\n",
    "\n",
    "# Iterate over the total number of stacks\n",
    "for i in range (0,numStacks): \n",
    "    display(\"Stack #\"+str(i))\n",
    "    \n",
    "    # Iterate over number of vertical strides \n",
    "    # (From top of image to the bottom)\n",
    "    #\n",
    "    for y in range (0, int(imageHeight * currentScale) - windowSize):\n",
    "        \n",
    "        print('y: ', y)\n",
    "        \n",
    "        \n",
    "        # !!! Not sure what this case actually is..... \n",
    "        #     MAY NOT BE A FUNCTIONAL CHECK\n",
    "        #\n",
    "        if y % convStride == 0:\n",
    "            \n",
    "            \n",
    "            # Iterate image horizontally \n",
    "            #\n",
    "            for x in range (0, int(imageWidth * currentScale) - windowSize):\n",
    "                \n",
    "                # !!! Also unsure what this case actually means\n",
    "                #     MAY NOT BE A FUNCTIONAL CHECK\n",
    "                #\n",
    "                if x % convStride == 0:\n",
    "                    \n",
    "                    #Perform classification on the baseline window\n",
    "                    crop = image[y:y+windowSize, x:x+windowSize]\n",
    "                    temp = modelPredict(crop, currentScale)\n",
    "                    results.append(temp)\n",
    "                    \n",
    "                    #Perform classification on any stretched windows\n",
    "                    #X Stretches\n",
    "                    for numStretches in range (0, scaleX):\n",
    "                        display(\"Scaling x\")\n",
    "                        stretchedCrop = cv.resize(crop, None, fx=scaleXFactor*(1+numStretches), fy=1, interpolation = cv.INTER_CUBIC)\n",
    "                        stretchedCropCropped = stretchedCrop[0:windowSize, 0:windowSize]\n",
    "                        temp = modelPredict(stretchedCropCropped, currentScale, scaleXFactor*(1+numStretches))\n",
    "                        results.append(temp)\n",
    "                    for numStretches in range (0, scaleY):\n",
    "                        display(\"Scaling y\")\n",
    "                        stretchedCrop = cv.resize(crop, None, fx=1, fy=scaleYFactor*(1+numStretches), interpolation = cv.INTER_CUBIC)\n",
    "                        stretchedCropCropped = stretchedCrop[0:windowSize, 0:windowSize]\n",
    "                        temp = modelPredict(stretchedCropCropped, currentScale, 1, scaleYFactor*(1+numStretches))\n",
    "                        results.append(temp)\n",
    "                    \n",
    "    #Resize image, update currentScale\n",
    "    image = cv.resize(image, None, fx=scaleFactor, fy=scaleFactor, interpolation = cv.INTER_AREA)\n",
    "    currentScale *= scaleFactor\n",
    "    \n",
    "display(\"Done!\")"
   ]
  },
  {
   "cell_type": "code",
   "execution_count": 32,
   "metadata": {},
   "outputs": [],
   "source": [
    "storageImage = cv.imread(imageName)\n",
    "displayImage = storageImage.copy()\n",
    "prevHeight = 0\n",
    "lineColor = (255,0,0)\n",
    "lineWidth = 2\n",
    "for box in results:\n",
    "    cv.rectangle(displayImage,(box.x,box.y),(box.x+box.width,box.y+box.height),lineColor,lineWidth)\n",
    "    cv.imshow('Windows',displayImage)\n",
    "    cv.waitKey(500)\n",
    "    displayImage = storageImage.copy()\n",
    "cv.destroyAllWindows()"
   ]
  },
  {
   "cell_type": "code",
   "execution_count": 45,
   "metadata": {},
   "outputs": [],
   "source": [
    "#Variables to play with\n",
    "confidenceThresh = 0.8 #Poin whether or not to prune a box from the list\n",
    "\n",
    "#Create copy of results list to make playing with data easier\n",
    "boxes = list(results)\n",
    "             \n",
    "#Pruning\n",
    "for box in boxes:\n",
    "    if box.confidence < confidenceThresh:\n",
    "        boxes.remove(box)\n",
    "\n",
    "#NMS\n",
    "def nmsFast(boxes, overlapThreshold):\n",
    "    #Ensure there are boxes\n",
    "    if len(boxes) == 0:\n",
    "        return []\n",
    "    \n",
    "    #Initialize list of picked boxes, and of coordinates\n",
    "    x1 = np.array([])\n",
    "    x2 = np.array([])\n",
    "    y1 = np.array([])\n",
    "    y2 = np.array([])\n",
    "    pick = []\n",
    "    \n",
    "    #Get coordinates from bounding boxes and cast as floats\n",
    "    for box in boxes:\n",
    "        np.append(x1, float(box.x))\n",
    "        np.append(x2, float(box.x+box.width))\n",
    "        np.append(y1, float(box.y))\n",
    "        np.append(y2, float(box.y+box.height))\n",
    "    \n",
    "    #Compute and store area of bounding boxes\n",
    "    area = (x2-x1+1) * (y2-y1+1)\n",
    "    \n",
    "    #Sort boxes by bottom right coordinates\n",
    "    idxs = np.argsort(y2)\n",
    "    \n",
    "    while len(idxs) > 0:\n",
    "        last = len(idxs)-1\n",
    "        i = idxs[last]\n",
    "        pick.append(i)\n",
    "        \n",
    "        xx1 = np.maximum(x1[i],x1[idxs[:last]])\n",
    "        xx2 = np.minimum(x2[i],x2[idxs[:last]])\n",
    "        yy1 = np.maximum(y1[i],y1[idxs[:last]])\n",
    "        yy2 = np.minimum(y2[i],y2[idxs[:last]])\n",
    "        \n",
    "        #compute width and height\n",
    "        w = np.maximum(0, xx2-xx1+1)\n",
    "        h = np.maximum(0, yy2-yy1+1)\n",
    "        \n",
    "        #compute overlap\n",
    "        overlap = (w*h) / area[adxs[:last]]\n",
    "        \n",
    "        #delete indices that have overlap over overlapThreshold\n",
    "        idxs = np.delete(idxs, np.concatenate(([last], np.where(overlap > overlapThresh)[0])))\n",
    "    \n",
    "    \n",
    "    \n",
    "    print(pick)\n",
    "    \n",
    "    return boxes"
   ]
  },
  {
   "cell_type": "code",
   "execution_count": 50,
   "metadata": {},
   "outputs": [
    {
     "name": "stdout",
     "output_type": "stream",
     "text": [
      "[]\n",
      "230\n"
     ]
    }
   ],
   "source": [
    "nms_rez = nmsFast(results, .9)\n",
    "print(len(nms_rez))\n",
    "\n",
    "\n",
    "\n",
    "\n"
   ]
  }
 ],
 "metadata": {
  "kernelspec": {
   "display_name": "Python 3",
   "language": "python",
   "name": "python3"
  },
  "language_info": {
   "codemirror_mode": {
    "name": "ipython",
    "version": 3
   },
   "file_extension": ".py",
   "mimetype": "text/x-python",
   "name": "python",
   "nbconvert_exporter": "python",
   "pygments_lexer": "ipython3",
   "version": "3.5.2"
  }
 },
 "nbformat": 4,
 "nbformat_minor": 2
}
