{
 "cells": [
  {
   "cell_type": "code",
   "execution_count": 30,
   "metadata": {},
   "outputs": [
    {
     "data": {
      "text/plain": [
       "'Loading model....'"
      ]
     },
     "metadata": {},
     "output_type": "display_data"
    },
    {
     "data": {
      "text/plain": [
       "'Model loaded.'"
      ]
     },
     "metadata": {},
     "output_type": "display_data"
    }
   ],
   "source": [
    "import numpy as np\n",
    "import pandas as pd\n",
    "import keras\n",
    "from keras.applications.vgg19 import VGG19\n",
    "from keras.applications.vgg19 import preprocess_input\n",
    "from keras.applications.vgg19 import decode_predictions\n",
    "from keras.models import Model\n",
    "from keras.layers import Dense, Dropout, Flatten\n",
    "import cv2 as cv\n",
    "\n",
    "display(\"Loading model....\")\n",
    "model = VGG19(weights='imagenet')\n",
    "display(\"Model loaded.\")\n",
    "\n",
    "#display(\"Preprocessing Image\")\n",
    "#imageName = \"ex1.png\"\n",
    "#image = cv.imread(imageName)\n",
    "#imageHeight, imageWidth, imageChannels = image.shape\n",
    "#display(\"Image \" + str(imageName) + \" is \" + str(imageWidth) + \"x\" + str(imageHeight) + \".\")\n",
    "#image = cv.resize(image, (224,224)).astype(np.float32)\n",
    "#image = image.transpose((2,0,1))\n",
    "#image = np.expand_dims(image, axis=0)\n",
    "\n",
    "#display(\"Predicting...\")\n",
    "#features = model.predict(image)\n",
    "#display(\"Done!\")\n",
    "#label = decode_predictions(features)\n",
    "#display(label)\n",
    "#display(label[0])\n",
    "#display(label[0][0])\n",
    "#label = label[0]\n",
    "#display(str(label[0][1]) + \" (\" + str(label[0][2]*100)+\"%)\")\n",
    "#display(str(label[0]) + \" (\" + str(label[1]*100)+\"%)\")"
   ]
  },
  {
   "cell_type": "code",
   "execution_count": 31,
   "metadata": {},
   "outputs": [
    {
     "data": {
      "text/plain": [
       "'Image ex1.png is 602x404.'"
      ]
     },
     "metadata": {},
     "output_type": "display_data"
    },
    {
     "data": {
      "text/plain": [
       "'Stack #0'"
      ]
     },
     "metadata": {},
     "output_type": "display_data"
    },
    {
     "data": {
      "text/plain": [
       "[('n06359193', 'web_site', 0.24174668),\n",
       " ('n03532672', 'hook', 0.066418774),\n",
       " ('n03291819', 'envelope', 0.04223133),\n",
       " ('n04118776', 'rule', 0.031054791),\n",
       " ('n03126707', 'crane', 0.0205233)]"
      ]
     },
     "metadata": {},
     "output_type": "display_data"
    },
    {
     "data": {
      "text/plain": [
       "'Scaling x'"
      ]
     },
     "metadata": {},
     "output_type": "display_data"
    },
    {
     "data": {
      "text/plain": [
       "[('n06359193', 'web_site', 0.17338352),\n",
       " ('n03532672', 'hook', 0.083941676),\n",
       " ('n04141975', 'scale', 0.037448913),\n",
       " ('n03291819', 'envelope', 0.032005765),\n",
       " ('n03467068', 'guillotine', 0.03092017)]"
      ]
     },
     "metadata": {},
     "output_type": "display_data"
    },
    {
     "data": {
      "text/plain": [
       "'Scaling y'"
      ]
     },
     "metadata": {},
     "output_type": "display_data"
    },
    {
     "data": {
      "text/plain": [
       "[('n06359193', 'web_site', 0.12657727),\n",
       " ('n03532672', 'hook', 0.073928826),\n",
       " ('n03291819', 'envelope', 0.05580238),\n",
       " ('n03467068', 'guillotine', 0.045239214),\n",
       " ('n03041632', 'cleaver', 0.0340752)]"
      ]
     },
     "metadata": {},
     "output_type": "display_data"
    },
    {
     "data": {
      "text/plain": [
       "[('n03743016', 'megalith', 0.3433091),\n",
       " ('n09246464', 'cliff', 0.11316378),\n",
       " ('n09399592', 'promontory', 0.09035847),\n",
       " ('n09428293', 'seashore', 0.04927927),\n",
       " ('n02417914', 'ibex', 0.03129059)]"
      ]
     },
     "metadata": {},
     "output_type": "display_data"
    },
    {
     "data": {
      "text/plain": [
       "'Scaling x'"
      ]
     },
     "metadata": {},
     "output_type": "display_data"
    },
    {
     "data": {
      "text/plain": [
       "[('n09399592', 'promontory', 0.06538698),\n",
       " ('n09246464', 'cliff', 0.0617703),\n",
       " ('n09428293', 'seashore', 0.049120136),\n",
       " ('n04606251', 'wreck', 0.03634029),\n",
       " ('n02814860', 'beacon', 0.027404524)]"
      ]
     },
     "metadata": {},
     "output_type": "display_data"
    },
    {
     "data": {
      "text/plain": [
       "'Scaling y'"
      ]
     },
     "metadata": {},
     "output_type": "display_data"
    },
    {
     "data": {
      "text/plain": [
       "[('n03041632', 'cleaver', 0.053268477),\n",
       " ('n06359193', 'web_site', 0.02901816),\n",
       " ('n03291819', 'envelope', 0.018753726),\n",
       " ('n03532672', 'hook', 0.01557056),\n",
       " ('n04228054', 'ski', 0.011935727)]"
      ]
     },
     "metadata": {},
     "output_type": "display_data"
    },
    {
     "data": {
      "text/plain": [
       "[('n03743016', 'megalith', 0.14025669),\n",
       " ('n09246464', 'cliff', 0.065736175),\n",
       " ('n02417914', 'ibex', 0.052423794),\n",
       " ('n06359193', 'web_site', 0.048082102),\n",
       " ('n09399592', 'promontory', 0.038374994)]"
      ]
     },
     "metadata": {},
     "output_type": "display_data"
    },
    {
     "data": {
      "text/plain": [
       "'Scaling x'"
      ]
     },
     "metadata": {},
     "output_type": "display_data"
    },
    {
     "data": {
      "text/plain": [
       "[('n09399592', 'promontory', 0.12349485),\n",
       " ('n03743016', 'megalith', 0.09161193),\n",
       " ('n02814860', 'beacon', 0.073263414),\n",
       " ('n09246464', 'cliff', 0.07177227),\n",
       " ('n09428293', 'seashore', 0.05001544)]"
      ]
     },
     "metadata": {},
     "output_type": "display_data"
    },
    {
     "data": {
      "text/plain": [
       "'Scaling y'"
      ]
     },
     "metadata": {},
     "output_type": "display_data"
    },
    {
     "data": {
      "text/plain": [
       "[('n03041632', 'cleaver', 0.03817088),\n",
       " ('n03532672', 'hook', 0.024315078),\n",
       " ('n06359193', 'web_site', 0.021275815),\n",
       " ('n03291819', 'envelope', 0.017686833),\n",
       " ('n11879895', 'rapeseed', 0.010508431)]"
      ]
     },
     "metadata": {},
     "output_type": "display_data"
    },
    {
     "data": {
      "text/plain": [
       "[('n06359193', 'web_site', 0.100222245),\n",
       " ('n02437312', 'Arabian_camel', 0.09708474),\n",
       " ('n09428293', 'seashore', 0.025256615),\n",
       " ('n02410509', 'bison', 0.016256208),\n",
       " ('n02129165', 'lion', 0.015433582)]"
      ]
     },
     "metadata": {},
     "output_type": "display_data"
    },
    {
     "data": {
      "text/plain": [
       "'Scaling x'"
      ]
     },
     "metadata": {},
     "output_type": "display_data"
    },
    {
     "data": {
      "text/plain": [
       "[('n06359193', 'web_site', 0.096458405),\n",
       " ('n03196217', 'digital_clock', 0.042304747),\n",
       " ('n02114548', 'white_wolf', 0.04131274),\n",
       " ('n02437312', 'Arabian_camel', 0.033264123),\n",
       " ('n02134084', 'ice_bear', 0.017544389)]"
      ]
     },
     "metadata": {},
     "output_type": "display_data"
    },
    {
     "data": {
      "text/plain": [
       "'Scaling y'"
      ]
     },
     "metadata": {},
     "output_type": "display_data"
    },
    {
     "data": {
      "text/plain": [
       "[('n03041632', 'cleaver', 0.039205737),\n",
       " ('n03532672', 'hook', 0.02847503),\n",
       " ('n06359193', 'web_site', 0.027165737),\n",
       " ('n04228054', 'ski', 0.014244393),\n",
       " ('n11879895', 'rapeseed', 0.013981014)]"
      ]
     },
     "metadata": {},
     "output_type": "display_data"
    },
    {
     "data": {
      "text/plain": [
       "[('n06359193', 'web_site', 0.2634576),\n",
       " ('n02777292', 'balance_beam', 0.13314672),\n",
       " ('n04141975', 'scale', 0.03284134),\n",
       " ('n03291819', 'envelope', 0.022246372),\n",
       " ('n02971356', 'carton', 0.021914981)]"
      ]
     },
     "metadata": {},
     "output_type": "display_data"
    },
    {
     "data": {
      "text/plain": [
       "'Scaling x'"
      ]
     },
     "metadata": {},
     "output_type": "display_data"
    },
    {
     "data": {
      "text/plain": [
       "[('n06359193', 'web_site', 0.5987583),\n",
       " ('n03291819', 'envelope', 0.031304024),\n",
       " ('n04357314', 'sunscreen', 0.01640133),\n",
       " ('n03196217', 'digital_clock', 0.015918346),\n",
       " ('n04141975', 'scale', 0.014379815)]"
      ]
     },
     "metadata": {},
     "output_type": "display_data"
    },
    {
     "data": {
      "text/plain": [
       "'Scaling y'"
      ]
     },
     "metadata": {},
     "output_type": "display_data"
    },
    {
     "data": {
      "text/plain": [
       "[('n03041632', 'cleaver', 0.03684083),\n",
       " ('n03532672', 'hook', 0.025755616),\n",
       " ('n11879895', 'rapeseed', 0.023845484),\n",
       " ('n06359193', 'web_site', 0.019417703),\n",
       " ('n03976657', 'pole', 0.01874047)]"
      ]
     },
     "metadata": {},
     "output_type": "display_data"
    },
    {
     "data": {
      "text/plain": [
       "[('n09399592', 'promontory', 0.084289946),\n",
       " ('n09428293', 'seashore', 0.069657356),\n",
       " ('n09246464', 'cliff', 0.046516247),\n",
       " ('n02814860', 'beacon', 0.030504556),\n",
       " ('n03792972', 'mountain_tent', 0.029161569)]"
      ]
     },
     "metadata": {},
     "output_type": "display_data"
    },
    {
     "data": {
      "text/plain": [
       "'Scaling x'"
      ]
     },
     "metadata": {},
     "output_type": "display_data"
    },
    {
     "data": {
      "text/plain": [
       "[('n04592741', 'wing', 0.03218281),\n",
       " ('n09428293', 'seashore', 0.029038722),\n",
       " ('n04552348', 'warplane', 0.022477036),\n",
       " ('n06359193', 'web_site', 0.022215955),\n",
       " ('n02690373', 'airliner', 0.02179373)]"
      ]
     },
     "metadata": {},
     "output_type": "display_data"
    },
    {
     "data": {
      "text/plain": [
       "'Scaling y'"
      ]
     },
     "metadata": {},
     "output_type": "display_data"
    },
    {
     "data": {
      "text/plain": [
       "[('n03041632', 'cleaver', 0.03414769),\n",
       " ('n03532672', 'hook', 0.027252838),\n",
       " ('n06359193', 'web_site', 0.023016358),\n",
       " ('n11879895', 'rapeseed', 0.015984772),\n",
       " ('n03976657', 'pole', 0.015173951)]"
      ]
     },
     "metadata": {},
     "output_type": "display_data"
    },
    {
     "data": {
      "text/plain": [
       "[('n09399592', 'promontory', 0.13731886),\n",
       " ('n09246464', 'cliff', 0.07283188),\n",
       " ('n09428293', 'seashore', 0.07193447),\n",
       " ('n03743016', 'megalith', 0.065573014),\n",
       " ('n07802026', 'hay', 0.04378892)]"
      ]
     },
     "metadata": {},
     "output_type": "display_data"
    },
    {
     "data": {
      "text/plain": [
       "'Scaling x'"
      ]
     },
     "metadata": {},
     "output_type": "display_data"
    },
    {
     "data": {
      "text/plain": [
       "[('n09399592', 'promontory', 0.12404289),\n",
       " ('n09428293', 'seashore', 0.094242565),\n",
       " ('n09246464', 'cliff', 0.04519342),\n",
       " ('n02037110', 'oystercatcher', 0.032922365),\n",
       " ('n07802026', 'hay', 0.024747293)]"
      ]
     },
     "metadata": {},
     "output_type": "display_data"
    },
    {
     "data": {
      "text/plain": [
       "'Scaling y'"
      ]
     },
     "metadata": {},
     "output_type": "display_data"
    },
    {
     "data": {
      "text/plain": [
       "[('n03041632', 'cleaver', 0.026532836),\n",
       " ('n03532672', 'hook', 0.025105983),\n",
       " ('n11879895', 'rapeseed', 0.020776292),\n",
       " ('n03976657', 'pole', 0.020066464),\n",
       " ('n06359193', 'web_site', 0.019808676)]"
      ]
     },
     "metadata": {},
     "output_type": "display_data"
    },
    {
     "data": {
      "text/plain": [
       "[('n09399592', 'promontory', 0.10053476),\n",
       " ('n09246464', 'cliff', 0.08295182),\n",
       " ('n03743016', 'megalith', 0.06870929),\n",
       " ('n07802026', 'hay', 0.054998714),\n",
       " ('n09428293', 'seashore', 0.044602435)]"
      ]
     },
     "metadata": {},
     "output_type": "display_data"
    },
    {
     "data": {
      "text/plain": [
       "'Scaling x'"
      ]
     },
     "metadata": {},
     "output_type": "display_data"
    },
    {
     "data": {
      "text/plain": [
       "[('n09399592', 'promontory', 0.091419294),\n",
       " ('n07802026', 'hay', 0.057072908),\n",
       " ('n09246464', 'cliff', 0.05058774),\n",
       " ('n09428293', 'seashore', 0.048574004),\n",
       " ('n02417914', 'ibex', 0.040714946)]"
      ]
     },
     "metadata": {},
     "output_type": "display_data"
    },
    {
     "data": {
      "text/plain": [
       "'Scaling y'"
      ]
     },
     "metadata": {},
     "output_type": "display_data"
    },
    {
     "data": {
      "text/plain": [
       "[('n11879895', 'rapeseed', 0.024730204),\n",
       " ('n03041632', 'cleaver', 0.023402132),\n",
       " ('n06359193', 'web_site', 0.022202583),\n",
       " ('n09428293', 'seashore', 0.021743426),\n",
       " ('n03532672', 'hook', 0.02112043)]"
      ]
     },
     "metadata": {},
     "output_type": "display_data"
    },
    {
     "data": {
      "text/plain": [
       "[('n02410509', 'bison', 0.04247333),\n",
       " ('n09399592', 'promontory', 0.040840592),\n",
       " ('n09246464', 'cliff', 0.038313664),\n",
       " ('n03743016', 'megalith', 0.035910603),\n",
       " ('n09428293', 'seashore', 0.032565355)]"
      ]
     },
     "metadata": {},
     "output_type": "display_data"
    },
    {
     "data": {
      "text/plain": [
       "'Scaling x'"
      ]
     },
     "metadata": {},
     "output_type": "display_data"
    },
    {
     "data": {
      "text/plain": [
       "[('n09428293', 'seashore', 0.061217897),\n",
       " ('n07802026', 'hay', 0.056657538),\n",
       " ('n09399592', 'promontory', 0.049553216),\n",
       " ('n09246464', 'cliff', 0.045436326),\n",
       " ('n02410509', 'bison', 0.038184397)]"
      ]
     },
     "metadata": {},
     "output_type": "display_data"
    },
    {
     "data": {
      "text/plain": [
       "'Scaling y'"
      ]
     },
     "metadata": {},
     "output_type": "display_data"
    },
    {
     "data": {
      "text/plain": [
       "[('n02437312', 'Arabian_camel', 0.03225324),\n",
       " ('n07802026', 'hay', 0.019690404),\n",
       " ('n02417914', 'ibex', 0.018722681),\n",
       " ('n03627232', 'knot', 0.018401623),\n",
       " ('n01518878', 'ostrich', 0.0136603685)]"
      ]
     },
     "metadata": {},
     "output_type": "display_data"
    },
    {
     "data": {
      "text/plain": [
       "[('n06359193', 'web_site', 0.21236475),\n",
       " ('n01518878', 'ostrich', 0.021086568),\n",
       " ('n02105056', 'groenendael', 0.019008879),\n",
       " ('n02099429', 'curly-coated_retriever', 0.016407356),\n",
       " ('n02106382', 'Bouvier_des_Flandres', 0.016374694)]"
      ]
     },
     "metadata": {},
     "output_type": "display_data"
    },
    {
     "data": {
      "text/plain": [
       "'Scaling x'"
      ]
     },
     "metadata": {},
     "output_type": "display_data"
    },
    {
     "data": {
      "text/plain": [
       "[('n06359193', 'web_site', 0.1490297),\n",
       " ('n04357314', 'sunscreen', 0.028100552),\n",
       " ('n03291819', 'envelope', 0.015545358),\n",
       " ('n03532672', 'hook', 0.014053485),\n",
       " ('n03690938', 'lotion', 0.01233524)]"
      ]
     },
     "metadata": {},
     "output_type": "display_data"
    },
    {
     "data": {
      "text/plain": [
       "'Scaling y'"
      ]
     },
     "metadata": {},
     "output_type": "display_data"
    },
    {
     "data": {
      "text/plain": [
       "[('n06359193', 'web_site', 0.26956233),\n",
       " ('n03291819', 'envelope', 0.051058583),\n",
       " ('n03532672', 'hook', 0.02707764),\n",
       " ('n04357314', 'sunscreen', 0.022618929),\n",
       " ('n02777292', 'balance_beam', 0.019448452)]"
      ]
     },
     "metadata": {},
     "output_type": "display_data"
    },
    {
     "data": {
      "text/plain": [
       "[('n03743016', 'megalith', 0.30011645),\n",
       " ('n07802026', 'hay', 0.11121791),\n",
       " ('n09246464', 'cliff', 0.035490673),\n",
       " ('n09399592', 'promontory', 0.02928827),\n",
       " ('n02410509', 'bison', 0.02683303)]"
      ]
     },
     "metadata": {},
     "output_type": "display_data"
    },
    {
     "data": {
      "text/plain": [
       "'Scaling x'"
      ]
     },
     "metadata": {},
     "output_type": "display_data"
    },
    {
     "data": {
      "text/plain": [
       "[('n09246464', 'cliff', 0.10766583),\n",
       " ('n03743016', 'megalith', 0.09537454),\n",
       " ('n09399592', 'promontory', 0.045578126),\n",
       " ('n04606251', 'wreck', 0.041514635),\n",
       " ('n09428293', 'seashore', 0.033493426)]"
      ]
     },
     "metadata": {},
     "output_type": "display_data"
    },
    {
     "data": {
      "text/plain": [
       "'Scaling y'"
      ]
     },
     "metadata": {},
     "output_type": "display_data"
    },
    {
     "data": {
      "text/plain": [
       "[('n03743016', 'megalith', 0.5309338),\n",
       " ('n09246464', 'cliff', 0.086263835),\n",
       " ('n09399592', 'promontory', 0.054515198),\n",
       " ('n09428293', 'seashore', 0.023469513),\n",
       " ('n02134084', 'ice_bear', 0.014033284)]"
      ]
     },
     "metadata": {},
     "output_type": "display_data"
    },
    {
     "data": {
      "text/plain": [
       "[('n06794110', 'street_sign', 0.22570294),\n",
       " ('n03743016', 'megalith', 0.059269108),\n",
       " ('n06359193', 'web_site', 0.0269418),\n",
       " ('n04370456', 'sweatshirt', 0.025033563),\n",
       " ('n04090263', 'rifle', 0.02155199)]"
      ]
     },
     "metadata": {},
     "output_type": "display_data"
    },
    {
     "data": {
      "text/plain": [
       "'Scaling x'"
      ]
     },
     "metadata": {},
     "output_type": "display_data"
    },
    {
     "data": {
      "text/plain": [
       "[('n09399592', 'promontory', 0.120784275),\n",
       " ('n09428293', 'seashore', 0.08563519),\n",
       " ('n09246464', 'cliff', 0.07599263),\n",
       " ('n09421951', 'sandbar', 0.049526364),\n",
       " ('n03594945', 'jeep', 0.044773284)]"
      ]
     },
     "metadata": {},
     "output_type": "display_data"
    },
    {
     "data": {
      "text/plain": [
       "'Scaling y'"
      ]
     },
     "metadata": {},
     "output_type": "display_data"
    },
    {
     "data": {
      "text/plain": [
       "[('n06794110', 'street_sign', 0.70364434),\n",
       " ('n03743016', 'megalith', 0.14952035),\n",
       " ('n06874185', 'traffic_light', 0.040613174),\n",
       " ('n03837869', 'obelisk', 0.005438685),\n",
       " ('n11879895', 'rapeseed', 0.004254682)]"
      ]
     },
     "metadata": {},
     "output_type": "display_data"
    },
    {
     "data": {
      "text/plain": [
       "[('n09835506', 'ballplayer', 0.12577981),\n",
       " ('n02437312', 'Arabian_camel', 0.10062581),\n",
       " ('n06794110', 'street_sign', 0.05825925),\n",
       " ('n02797295', 'barrow', 0.030381741),\n",
       " ('n04090263', 'rifle', 0.028206998)]"
      ]
     },
     "metadata": {},
     "output_type": "display_data"
    },
    {
     "data": {
      "text/plain": [
       "'Scaling x'"
      ]
     },
     "metadata": {},
     "output_type": "display_data"
    },
    {
     "data": {
      "text/plain": [
       "[('n06794110', 'street_sign', 0.19899195),\n",
       " ('n03891251', 'park_bench', 0.04949413),\n",
       " ('n06359193', 'web_site', 0.021278169),\n",
       " ('n04370456', 'sweatshirt', 0.015976671),\n",
       " ('n03888605', 'parallel_bars', 0.015560405)]"
      ]
     },
     "metadata": {},
     "output_type": "display_data"
    },
    {
     "data": {
      "text/plain": [
       "'Scaling y'"
      ]
     },
     "metadata": {},
     "output_type": "display_data"
    },
    {
     "data": {
      "text/plain": [
       "[('n06794110', 'street_sign', 0.5420632),\n",
       " ('n02437312', 'Arabian_camel', 0.09963908),\n",
       " ('n01518878', 'ostrich', 0.016313324),\n",
       " ('n04428191', 'thresher', 0.016020682),\n",
       " ('n06874185', 'traffic_light', 0.008476448)]"
      ]
     },
     "metadata": {},
     "output_type": "display_data"
    },
    {
     "data": {
      "text/plain": [
       "[('n04090263', 'rifle', 0.03334051),\n",
       " ('n03124170', 'cowboy_hat', 0.028830413),\n",
       " ('n04509417', 'unicycle', 0.024350509),\n",
       " ('n02841315', 'binoculars', 0.021360075),\n",
       " ('n02835271', 'bicycle-built-for-two', 0.019196983)]"
      ]
     },
     "metadata": {},
     "output_type": "display_data"
    },
    {
     "data": {
      "text/plain": [
       "'Scaling x'"
      ]
     },
     "metadata": {},
     "output_type": "display_data"
    },
    {
     "data": {
      "text/plain": [
       "[('n04370456', 'sweatshirt', 0.09118404),\n",
       " ('n03891251', 'park_bench', 0.032362208),\n",
       " ('n03124170', 'cowboy_hat', 0.03021316),\n",
       " ('n02514041', 'barracouta', 0.024893751),\n",
       " ('n04482393', 'tricycle', 0.0245364)]"
      ]
     },
     "metadata": {},
     "output_type": "display_data"
    },
    {
     "data": {
      "text/plain": [
       "'Scaling y'"
      ]
     },
     "metadata": {},
     "output_type": "display_data"
    },
    {
     "data": {
      "text/plain": [
       "[('n03787032', 'mortarboard', 0.047748428),\n",
       " ('n04371430', 'swimming_trunks', 0.032068886),\n",
       " ('n04136333', 'sarong', 0.030951666),\n",
       " ('n09421951', 'sandbar', 0.028480405),\n",
       " ('n02837789', 'bikini', 0.027366191)]"
      ]
     },
     "metadata": {},
     "output_type": "display_data"
    },
    {
     "data": {
      "text/plain": [
       "[('n04428191', 'thresher', 0.11762927),\n",
       " ('n03496892', 'harvester', 0.06968456),\n",
       " ('n03538406', 'horse_cart', 0.04822298),\n",
       " ('n04604644', 'worm_fence', 0.04514218),\n",
       " ('n03967562', 'plow', 0.04441321)]"
      ]
     },
     "metadata": {},
     "output_type": "display_data"
    },
    {
     "data": {
      "text/plain": [
       "'Scaling x'"
      ]
     },
     "metadata": {},
     "output_type": "display_data"
    },
    {
     "data": {
      "text/plain": [
       "[('n02437312', 'Arabian_camel', 0.1353726),\n",
       " ('n04552348', 'warplane', 0.031417295),\n",
       " ('n01518878', 'ostrich', 0.028856661),\n",
       " ('n09421951', 'sandbar', 0.026199913),\n",
       " ('n04389033', 'tank', 0.023438184)]"
      ]
     },
     "metadata": {},
     "output_type": "display_data"
    },
    {
     "data": {
      "text/plain": [
       "'Scaling y'"
      ]
     },
     "metadata": {},
     "output_type": "display_data"
    },
    {
     "data": {
      "text/plain": [
       "[('n09468604', 'valley', 0.053442888),\n",
       " ('n09399592', 'promontory', 0.04242839),\n",
       " ('n09428293', 'seashore', 0.039946772),\n",
       " ('n09193705', 'alp', 0.03336064),\n",
       " ('n04604644', 'worm_fence', 0.028293403)]"
      ]
     },
     "metadata": {},
     "output_type": "display_data"
    },
    {
     "data": {
      "text/plain": [
       "[('n06794110', 'street_sign', 0.2614417),\n",
       " ('n04604644', 'worm_fence', 0.044436418),\n",
       " ('n03967562', 'plow', 0.027052457),\n",
       " ('n02437616', 'llama', 0.022042511),\n",
       " ('n02437312', 'Arabian_camel', 0.019988067)]"
      ]
     },
     "metadata": {},
     "output_type": "display_data"
    },
    {
     "data": {
      "text/plain": [
       "'Scaling x'"
      ]
     },
     "metadata": {},
     "output_type": "display_data"
    },
    {
     "data": {
      "text/plain": [
       "[('n06794110', 'street_sign', 0.33496398),\n",
       " ('n03196217', 'digital_clock', 0.080200754),\n",
       " ('n04208210', 'shovel', 0.021064242),\n",
       " ('n02708093', 'analog_clock', 0.017725846),\n",
       " ('n03967562', 'plow', 0.016882148)]"
      ]
     },
     "metadata": {},
     "output_type": "display_data"
    },
    {
     "data": {
      "text/plain": [
       "'Scaling y'"
      ]
     },
     "metadata": {},
     "output_type": "display_data"
    },
    {
     "data": {
      "text/plain": [
       "[('n09468604', 'valley', 0.057902586),\n",
       " ('n02417914', 'ibex', 0.054274436),\n",
       " ('n09193705', 'alp', 0.051279478),\n",
       " ('n09399592', 'promontory', 0.027932758),\n",
       " ('n02410509', 'bison', 0.027400563)]"
      ]
     },
     "metadata": {},
     "output_type": "display_data"
    },
    {
     "data": {
      "text/plain": [
       "[('n02412080', 'ram', 0.2171644),\n",
       " ('n02403003', 'ox', 0.14267994),\n",
       " ('n02104029', 'kuvasz', 0.13011889),\n",
       " ('n02437616', 'llama', 0.11753368),\n",
       " ('n02114548', 'white_wolf', 0.06765799)]"
      ]
     },
     "metadata": {},
     "output_type": "display_data"
    },
    {
     "data": {
      "text/plain": [
       "'Scaling x'"
      ]
     },
     "metadata": {},
     "output_type": "display_data"
    },
    {
     "data": {
      "text/plain": [
       "[('n02104029', 'kuvasz', 0.1914141),\n",
       " ('n02114548', 'white_wolf', 0.06615968),\n",
       " ('n02105505', 'komondor', 0.05880061),\n",
       " ('n02412080', 'ram', 0.0468104),\n",
       " ('n06794110', 'street_sign', 0.04395252)]"
      ]
     },
     "metadata": {},
     "output_type": "display_data"
    },
    {
     "data": {
      "text/plain": [
       "'Scaling y'"
      ]
     },
     "metadata": {},
     "output_type": "display_data"
    },
    {
     "data": {
      "text/plain": [
       "[('n02417914', 'ibex', 0.08876628),\n",
       " ('n06359193', 'web_site', 0.036164522),\n",
       " ('n09468604', 'valley', 0.034991287),\n",
       " ('n09428293', 'seashore', 0.033657804),\n",
       " ('n09399592', 'promontory', 0.028419636)]"
      ]
     },
     "metadata": {},
     "output_type": "display_data"
    },
    {
     "data": {
      "text/plain": [
       "[('n02403003', 'ox', 0.52045107),\n",
       " ('n03868242', 'oxcart', 0.13543786),\n",
       " ('n02412080', 'ram', 0.11586638),\n",
       " ('n02437616', 'llama', 0.019794855),\n",
       " ('n03967562', 'plow', 0.016527852)]"
      ]
     },
     "metadata": {},
     "output_type": "display_data"
    },
    {
     "data": {
      "text/plain": [
       "'Scaling x'"
      ]
     },
     "metadata": {},
     "output_type": "display_data"
    },
    {
     "data": {
      "text/plain": [
       "[('n02134084', 'ice_bear', 0.087034315),\n",
       " ('n02098286', 'West_Highland_white_terrier', 0.069447994),\n",
       " ('n02095889', 'Sealyham_terrier', 0.041281726),\n",
       " ('n04613696', 'yurt', 0.03875464),\n",
       " ('n02403003', 'ox', 0.03737811)]"
      ]
     },
     "metadata": {},
     "output_type": "display_data"
    },
    {
     "data": {
      "text/plain": [
       "'Scaling y'"
      ]
     },
     "metadata": {},
     "output_type": "display_data"
    },
    {
     "data": {
      "text/plain": [
       "[('n09399592', 'promontory', 0.061289575),\n",
       " ('n09428293', 'seashore', 0.058616314),\n",
       " ('n03792972', 'mountain_tent', 0.051748578),\n",
       " ('n04467665', 'trailer_truck', 0.03882404),\n",
       " ('n09468604', 'valley', 0.032451957)]"
      ]
     },
     "metadata": {},
     "output_type": "display_data"
    },
    {
     "data": {
      "text/plain": [
       "[('n06359193', 'web_site', 0.32930678),\n",
       " ('n03291819', 'envelope', 0.026352683),\n",
       " ('n02777292', 'balance_beam', 0.017154748),\n",
       " ('n03376595', 'folding_chair', 0.014493638),\n",
       " ('n03832673', 'notebook', 0.014396449)]"
      ]
     },
     "metadata": {},
     "output_type": "display_data"
    },
    {
     "data": {
      "text/plain": [
       "'Scaling x'"
      ]
     },
     "metadata": {},
     "output_type": "display_data"
    },
    {
     "data": {
      "text/plain": [
       "[('n06359193', 'web_site', 0.084952995),\n",
       " ('n03532672', 'hook', 0.017886044),\n",
       " ('n04357314', 'sunscreen', 0.01782601),\n",
       " ('n09421951', 'sandbar', 0.01694033),\n",
       " ('n03291819', 'envelope', 0.014206009)]"
      ]
     },
     "metadata": {},
     "output_type": "display_data"
    },
    {
     "data": {
      "text/plain": [
       "'Scaling y'"
      ]
     },
     "metadata": {},
     "output_type": "display_data"
    },
    {
     "data": {
      "text/plain": [
       "[('n01518878', 'ostrich', 0.053301804),\n",
       " ('n02422106', 'hartebeest', 0.043629494),\n",
       " ('n06359193', 'web_site', 0.042300686),\n",
       " ('n02130308', 'cheetah', 0.037329387),\n",
       " ('n02117135', 'hyena', 0.023333661)]"
      ]
     },
     "metadata": {},
     "output_type": "display_data"
    },
    {
     "data": {
      "text/plain": [
       "[('n03743016', 'megalith', 0.08330823),\n",
       " ('n02950826', 'cannon', 0.042555362),\n",
       " ('n03891251', 'park_bench', 0.0340475),\n",
       " ('n03496892', 'harvester', 0.02553525),\n",
       " ('n02971356', 'carton', 0.024813505)]"
      ]
     },
     "metadata": {},
     "output_type": "display_data"
    },
    {
     "data": {
      "text/plain": [
       "'Scaling x'"
      ]
     },
     "metadata": {},
     "output_type": "display_data"
    },
    {
     "data": {
      "text/plain": [
       "[('n02437312', 'Arabian_camel', 0.03292448),\n",
       " ('n07802026', 'hay', 0.022131007),\n",
       " ('n03498962', 'hatchet', 0.019708576),\n",
       " ('n01518878', 'ostrich', 0.015921801),\n",
       " ('n02799071', 'baseball', 0.015342941)]"
      ]
     },
     "metadata": {},
     "output_type": "display_data"
    },
    {
     "data": {
      "text/plain": [
       "'Scaling y'"
      ]
     },
     "metadata": {},
     "output_type": "display_data"
    },
    {
     "data": {
      "text/plain": [
       "[('n03743016', 'megalith', 0.2656221),\n",
       " ('n01518878', 'ostrich', 0.025493227),\n",
       " ('n02410509', 'bison', 0.022955429),\n",
       " ('n02437312', 'Arabian_camel', 0.017320817),\n",
       " ('n02814860', 'beacon', 0.016762389)]"
      ]
     },
     "metadata": {},
     "output_type": "display_data"
    },
    {
     "data": {
      "text/plain": [
       "[('n03787032', 'mortarboard', 0.043052536),\n",
       " ('n03903868', 'pedestal', 0.035951592),\n",
       " ('n03045698', 'cloak', 0.031187376),\n",
       " ('n02669723', 'academic_gown', 0.02445559),\n",
       " ('n04370456', 'sweatshirt', 0.020938214)]"
      ]
     },
     "metadata": {},
     "output_type": "display_data"
    },
    {
     "data": {
      "text/plain": [
       "'Scaling x'"
      ]
     },
     "metadata": {},
     "output_type": "display_data"
    },
    {
     "data": {
      "text/plain": [
       "[('n09428293', 'seashore', 0.04243992),\n",
       " ('n09421951', 'sandbar', 0.03438396),\n",
       " ('n04347754', 'submarine', 0.030127503),\n",
       " ('n02077923', 'sea_lion', 0.027859043),\n",
       " ('n02437312', 'Arabian_camel', 0.026791254)]"
      ]
     },
     "metadata": {},
     "output_type": "display_data"
    },
    {
     "data": {
      "text/plain": [
       "'Scaling y'"
      ]
     },
     "metadata": {},
     "output_type": "display_data"
    },
    {
     "data": {
      "text/plain": [
       "[('n03045698', 'cloak', 0.45172694),\n",
       " ('n03787032', 'mortarboard', 0.06717114),\n",
       " ('n02669723', 'academic_gown', 0.03537887),\n",
       " ('n04325704', 'stole', 0.03225417),\n",
       " ('n03903868', 'pedestal', 0.032247495)]"
      ]
     },
     "metadata": {},
     "output_type": "display_data"
    },
    {
     "data": {
      "text/plain": [
       "[('n09835506', 'ballplayer', 0.115474954),\n",
       " ('n04090263', 'rifle', 0.075510584),\n",
       " ('n03888605', 'parallel_bars', 0.0398647),\n",
       " ('n02799071', 'baseball', 0.038905025),\n",
       " ('n03124170', 'cowboy_hat', 0.03841779)]"
      ]
     },
     "metadata": {},
     "output_type": "display_data"
    },
    {
     "data": {
      "text/plain": [
       "'Scaling x'"
      ]
     },
     "metadata": {},
     "output_type": "display_data"
    },
    {
     "data": {
      "text/plain": [
       "[('n09835506', 'ballplayer', 0.11733355),\n",
       " ('n03535780', 'horizontal_bar', 0.09012105),\n",
       " ('n03888605', 'parallel_bars', 0.084540114),\n",
       " ('n02799071', 'baseball', 0.03312936),\n",
       " ('n04540053', 'volleyball', 0.027702881)]"
      ]
     },
     "metadata": {},
     "output_type": "display_data"
    },
    {
     "data": {
      "text/plain": [
       "'Scaling y'"
      ]
     },
     "metadata": {},
     "output_type": "display_data"
    },
    {
     "data": {
      "text/plain": [
       "[('n03888605', 'parallel_bars', 0.19622011),\n",
       " ('n03535780', 'horizontal_bar', 0.11656298),\n",
       " ('n09835506', 'ballplayer', 0.06734599),\n",
       " ('n02879718', 'bow', 0.065272264),\n",
       " ('n03045698', 'cloak', 0.054692622)]"
      ]
     },
     "metadata": {},
     "output_type": "display_data"
    },
    {
     "data": {
      "text/plain": [
       "[('n04371774', 'swing', 0.033315096),\n",
       " ('n09835506', 'ballplayer', 0.03164015),\n",
       " ('n04090263', 'rifle', 0.030924868),\n",
       " ('n03535780', 'horizontal_bar', 0.023848802),\n",
       " ('n03124170', 'cowboy_hat', 0.022339623)]"
      ]
     },
     "metadata": {},
     "output_type": "display_data"
    },
    {
     "data": {
      "text/plain": [
       "'Scaling x'"
      ]
     },
     "metadata": {},
     "output_type": "display_data"
    },
    {
     "data": {
      "text/plain": [
       "[('n09835506', 'ballplayer', 0.13709497),\n",
       " ('n03124170', 'cowboy_hat', 0.066676624),\n",
       " ('n02799071', 'baseball', 0.028406318),\n",
       " ('n04090263', 'rifle', 0.026275521),\n",
       " ('n02727426', 'apiary', 0.02421546)]"
      ]
     },
     "metadata": {},
     "output_type": "display_data"
    },
    {
     "data": {
      "text/plain": [
       "'Scaling y'"
      ]
     },
     "metadata": {},
     "output_type": "display_data"
    },
    {
     "data": {
      "text/plain": [
       "[('n09835506', 'ballplayer', 0.032223508),\n",
       " ('n04090263', 'rifle', 0.030315777),\n",
       " ('n02437312', 'Arabian_camel', 0.029998226),\n",
       " ('n02879718', 'bow', 0.02888834),\n",
       " ('n03535780', 'horizontal_bar', 0.024399655)]"
      ]
     },
     "metadata": {},
     "output_type": "display_data"
    },
    {
     "data": {
      "text/plain": [
       "[('n03976657', 'pole', 0.040484555),\n",
       " ('n04371774', 'swing', 0.039128255),\n",
       " ('n02906734', 'broom', 0.03831102),\n",
       " ('n03496892', 'harvester', 0.038183812),\n",
       " ('n07802026', 'hay', 0.034219246)]"
      ]
     },
     "metadata": {},
     "output_type": "display_data"
    },
    {
     "data": {
      "text/plain": [
       "'Scaling x'"
      ]
     },
     "metadata": {},
     "output_type": "display_data"
    },
    {
     "data": {
      "text/plain": [
       "[('n09421951', 'sandbar', 0.04126618),\n",
       " ('n04540053', 'volleyball', 0.030789778),\n",
       " ('n03976657', 'pole', 0.02766908),\n",
       " ('n02437312', 'Arabian_camel', 0.024866667),\n",
       " ('n04371774', 'swing', 0.024225855)]"
      ]
     },
     "metadata": {},
     "output_type": "display_data"
    },
    {
     "data": {
      "text/plain": [
       "'Scaling y'"
      ]
     },
     "metadata": {},
     "output_type": "display_data"
    },
    {
     "data": {
      "text/plain": [
       "[('n04428191', 'thresher', 0.11178999),\n",
       " ('n02437312', 'Arabian_camel', 0.06166859),\n",
       " ('n02437616', 'llama', 0.048208904),\n",
       " ('n03496892', 'harvester', 0.04540709),\n",
       " ('n02106382', 'Bouvier_des_Flandres', 0.023298444)]"
      ]
     },
     "metadata": {},
     "output_type": "display_data"
    },
    {
     "data": {
      "text/plain": [
       "[('n02105505', 'komondor', 0.7492619),\n",
       " ('n02437616', 'llama', 0.09853281),\n",
       " ('n04367480', 'swab', 0.03512696),\n",
       " ('n02906734', 'broom', 0.020976366),\n",
       " ('n02088094', 'Afghan_hound', 0.007037832)]"
      ]
     },
     "metadata": {},
     "output_type": "display_data"
    },
    {
     "data": {
      "text/plain": [
       "'Scaling x'"
      ]
     },
     "metadata": {},
     "output_type": "display_data"
    },
    {
     "data": {
      "text/plain": [
       "[('n02091831', 'Saluki', 0.052135352),\n",
       " ('n02090622', 'borzoi', 0.041189376),\n",
       " ('n06794110', 'street_sign', 0.032967485),\n",
       " ('n02088094', 'Afghan_hound', 0.027555728),\n",
       " ('n02906734', 'broom', 0.02671599)]"
      ]
     },
     "metadata": {},
     "output_type": "display_data"
    },
    {
     "data": {
      "text/plain": [
       "'Scaling y'"
      ]
     },
     "metadata": {},
     "output_type": "display_data"
    },
    {
     "data": {
      "text/plain": [
       "[('n02437616', 'llama', 0.22999436),\n",
       " ('n02105505', 'komondor', 0.2158272),\n",
       " ('n02114548', 'white_wolf', 0.057679858),\n",
       " ('n02091831', 'Saluki', 0.04957468),\n",
       " ('n02437312', 'Arabian_camel', 0.031392608)]"
      ]
     },
     "metadata": {},
     "output_type": "display_data"
    },
    {
     "data": {
      "text/plain": [
       "[('n02104029', 'kuvasz', 0.4414817),\n",
       " ('n02105505', 'komondor', 0.20218945),\n",
       " ('n02412080', 'ram', 0.08047205),\n",
       " ('n02111500', 'Great_Pyrenees', 0.07010695),\n",
       " ('n02101556', 'clumber', 0.062301513)]"
      ]
     },
     "metadata": {},
     "output_type": "display_data"
    },
    {
     "data": {
      "text/plain": [
       "'Scaling x'"
      ]
     },
     "metadata": {},
     "output_type": "display_data"
    },
    {
     "data": {
      "text/plain": [
       "[('n02105505', 'komondor', 0.5822894),\n",
       " ('n02104029', 'kuvasz', 0.17958616),\n",
       " ('n02095889', 'Sealyham_terrier', 0.10308066),\n",
       " ('n02101556', 'clumber', 0.03545365),\n",
       " ('n02090622', 'borzoi', 0.02734866)]"
      ]
     },
     "metadata": {},
     "output_type": "display_data"
    },
    {
     "data": {
      "text/plain": [
       "'Scaling y'"
      ]
     },
     "metadata": {},
     "output_type": "display_data"
    },
    {
     "data": {
      "text/plain": [
       "[('n02105505', 'komondor', 0.48781142),\n",
       " ('n02104029', 'kuvasz', 0.101748995),\n",
       " ('n04599235', 'wool', 0.0808098),\n",
       " ('n02437616', 'llama', 0.042950068),\n",
       " ('n02095889', 'Sealyham_terrier', 0.032088634)]"
      ]
     },
     "metadata": {},
     "output_type": "display_data"
    },
    {
     "data": {
      "text/plain": [
       "[('n02104029', 'kuvasz', 0.21607779),\n",
       " ('n02111500', 'Great_Pyrenees', 0.18502764),\n",
       " ('n02101556', 'clumber', 0.13780819),\n",
       " ('n02412080', 'ram', 0.13728729),\n",
       " ('n02403003', 'ox', 0.038634725)]"
      ]
     },
     "metadata": {},
     "output_type": "display_data"
    },
    {
     "data": {
      "text/plain": [
       "'Scaling x'"
      ]
     },
     "metadata": {},
     "output_type": "display_data"
    },
    {
     "data": {
      "text/plain": [
       "[('n02101556', 'clumber', 0.7968237),\n",
       " ('n02095889', 'Sealyham_terrier', 0.14704767),\n",
       " ('n02100735', 'English_setter', 0.015076835),\n",
       " ('n02098286', 'West_Highland_white_terrier', 0.0056762556),\n",
       " ('n02102480', 'Sussex_spaniel', 0.0045826384)]"
      ]
     },
     "metadata": {},
     "output_type": "display_data"
    },
    {
     "data": {
      "text/plain": [
       "'Scaling y'"
      ]
     },
     "metadata": {},
     "output_type": "display_data"
    },
    {
     "data": {
      "text/plain": [
       "[('n02403003', 'ox', 0.47404793),\n",
       " ('n02095889', 'Sealyham_terrier', 0.06419547),\n",
       " ('n02134084', 'ice_bear', 0.0459013),\n",
       " ('n02111500', 'Great_Pyrenees', 0.027621992),\n",
       " ('n02437616', 'llama', 0.027544403)]"
      ]
     },
     "metadata": {},
     "output_type": "display_data"
    },
    {
     "data": {
      "text/plain": [
       "[('n02106382', 'Bouvier_des_Flandres', 0.23161013),\n",
       " ('n02097209', 'standard_schnauzer', 0.06797679),\n",
       " ('n02093859', 'Kerry_blue_terrier', 0.04315131),\n",
       " ('n02093647', 'Bedlington_terrier', 0.040861897),\n",
       " ('n02095889', 'Sealyham_terrier', 0.03944938)]"
      ]
     },
     "metadata": {},
     "output_type": "display_data"
    },
    {
     "data": {
      "text/plain": [
       "'Scaling x'"
      ]
     },
     "metadata": {},
     "output_type": "display_data"
    },
    {
     "data": {
      "text/plain": [
       "[('n06359193', 'web_site', 0.10447383),\n",
       " ('n03291819', 'envelope', 0.0195727),\n",
       " ('n02091635', 'otterhound', 0.0140866),\n",
       " ('n02115641', 'dingo', 0.013324682),\n",
       " ('n02106662', 'German_shepherd', 0.0126893455)]"
      ]
     },
     "metadata": {},
     "output_type": "display_data"
    },
    {
     "data": {
      "text/plain": [
       "'Scaling y'"
      ]
     },
     "metadata": {},
     "output_type": "display_data"
    },
    {
     "data": {
      "text/plain": [
       "[('n06359193', 'web_site', 0.32320115),\n",
       " ('n03291819', 'envelope', 0.039849352),\n",
       " ('n03196217', 'digital_clock', 0.03264496),\n",
       " ('n06794110', 'street_sign', 0.023382634),\n",
       " ('n04149813', 'scoreboard', 0.015740745)]"
      ]
     },
     "metadata": {},
     "output_type": "display_data"
    },
    {
     "data": {
      "text/plain": [
       "[('n02097209', 'standard_schnauzer', 0.43315756),\n",
       " ('n02097130', 'giant_schnauzer', 0.1017733),\n",
       " ('n02106382', 'Bouvier_des_Flandres', 0.08127085),\n",
       " ('n02105412', 'kelpie', 0.033704452),\n",
       " ('n02091831', 'Saluki', 0.031075295)]"
      ]
     },
     "metadata": {},
     "output_type": "display_data"
    },
    {
     "data": {
      "text/plain": [
       "'Scaling x'"
      ]
     },
     "metadata": {},
     "output_type": "display_data"
    },
    {
     "data": {
      "text/plain": [
       "[('n06794110', 'street_sign', 0.10580863),\n",
       " ('n09288635', 'geyser', 0.034849964),\n",
       " ('n02106382', 'Bouvier_des_Flandres', 0.02985685),\n",
       " ('n02097209', 'standard_schnauzer', 0.027113458),\n",
       " ('n02397096', 'warthog', 0.021909311)]"
      ]
     },
     "metadata": {},
     "output_type": "display_data"
    },
    {
     "data": {
      "text/plain": [
       "'Scaling y'"
      ]
     },
     "metadata": {},
     "output_type": "display_data"
    },
    {
     "data": {
      "text/plain": [
       "[('n06794110', 'street_sign', 0.052172195),\n",
       " ('n02423022', 'gazelle', 0.030358668),\n",
       " ('n02749479', 'assault_rifle', 0.0281602),\n",
       " ('n04090263', 'rifle', 0.025306864),\n",
       " ('n07248320', 'book_jacket', 0.022932604)]"
      ]
     },
     "metadata": {},
     "output_type": "display_data"
    },
    {
     "data": {
      "text/plain": [
       "[('n02097209', 'standard_schnauzer', 0.19428399),\n",
       " ('n02097130', 'giant_schnauzer', 0.09796791),\n",
       " ('n02106382', 'Bouvier_des_Flandres', 0.04999423),\n",
       " ('n02091831', 'Saluki', 0.038177095),\n",
       " ('n02090721', 'Irish_wolfhound', 0.035361957)]"
      ]
     },
     "metadata": {},
     "output_type": "display_data"
    },
    {
     "data": {
      "text/plain": [
       "'Scaling x'"
      ]
     },
     "metadata": {},
     "output_type": "display_data"
    },
    {
     "data": {
      "text/plain": [
       "[('n02105412', 'kelpie', 0.07406135),\n",
       " ('n02403003', 'ox', 0.049340695),\n",
       " ('n02091831', 'Saluki', 0.03073916),\n",
       " ('n02395406', 'hog', 0.030622868),\n",
       " ('n02097130', 'giant_schnauzer', 0.030615538)]"
      ]
     },
     "metadata": {},
     "output_type": "display_data"
    },
    {
     "data": {
      "text/plain": [
       "'Scaling y'"
      ]
     },
     "metadata": {},
     "output_type": "display_data"
    },
    {
     "data": {
      "text/plain": [
       "[('n03595614', 'jersey', 0.10759646),\n",
       " ('n06794110', 'street_sign', 0.035471767),\n",
       " ('n02916936', 'bulletproof_vest', 0.03458651),\n",
       " ('n04136333', 'sarong', 0.03340067),\n",
       " ('n03617480', 'kimono', 0.020631349)]"
      ]
     },
     "metadata": {},
     "output_type": "display_data"
    },
    {
     "data": {
      "text/plain": [
       "[('n02106382', 'Bouvier_des_Flandres', 0.08640726),\n",
       " ('n02097130', 'giant_schnauzer', 0.048380602),\n",
       " ('n02090721', 'Irish_wolfhound', 0.03775669),\n",
       " ('n02097209', 'standard_schnauzer', 0.034282994),\n",
       " ('n02105251', 'briard', 0.032370478)]"
      ]
     },
     "metadata": {},
     "output_type": "display_data"
    },
    {
     "data": {
      "text/plain": [
       "'Scaling x'"
      ]
     },
     "metadata": {},
     "output_type": "display_data"
    },
    {
     "data": {
      "text/plain": [
       "[('n03595614', 'jersey', 0.038982637),\n",
       " ('n02106382', 'Bouvier_des_Flandres', 0.034989078),\n",
       " ('n04370456', 'sweatshirt', 0.027209582),\n",
       " ('n02097209', 'standard_schnauzer', 0.023777453),\n",
       " ('n02090721', 'Irish_wolfhound', 0.022652877)]"
      ]
     },
     "metadata": {},
     "output_type": "display_data"
    },
    {
     "data": {
      "text/plain": [
       "'Scaling y'"
      ]
     },
     "metadata": {},
     "output_type": "display_data"
    },
    {
     "data": {
      "text/plain": [
       "[('n03617480', 'kimono', 0.15946564),\n",
       " ('n04136333', 'sarong', 0.068791166),\n",
       " ('n02667093', 'abaya', 0.0603756),\n",
       " ('n04479046', 'trench_coat', 0.03215817),\n",
       " ('n03787032', 'mortarboard', 0.02771409)]"
      ]
     },
     "metadata": {},
     "output_type": "display_data"
    },
    {
     "data": {
      "text/plain": [
       "[('n09835506', 'ballplayer', 0.08578818),\n",
       " ('n02799071', 'baseball', 0.03441216),\n",
       " ('n04090263', 'rifle', 0.032068428),\n",
       " ('n02106382', 'Bouvier_des_Flandres', 0.023030013),\n",
       " ('n02106662', 'German_shepherd', 0.019415893)]"
      ]
     },
     "metadata": {},
     "output_type": "display_data"
    },
    {
     "data": {
      "text/plain": [
       "'Scaling x'"
      ]
     },
     "metadata": {},
     "output_type": "display_data"
    },
    {
     "data": {
      "text/plain": [
       "[('n04371430', 'swimming_trunks', 0.17412865),\n",
       " ('n04136333', 'sarong', 0.0698039),\n",
       " ('n04039381', 'racket', 0.0588294),\n",
       " ('n09835506', 'ballplayer', 0.028701473),\n",
       " ('n04370456', 'sweatshirt', 0.024895081)]"
      ]
     },
     "metadata": {},
     "output_type": "display_data"
    },
    {
     "data": {
      "text/plain": [
       "'Scaling y'"
      ]
     },
     "metadata": {},
     "output_type": "display_data"
    },
    {
     "data": {
      "text/plain": [
       "[('n03124043', 'cowboy_boot', 0.029590465),\n",
       " ('n03141823', 'crutch', 0.026806436),\n",
       " ('n04370456', 'sweatshirt', 0.025092885),\n",
       " ('n04090263', 'rifle', 0.024555126),\n",
       " ('n04371774', 'swing', 0.013356675)]"
      ]
     },
     "metadata": {},
     "output_type": "display_data"
    },
    {
     "data": {
      "text/plain": [
       "[('n04371774', 'swing', 0.057077464),\n",
       " ('n02106382', 'Bouvier_des_Flandres', 0.027980192),\n",
       " ('n02906734', 'broom', 0.01985571),\n",
       " ('n03976657', 'pole', 0.017302198),\n",
       " ('n09835506', 'ballplayer', 0.01532777)]"
      ]
     },
     "metadata": {},
     "output_type": "display_data"
    },
    {
     "data": {
      "text/plain": [
       "'Scaling x'"
      ]
     },
     "metadata": {},
     "output_type": "display_data"
    },
    {
     "data": {
      "text/plain": [
       "[('n09421951', 'sandbar', 0.02554221),\n",
       " ('n09835506', 'ballplayer', 0.024525736),\n",
       " ('n02837789', 'bikini', 0.019926488),\n",
       " ('n02437312', 'Arabian_camel', 0.019012257),\n",
       " ('n09428293', 'seashore', 0.016960824)]"
      ]
     },
     "metadata": {},
     "output_type": "display_data"
    },
    {
     "data": {
      "text/plain": [
       "'Scaling y'"
      ]
     },
     "metadata": {},
     "output_type": "display_data"
    },
    {
     "data": {
      "text/plain": [
       "[('n02423022', 'gazelle', 0.033261064),\n",
       " ('n02091831', 'Saluki', 0.020870535),\n",
       " ('n02410509', 'bison', 0.020706479),\n",
       " ('n02397096', 'warthog', 0.020012185),\n",
       " ('n02422106', 'hartebeest', 0.016753312)]"
      ]
     },
     "metadata": {},
     "output_type": "display_data"
    },
    {
     "data": {
      "text/plain": [
       "[('n02105505', 'komondor', 0.71011114),\n",
       " ('n02437616', 'llama', 0.22187841),\n",
       " ('n02403003', 'ox', 0.01313871),\n",
       " ('n02088094', 'Afghan_hound', 0.006779056),\n",
       " ('n02105251', 'briard', 0.004191566)]"
      ]
     },
     "metadata": {},
     "output_type": "display_data"
    },
    {
     "data": {
      "text/plain": [
       "'Scaling x'"
      ]
     },
     "metadata": {},
     "output_type": "display_data"
    },
    {
     "data": {
      "text/plain": [
       "[('n02085936', 'Maltese_dog', 0.31151515),\n",
       " ('n02105251', 'briard', 0.101421505),\n",
       " ('n02095889', 'Sealyham_terrier', 0.08898236),\n",
       " ('n02097474', 'Tibetan_terrier', 0.067336924),\n",
       " ('n02088094', 'Afghan_hound', 0.05382009)]"
      ]
     },
     "metadata": {},
     "output_type": "display_data"
    },
    {
     "data": {
      "text/plain": [
       "'Scaling y'"
      ]
     },
     "metadata": {},
     "output_type": "display_data"
    },
    {
     "data": {
      "text/plain": [
       "[('n02105505', 'komondor', 0.9110124),\n",
       " ('n02088094', 'Afghan_hound', 0.045021825),\n",
       " ('n02437616', 'llama', 0.008557948),\n",
       " ('n02091831', 'Saluki', 0.0054042707),\n",
       " ('n02105251', 'briard', 0.0035369915)]"
      ]
     },
     "metadata": {},
     "output_type": "display_data"
    },
    {
     "data": {
      "text/plain": [
       "[('n02437616', 'llama', 0.64198375),\n",
       " ('n02104029', 'kuvasz', 0.14541683),\n",
       " ('n02412080', 'ram', 0.05414014),\n",
       " ('n02403003', 'ox', 0.025626773),\n",
       " ('n02090622', 'borzoi', 0.0243811)]"
      ]
     },
     "metadata": {},
     "output_type": "display_data"
    },
    {
     "data": {
      "text/plain": [
       "'Scaling x'"
      ]
     },
     "metadata": {},
     "output_type": "display_data"
    },
    {
     "data": {
      "text/plain": [
       "[('n02105505', 'komondor', 0.18507321),\n",
       " ('n02104029', 'kuvasz', 0.12886205),\n",
       " ('n02098286', 'West_Highland_white_terrier', 0.1233592),\n",
       " ('n02111500', 'Great_Pyrenees', 0.12146985),\n",
       " ('n02437616', 'llama', 0.080440335)]"
      ]
     },
     "metadata": {},
     "output_type": "display_data"
    },
    {
     "data": {
      "text/plain": [
       "'Scaling y'"
      ]
     },
     "metadata": {},
     "output_type": "display_data"
    },
    {
     "data": {
      "text/plain": [
       "[('n02090622', 'borzoi', 0.27929464),\n",
       " ('n02100735', 'English_setter', 0.2322584),\n",
       " ('n02104029', 'kuvasz', 0.16831635),\n",
       " ('n02437616', 'llama', 0.07275671),\n",
       " ('n02111500', 'Great_Pyrenees', 0.05586713)]"
      ]
     },
     "metadata": {},
     "output_type": "display_data"
    },
    {
     "data": {
      "text/plain": [
       "[('n02412080', 'ram', 0.5780549),\n",
       " ('n02437616', 'llama', 0.16376518),\n",
       " ('n02104029', 'kuvasz', 0.09843473),\n",
       " ('n02415577', 'bighorn', 0.08987972),\n",
       " ('n02403003', 'ox', 0.016357327)]"
      ]
     },
     "metadata": {},
     "output_type": "display_data"
    },
    {
     "data": {
      "text/plain": [
       "'Scaling x'"
      ]
     },
     "metadata": {},
     "output_type": "display_data"
    },
    {
     "data": {
      "text/plain": [
       "[('n02104029', 'kuvasz', 0.3410429),\n",
       " ('n02395406', 'hog', 0.16027802),\n",
       " ('n02101556', 'clumber', 0.12345349),\n",
       " ('n02111500', 'Great_Pyrenees', 0.049757),\n",
       " ('n02100735', 'English_setter', 0.034194976)]"
      ]
     },
     "metadata": {},
     "output_type": "display_data"
    },
    {
     "data": {
      "text/plain": [
       "'Scaling y'"
      ]
     },
     "metadata": {},
     "output_type": "display_data"
    },
    {
     "data": {
      "text/plain": [
       "[('n02087046', 'toy_terrier', 0.13391002),\n",
       " ('n02114548', 'white_wolf', 0.08992222),\n",
       " ('n02091831', 'Saluki', 0.08669263),\n",
       " ('n02104029', 'kuvasz', 0.08565126),\n",
       " ('n02090622', 'borzoi', 0.082244575)]"
      ]
     },
     "metadata": {},
     "output_type": "display_data"
    },
    {
     "data": {
      "text/plain": [
       "[('n02097209', 'standard_schnauzer', 0.15831089),\n",
       " ('n02105251', 'briard', 0.12199729),\n",
       " ('n02106382', 'Bouvier_des_Flandres', 0.11311671),\n",
       " ('n02088094', 'Afghan_hound', 0.060198735),\n",
       " ('n02091635', 'otterhound', 0.053897355)]"
      ]
     },
     "metadata": {},
     "output_type": "display_data"
    },
    {
     "data": {
      "text/plain": [
       "'Scaling x'"
      ]
     },
     "metadata": {},
     "output_type": "display_data"
    },
    {
     "data": {
      "text/plain": [
       "[('n06359193', 'web_site', 0.09995519),\n",
       " ('n02106662', 'German_shepherd', 0.014075775),\n",
       " ('n02088466', 'bloodhound', 0.013952554),\n",
       " ('n02115641', 'dingo', 0.013915638),\n",
       " ('n03291819', 'envelope', 0.013724468)]"
      ]
     },
     "metadata": {},
     "output_type": "display_data"
    },
    {
     "data": {
      "text/plain": [
       "'Scaling y'"
      ]
     },
     "metadata": {},
     "output_type": "display_data"
    },
    {
     "data": {
      "text/plain": [
       "[('n02088094', 'Afghan_hound', 0.12194579),\n",
       " ('n02091831', 'Saluki', 0.09877383),\n",
       " ('n02097209', 'standard_schnauzer', 0.07620228),\n",
       " ('n02091635', 'otterhound', 0.05703603),\n",
       " ('n02090622', 'borzoi', 0.05604092)]"
      ]
     },
     "metadata": {},
     "output_type": "display_data"
    },
    {
     "data": {
      "text/plain": [
       "[('n02097209', 'standard_schnauzer', 0.39798006),\n",
       " ('n02091831', 'Saluki', 0.16753662),\n",
       " ('n02105412', 'kelpie', 0.104194626),\n",
       " ('n02097130', 'giant_schnauzer', 0.10141955),\n",
       " ('n02090622', 'borzoi', 0.036246262)]"
      ]
     },
     "metadata": {},
     "output_type": "display_data"
    },
    {
     "data": {
      "text/plain": [
       "'Scaling x'"
      ]
     },
     "metadata": {},
     "output_type": "display_data"
    },
    {
     "data": {
      "text/plain": [
       "[('n02097209', 'standard_schnauzer', 0.17656815),\n",
       " ('n02088094', 'Afghan_hound', 0.11586936),\n",
       " ('n02090622', 'borzoi', 0.092433386),\n",
       " ('n02091831', 'Saluki', 0.07514774),\n",
       " ('n02096437', 'Dandie_Dinmont', 0.047595512)]"
      ]
     },
     "metadata": {},
     "output_type": "display_data"
    },
    {
     "data": {
      "text/plain": [
       "'Scaling y'"
      ]
     },
     "metadata": {},
     "output_type": "display_data"
    },
    {
     "data": {
      "text/plain": [
       "[('n02091831', 'Saluki', 0.4935747),\n",
       " ('n02097209', 'standard_schnauzer', 0.2487342),\n",
       " ('n02097130', 'giant_schnauzer', 0.066885024),\n",
       " ('n02090622', 'borzoi', 0.03952197),\n",
       " ('n02088094', 'Afghan_hound', 0.013028165)]"
      ]
     },
     "metadata": {},
     "output_type": "display_data"
    },
    {
     "data": {
      "text/plain": [
       "[('n02097209', 'standard_schnauzer', 0.16280144),\n",
       " ('n02097130', 'giant_schnauzer', 0.1179562),\n",
       " ('n02108551', 'Tibetan_mastiff', 0.109924726),\n",
       " ('n02106662', 'German_shepherd', 0.07568617),\n",
       " ('n02090622', 'borzoi', 0.07150388)]"
      ]
     },
     "metadata": {},
     "output_type": "display_data"
    },
    {
     "data": {
      "text/plain": [
       "'Scaling x'"
      ]
     },
     "metadata": {},
     "output_type": "display_data"
    },
    {
     "data": {
      "text/plain": [
       "[('n02091831', 'Saluki', 0.12814666),\n",
       " ('n02090622', 'borzoi', 0.10075148),\n",
       " ('n02106662', 'German_shepherd', 0.09609547),\n",
       " ('n02105412', 'kelpie', 0.075245224),\n",
       " ('n02113186', 'Cardigan', 0.07049166)]"
      ]
     },
     "metadata": {},
     "output_type": "display_data"
    },
    {
     "data": {
      "text/plain": [
       "'Scaling y'"
      ]
     },
     "metadata": {},
     "output_type": "display_data"
    },
    {
     "data": {
      "text/plain": [
       "[('n02106382', 'Bouvier_des_Flandres', 0.19733536),\n",
       " ('n02395406', 'hog', 0.063461065),\n",
       " ('n02097130', 'giant_schnauzer', 0.041233726),\n",
       " ('n02108551', 'Tibetan_mastiff', 0.029609324),\n",
       " ('n02105412', 'kelpie', 0.029205175)]"
      ]
     },
     "metadata": {},
     "output_type": "display_data"
    },
    {
     "data": {
      "text/plain": [
       "[('n02106382', 'Bouvier_des_Flandres', 0.32575074),\n",
       " ('n02097130', 'giant_schnauzer', 0.16228564),\n",
       " ('n02097209', 'standard_schnauzer', 0.0869706),\n",
       " ('n02105251', 'briard', 0.033488497),\n",
       " ('n02111277', 'Newfoundland', 0.028228609)]"
      ]
     },
     "metadata": {},
     "output_type": "display_data"
    },
    {
     "data": {
      "text/plain": [
       "'Scaling x'"
      ]
     },
     "metadata": {},
     "output_type": "display_data"
    },
    {
     "data": {
      "text/plain": [
       "[('n02097130', 'giant_schnauzer', 0.09525143),\n",
       " ('n02097209', 'standard_schnauzer', 0.09395481),\n",
       " ('n02134418', 'sloth_bear', 0.0678948),\n",
       " ('n02106382', 'Bouvier_des_Flandres', 0.06770832),\n",
       " ('n02395406', 'hog', 0.059682876)]"
      ]
     },
     "metadata": {},
     "output_type": "display_data"
    },
    {
     "data": {
      "text/plain": [
       "'Scaling y'"
      ]
     },
     "metadata": {},
     "output_type": "display_data"
    },
    {
     "data": {
      "text/plain": [
       "[('n02133161', 'American_black_bear', 0.08097188),\n",
       " ('n02106382', 'Bouvier_des_Flandres', 0.07073635),\n",
       " ('n02097130', 'giant_schnauzer', 0.06175839),\n",
       " ('n02134418', 'sloth_bear', 0.050691668),\n",
       " ('n02667093', 'abaya', 0.043823194)]"
      ]
     },
     "metadata": {},
     "output_type": "display_data"
    },
    {
     "data": {
      "text/plain": [
       "[('n02106382', 'Bouvier_des_Flandres', 0.046709977),\n",
       " ('n04090263', 'rifle', 0.03977636),\n",
       " ('n02749479', 'assault_rifle', 0.03846876),\n",
       " ('n02106662', 'German_shepherd', 0.023329066),\n",
       " ('n02397096', 'warthog', 0.0231179)]"
      ]
     },
     "metadata": {},
     "output_type": "display_data"
    },
    {
     "data": {
      "text/plain": [
       "'Scaling x'"
      ]
     },
     "metadata": {},
     "output_type": "display_data"
    },
    {
     "data": {
      "text/plain": [
       "[('n02916936', 'bulletproof_vest', 0.039868694),\n",
       " ('n02667093', 'abaya', 0.034147047),\n",
       " ('n03124043', 'cowboy_boot', 0.019327933),\n",
       " ('n02437312', 'Arabian_camel', 0.019246476),\n",
       " ('n02106382', 'Bouvier_des_Flandres', 0.017905744)]"
      ]
     },
     "metadata": {},
     "output_type": "display_data"
    },
    {
     "data": {
      "text/plain": [
       "'Scaling y'"
      ]
     },
     "metadata": {},
     "output_type": "display_data"
    },
    {
     "data": {
      "text/plain": [
       "[('n01871265', 'tusker', 0.04982369),\n",
       " ('n02422106', 'hartebeest', 0.04272766),\n",
       " ('n02504458', 'African_elephant', 0.039427634),\n",
       " ('n03124043', 'cowboy_boot', 0.038710825),\n",
       " ('n02749479', 'assault_rifle', 0.030133346)]"
      ]
     },
     "metadata": {},
     "output_type": "display_data"
    },
    {
     "data": {
      "text/plain": [
       "[('n02106382', 'Bouvier_des_Flandres', 0.051327568),\n",
       " ('n02097130', 'giant_schnauzer', 0.029979218),\n",
       " ('n01518878', 'ostrich', 0.024593662),\n",
       " ('n02437616', 'llama', 0.020437911),\n",
       " ('n02105056', 'groenendael', 0.016759014)]"
      ]
     },
     "metadata": {},
     "output_type": "display_data"
    },
    {
     "data": {
      "text/plain": [
       "'Scaling x'"
      ]
     },
     "metadata": {},
     "output_type": "display_data"
    },
    {
     "data": {
      "text/plain": [
       "[('n01518878', 'ostrich', 0.087021776),\n",
       " ('n09835506', 'ballplayer', 0.02691416),\n",
       " ('n02097130', 'giant_schnauzer', 0.025549486),\n",
       " ('n02117135', 'hyena', 0.022387194),\n",
       " ('n02799071', 'baseball', 0.020591207)]"
      ]
     },
     "metadata": {},
     "output_type": "display_data"
    },
    {
     "data": {
      "text/plain": [
       "'Scaling y'"
      ]
     },
     "metadata": {},
     "output_type": "display_data"
    },
    {
     "data": {
      "text/plain": [
       "[('n02423022', 'gazelle', 0.037125666),\n",
       " ('n02397096', 'warthog', 0.033680174),\n",
       " ('n02018795', 'bustard', 0.024928406),\n",
       " ('n02115913', 'dhole', 0.024765493),\n",
       " ('n02486261', 'patas', 0.023744691)]"
      ]
     },
     "metadata": {},
     "output_type": "display_data"
    },
    {
     "data": {
      "text/plain": [
       "[('n02105505', 'komondor', 0.714497),\n",
       " ('n02328150', 'Angora', 0.07145409),\n",
       " ('n02095889', 'Sealyham_terrier', 0.039619073),\n",
       " ('n02437616', 'llama', 0.029285239),\n",
       " ('n02105641', 'Old_English_sheepdog', 0.015766218)]"
      ]
     },
     "metadata": {},
     "output_type": "display_data"
    },
    {
     "data": {
      "text/plain": [
       "'Scaling x'"
      ]
     },
     "metadata": {},
     "output_type": "display_data"
    },
    {
     "data": {
      "text/plain": [
       "[('n02085936', 'Maltese_dog', 0.10585067),\n",
       " ('n02098286', 'West_Highland_white_terrier', 0.08989943),\n",
       " ('n02090622', 'borzoi', 0.07106742),\n",
       " ('n02111500', 'Great_Pyrenees', 0.069231264),\n",
       " ('n02105641', 'Old_English_sheepdog', 0.06463632)]"
      ]
     },
     "metadata": {},
     "output_type": "display_data"
    },
    {
     "data": {
      "text/plain": [
       "'Scaling y'"
      ]
     },
     "metadata": {},
     "output_type": "display_data"
    },
    {
     "data": {
      "text/plain": [
       "[('n02088094', 'Afghan_hound', 0.2712892),\n",
       " ('n02105505', 'komondor', 0.12532967),\n",
       " ('n03958227', 'plastic_bag', 0.08320721),\n",
       " ('n13133613', 'ear', 0.044697836),\n",
       " ('n03045698', 'cloak', 0.038994137)]"
      ]
     },
     "metadata": {},
     "output_type": "display_data"
    },
    {
     "data": {
      "text/plain": [
       "[('n02437616', 'llama', 0.636521),\n",
       " ('n02105505', 'komondor', 0.12318981),\n",
       " ('n02437312', 'Arabian_camel', 0.0522415),\n",
       " ('n02090622', 'borzoi', 0.022127891),\n",
       " ('n02403003', 'ox', 0.018329486)]"
      ]
     },
     "metadata": {},
     "output_type": "display_data"
    },
    {
     "data": {
      "text/plain": [
       "'Scaling x'"
      ]
     },
     "metadata": {},
     "output_type": "display_data"
    },
    {
     "data": {
      "text/plain": [
       "[('n02437616', 'llama', 0.40838626),\n",
       " ('n02437312', 'Arabian_camel', 0.14390826),\n",
       " ('n02105505', 'komondor', 0.11531197),\n",
       " ('n02114548', 'white_wolf', 0.046585005),\n",
       " ('n02397096', 'warthog', 0.037018597)]"
      ]
     },
     "metadata": {},
     "output_type": "display_data"
    },
    {
     "data": {
      "text/plain": [
       "'Scaling y'"
      ]
     },
     "metadata": {},
     "output_type": "display_data"
    },
    {
     "data": {
      "text/plain": [
       "[('n02091831', 'Saluki', 0.56047255),\n",
       " ('n02437616', 'llama', 0.070845395),\n",
       " ('n02423022', 'gazelle', 0.053782508),\n",
       " ('n02090622', 'borzoi', 0.027025314),\n",
       " ('n02389026', 'sorrel', 0.023629809)]"
      ]
     },
     "metadata": {},
     "output_type": "display_data"
    },
    {
     "data": {
      "text/plain": [
       "[('n02437312', 'Arabian_camel', 0.18615614),\n",
       " ('n02389026', 'sorrel', 0.16091922),\n",
       " ('n02091831', 'Saluki', 0.12440471),\n",
       " ('n02437616', 'llama', 0.072682925),\n",
       " ('n02105412', 'kelpie', 0.05512966)]"
      ]
     },
     "metadata": {},
     "output_type": "display_data"
    },
    {
     "data": {
      "text/plain": [
       "'Scaling x'"
      ]
     },
     "metadata": {},
     "output_type": "display_data"
    },
    {
     "data": {
      "text/plain": [
       "[('n02437312', 'Arabian_camel', 0.33437544),\n",
       " ('n02437616', 'llama', 0.114830576),\n",
       " ('n02113799', 'standard_poodle', 0.04269719),\n",
       " ('n02105505', 'komondor', 0.037236415),\n",
       " ('n02104029', 'kuvasz', 0.033020403)]"
      ]
     },
     "metadata": {},
     "output_type": "display_data"
    },
    {
     "data": {
      "text/plain": [
       "'Scaling y'"
      ]
     },
     "metadata": {},
     "output_type": "display_data"
    },
    {
     "data": {
      "text/plain": [
       "[('n02091831', 'Saluki', 0.44614345),\n",
       " ('n02109047', 'Great_Dane', 0.086402535),\n",
       " ('n02091244', 'Ibizan_hound', 0.075508825),\n",
       " ('n02423022', 'gazelle', 0.065548606),\n",
       " ('n02089973', 'English_foxhound', 0.04816259)]"
      ]
     },
     "metadata": {},
     "output_type": "display_data"
    },
    {
     "data": {
      "text/plain": [
       "[('n06359193', 'web_site', 0.09257143),\n",
       " ('n02095889', 'Sealyham_terrier', 0.04516694),\n",
       " ('n02091635', 'otterhound', 0.035840224),\n",
       " ('n02101556', 'clumber', 0.031776927),\n",
       " ('n02104029', 'kuvasz', 0.02780673)]"
      ]
     },
     "metadata": {},
     "output_type": "display_data"
    },
    {
     "data": {
      "text/plain": [
       "'Scaling x'"
      ]
     },
     "metadata": {},
     "output_type": "display_data"
    },
    {
     "data": {
      "text/plain": [
       "[('n06359193', 'web_site', 0.12277214),\n",
       " ('n03291819', 'envelope', 0.044970453),\n",
       " ('n03532672', 'hook', 0.024255391),\n",
       " ('n03376595', 'folding_chair', 0.01901934),\n",
       " ('n04033901', 'quill', 0.016398447)]"
      ]
     },
     "metadata": {},
     "output_type": "display_data"
    },
    {
     "data": {
      "text/plain": [
       "'Scaling y'"
      ]
     },
     "metadata": {},
     "output_type": "display_data"
    },
    {
     "data": {
      "text/plain": [
       "[('n02088094', 'Afghan_hound', 0.0411551),\n",
       " ('n02091635', 'otterhound', 0.032234903),\n",
       " ('n02105251', 'briard', 0.030876203),\n",
       " ('n02102480', 'Sussex_spaniel', 0.030543735),\n",
       " ('n02097130', 'giant_schnauzer', 0.023605544)]"
      ]
     },
     "metadata": {},
     "output_type": "display_data"
    },
    {
     "data": {
      "text/plain": [
       "[('n02090622', 'borzoi', 0.16645995),\n",
       " ('n02091831', 'Saluki', 0.11062629),\n",
       " ('n02091635', 'otterhound', 0.09128327),\n",
       " ('n02097209', 'standard_schnauzer', 0.058076937),\n",
       " ('n02088094', 'Afghan_hound', 0.04999979)]"
      ]
     },
     "metadata": {},
     "output_type": "display_data"
    },
    {
     "data": {
      "text/plain": [
       "'Scaling x'"
      ]
     },
     "metadata": {},
     "output_type": "display_data"
    },
    {
     "data": {
      "text/plain": [
       "[('n02437312', 'Arabian_camel', 0.07825924),\n",
       " ('n02423022', 'gazelle', 0.05685838),\n",
       " ('n02403003', 'ox', 0.032177847),\n",
       " ('n02395406', 'hog', 0.03082127),\n",
       " ('n09288635', 'geyser', 0.025677707)]"
      ]
     },
     "metadata": {},
     "output_type": "display_data"
    },
    {
     "data": {
      "text/plain": [
       "'Scaling y'"
      ]
     },
     "metadata": {},
     "output_type": "display_data"
    },
    {
     "data": {
      "text/plain": [
       "[('n02091831', 'Saluki', 0.5466628),\n",
       " ('n02090622', 'borzoi', 0.059510354),\n",
       " ('n02106166', 'Border_collie', 0.048923224),\n",
       " ('n02088094', 'Afghan_hound', 0.037711818),\n",
       " ('n02105056', 'groenendael', 0.031958453)]"
      ]
     },
     "metadata": {},
     "output_type": "display_data"
    },
    {
     "data": {
      "text/plain": [
       "[('n02090622', 'borzoi', 0.08318856),\n",
       " ('n02106382', 'Bouvier_des_Flandres', 0.060751032),\n",
       " ('n02088094', 'Afghan_hound', 0.05491495),\n",
       " ('n02403003', 'ox', 0.045608815),\n",
       " ('n02105056', 'groenendael', 0.039007418)]"
      ]
     },
     "metadata": {},
     "output_type": "display_data"
    },
    {
     "data": {
      "text/plain": [
       "'Scaling x'"
      ]
     },
     "metadata": {},
     "output_type": "display_data"
    },
    {
     "data": {
      "text/plain": [
       "[('n02403003', 'ox', 0.05565138),\n",
       " ('n03967562', 'plow', 0.045552883),\n",
       " ('n02437312', 'Arabian_camel', 0.037817646),\n",
       " ('n02423022', 'gazelle', 0.030288858),\n",
       " ('n02106662', 'German_shepherd', 0.021243518)]"
      ]
     },
     "metadata": {},
     "output_type": "display_data"
    },
    {
     "data": {
      "text/plain": [
       "'Scaling y'"
      ]
     },
     "metadata": {},
     "output_type": "display_data"
    },
    {
     "data": {
      "text/plain": [
       "[('n02091831', 'Saluki', 0.1945244),\n",
       " ('n02105056', 'groenendael', 0.09912336),\n",
       " ('n02088094', 'Afghan_hound', 0.08848138),\n",
       " ('n02090622', 'borzoi', 0.06630679),\n",
       " ('n02106382', 'Bouvier_des_Flandres', 0.046575792)]"
      ]
     },
     "metadata": {},
     "output_type": "display_data"
    },
    {
     "data": {
      "text/plain": [
       "[('n03929855', 'pickelhaube', 0.067218706),\n",
       " ('n02106382', 'Bouvier_des_Flandres', 0.046379358),\n",
       " ('n02437312', 'Arabian_camel', 0.033964887),\n",
       " ('n02879718', 'bow', 0.032784425),\n",
       " ('n02105505', 'komondor', 0.03203264)]"
      ]
     },
     "metadata": {},
     "output_type": "display_data"
    },
    {
     "data": {
      "text/plain": [
       "'Scaling x'"
      ]
     },
     "metadata": {},
     "output_type": "display_data"
    },
    {
     "data": {
      "text/plain": [
       "[('n04019541', 'puck', 0.11613664),\n",
       " ('n03888605', 'parallel_bars', 0.10832835),\n",
       " ('n03535780', 'horizontal_bar', 0.07462825),\n",
       " ('n04428191', 'thresher', 0.047196675),\n",
       " ('n04258138', 'solar_dish', 0.038890216)]"
      ]
     },
     "metadata": {},
     "output_type": "display_data"
    },
    {
     "data": {
      "text/plain": [
       "'Scaling y'"
      ]
     },
     "metadata": {},
     "output_type": "display_data"
    },
    {
     "data": {
      "text/plain": [
       "[('n02106382', 'Bouvier_des_Flandres', 0.15943499),\n",
       " ('n03929855', 'pickelhaube', 0.05656508),\n",
       " ('n02437312', 'Arabian_camel', 0.049611896),\n",
       " ('n02105056', 'groenendael', 0.04508856),\n",
       " ('n01871265', 'tusker', 0.041768324)]"
      ]
     },
     "metadata": {},
     "output_type": "display_data"
    },
    {
     "data": {
      "text/plain": [
       "[('n02423022', 'gazelle', 0.06246251),\n",
       " ('n02437312', 'Arabian_camel', 0.051723935),\n",
       " ('n02422106', 'hartebeest', 0.04362233),\n",
       " ('n03967562', 'plow', 0.023954777),\n",
       " ('n02916936', 'bulletproof_vest', 0.023210792)]"
      ]
     },
     "metadata": {},
     "output_type": "display_data"
    },
    {
     "data": {
      "text/plain": [
       "'Scaling x'"
      ]
     },
     "metadata": {},
     "output_type": "display_data"
    },
    {
     "data": {
      "text/plain": [
       "[('n03929855', 'pickelhaube', 0.078484595),\n",
       " ('n04485082', 'tripod', 0.049042672),\n",
       " ('n04019541', 'puck', 0.03923201),\n",
       " ('n02916936', 'bulletproof_vest', 0.031599745),\n",
       " ('n09835506', 'ballplayer', 0.027246814)]"
      ]
     },
     "metadata": {},
     "output_type": "display_data"
    },
    {
     "data": {
      "text/plain": [
       "'Scaling y'"
      ]
     },
     "metadata": {},
     "output_type": "display_data"
    },
    {
     "data": {
      "text/plain": [
       "[('n02422106', 'hartebeest', 0.11413604),\n",
       " ('n02397096', 'warthog', 0.085140035),\n",
       " ('n01871265', 'tusker', 0.06612009),\n",
       " ('n02504458', 'African_elephant', 0.05952457),\n",
       " ('n02423022', 'gazelle', 0.04576924)]"
      ]
     },
     "metadata": {},
     "output_type": "display_data"
    },
    {
     "data": {
      "text/plain": [
       "[('n02423022', 'gazelle', 0.0943788),\n",
       " ('n02115913', 'dhole', 0.08535286),\n",
       " ('n02486261', 'patas', 0.051991522),\n",
       " ('n02115641', 'dingo', 0.021610063),\n",
       " ('n02120505', 'grey_fox', 0.019686444)]"
      ]
     },
     "metadata": {},
     "output_type": "display_data"
    },
    {
     "data": {
      "text/plain": [
       "'Scaling x'"
      ]
     },
     "metadata": {},
     "output_type": "display_data"
    },
    {
     "data": {
      "text/plain": [
       "[('n02423022', 'gazelle', 0.1049297),\n",
       " ('n02115913', 'dhole', 0.053041846),\n",
       " ('n02437312', 'Arabian_camel', 0.052719437),\n",
       " ('n02117135', 'hyena', 0.03215002),\n",
       " ('n02422106', 'hartebeest', 0.02333878)]"
      ]
     },
     "metadata": {},
     "output_type": "display_data"
    },
    {
     "data": {
      "text/plain": [
       "'Scaling y'"
      ]
     },
     "metadata": {},
     "output_type": "display_data"
    },
    {
     "data": {
      "text/plain": [
       "[('n02018795', 'bustard', 0.0403474),\n",
       " ('n02397096', 'warthog', 0.03521407),\n",
       " ('n02117135', 'hyena', 0.034144744),\n",
       " ('n02115913', 'dhole', 0.03299009),\n",
       " ('n02137549', 'mongoose', 0.029438429)]"
      ]
     },
     "metadata": {},
     "output_type": "display_data"
    },
    {
     "data": {
      "text/plain": [
       "[('n02104029', 'kuvasz', 0.066428736),\n",
       " ('n02105505', 'komondor', 0.039446857),\n",
       " ('n07802026', 'hay', 0.03494828),\n",
       " ('n09288635', 'geyser', 0.029496877),\n",
       " ('n02395406', 'hog', 0.025822837)]"
      ]
     },
     "metadata": {},
     "output_type": "display_data"
    },
    {
     "data": {
      "text/plain": [
       "'Scaling x'"
      ]
     },
     "metadata": {},
     "output_type": "display_data"
    },
    {
     "data": {
      "text/plain": [
       "[('n02395406', 'hog', 0.08486572),\n",
       " ('n02437312', 'Arabian_camel', 0.06748328),\n",
       " ('n02423022', 'gazelle', 0.0614164),\n",
       " ('n02437616', 'llama', 0.036807515),\n",
       " ('n02104029', 'kuvasz', 0.036042262)]"
      ]
     },
     "metadata": {},
     "output_type": "display_data"
    },
    {
     "data": {
      "text/plain": [
       "'Scaling y'"
      ]
     },
     "metadata": {},
     "output_type": "display_data"
    },
    {
     "data": {
      "text/plain": [
       "[('n02097209', 'standard_schnauzer', 0.09341533),\n",
       " ('n02106382', 'Bouvier_des_Flandres', 0.059326008),\n",
       " ('n02105505', 'komondor', 0.033345956),\n",
       " ('n02397096', 'warthog', 0.03121146),\n",
       " ('n02093859', 'Kerry_blue_terrier', 0.031138962)]"
      ]
     },
     "metadata": {},
     "output_type": "display_data"
    },
    {
     "data": {
      "text/plain": [
       "[('n02395406', 'hog', 0.032852083),\n",
       " ('n02100236', 'German_short-haired_pointer', 0.027940372),\n",
       " ('n02397096', 'warthog', 0.027333692),\n",
       " ('n02099429', 'curly-coated_retriever', 0.025784139),\n",
       " ('n02396427', 'wild_boar', 0.023940388)]"
      ]
     },
     "metadata": {},
     "output_type": "display_data"
    },
    {
     "data": {
      "text/plain": [
       "'Scaling x'"
      ]
     },
     "metadata": {},
     "output_type": "display_data"
    },
    {
     "data": {
      "text/plain": [
       "[('n02437312', 'Arabian_camel', 0.07196043),\n",
       " ('n02403003', 'ox', 0.04215611),\n",
       " ('n02395406', 'hog', 0.036783382),\n",
       " ('n02396427', 'wild_boar', 0.030123824),\n",
       " ('n02423022', 'gazelle', 0.02909983)]"
      ]
     },
     "metadata": {},
     "output_type": "display_data"
    },
    {
     "data": {
      "text/plain": [
       "'Scaling y'"
      ]
     },
     "metadata": {},
     "output_type": "display_data"
    },
    {
     "data": {
      "text/plain": [
       "[('n02100236', 'German_short-haired_pointer', 0.0566042),\n",
       " ('n02397096', 'warthog', 0.053288642),\n",
       " ('n02097209', 'standard_schnauzer', 0.047249407),\n",
       " ('n02117135', 'hyena', 0.041965358),\n",
       " ('n02106382', 'Bouvier_des_Flandres', 0.027355457)]"
      ]
     },
     "metadata": {},
     "output_type": "display_data"
    },
    {
     "data": {
      "text/plain": [
       "[('n02423022', 'gazelle', 0.09925353),\n",
       " ('n02417914', 'ibex', 0.043428276),\n",
       " ('n02326432', 'hare', 0.031501867),\n",
       " ('n02115913', 'dhole', 0.030473908),\n",
       " ('n02410509', 'bison', 0.02906773)]"
      ]
     },
     "metadata": {},
     "output_type": "display_data"
    },
    {
     "data": {
      "text/plain": [
       "'Scaling x'"
      ]
     },
     "metadata": {},
     "output_type": "display_data"
    },
    {
     "data": {
      "text/plain": [
       "[('n02423022', 'gazelle', 0.1118687),\n",
       " ('n02437312', 'Arabian_camel', 0.046169788),\n",
       " ('n02115913', 'dhole', 0.040337596),\n",
       " ('n02130308', 'cheetah', 0.02534276),\n",
       " ('n02422106', 'hartebeest', 0.02216431)]"
      ]
     },
     "metadata": {},
     "output_type": "display_data"
    },
    {
     "data": {
      "text/plain": [
       "'Scaling y'"
      ]
     },
     "metadata": {},
     "output_type": "display_data"
    },
    {
     "data": {
      "text/plain": [
       "[('n02423022', 'gazelle', 0.07683207),\n",
       " ('n02117135', 'hyena', 0.047202718),\n",
       " ('n02114855', 'coyote', 0.04254397),\n",
       " ('n02115913', 'dhole', 0.037893973),\n",
       " ('n02422106', 'hartebeest', 0.033041406)]"
      ]
     },
     "metadata": {},
     "output_type": "display_data"
    },
    {
     "data": {
      "text/plain": [
       "'Stack #1'"
      ]
     },
     "metadata": {},
     "output_type": "display_data"
    },
    {
     "data": {
      "text/plain": [
       "[('n06359193', 'web_site', 0.13513207),\n",
       " ('n03532672', 'hook', 0.050211176),\n",
       " ('n03291819', 'envelope', 0.024342988),\n",
       " ('n02916936', 'bulletproof_vest', 0.017173303),\n",
       " ('n03041632', 'cleaver', 0.014203283)]"
      ]
     },
     "metadata": {},
     "output_type": "display_data"
    },
    {
     "data": {
      "text/plain": [
       "'Scaling x'"
      ]
     },
     "metadata": {},
     "output_type": "display_data"
    },
    {
     "data": {
      "text/plain": [
       "[('n06359193', 'web_site', 0.16395982),\n",
       " ('n03532672', 'hook', 0.066828996),\n",
       " ('n03291819', 'envelope', 0.054324903),\n",
       " ('n04118776', 'rule', 0.04237095),\n",
       " ('n04141975', 'scale', 0.030011551)]"
      ]
     },
     "metadata": {},
     "output_type": "display_data"
    },
    {
     "data": {
      "text/plain": [
       "'Scaling y'"
      ]
     },
     "metadata": {},
     "output_type": "display_data"
    },
    {
     "data": {
      "text/plain": [
       "[('n06359193', 'web_site', 0.144422),\n",
       " ('n03291819', 'envelope', 0.07496867),\n",
       " ('n03532672', 'hook', 0.054370526),\n",
       " ('n03041632', 'cleaver', 0.04095134),\n",
       " ('n03467068', 'guillotine', 0.037730336)]"
      ]
     },
     "metadata": {},
     "output_type": "display_data"
    },
    {
     "data": {
      "text/plain": [
       "[('n03743016', 'megalith', 0.5698975),\n",
       " ('n09246464', 'cliff', 0.1649332),\n",
       " ('n09399592', 'promontory', 0.06461274),\n",
       " ('n04326547', 'stone_wall', 0.025356183),\n",
       " ('n09428293', 'seashore', 0.011643006)]"
      ]
     },
     "metadata": {},
     "output_type": "display_data"
    },
    {
     "data": {
      "text/plain": [
       "'Scaling x'"
      ]
     },
     "metadata": {},
     "output_type": "display_data"
    },
    {
     "data": {
      "text/plain": [
       "[('n09246464', 'cliff', 0.26086244),\n",
       " ('n03743016', 'megalith', 0.20602253),\n",
       " ('n09399592', 'promontory', 0.112797886),\n",
       " ('n04326547', 'stone_wall', 0.037873793),\n",
       " ('n09428293', 'seashore', 0.036767367)]"
      ]
     },
     "metadata": {},
     "output_type": "display_data"
    },
    {
     "data": {
      "text/plain": [
       "'Scaling y'"
      ]
     },
     "metadata": {},
     "output_type": "display_data"
    },
    {
     "data": {
      "text/plain": [
       "[('n06359193', 'web_site', 0.029146556),\n",
       " ('n03041632', 'cleaver', 0.028659701),\n",
       " ('n09428293', 'seashore', 0.016844112),\n",
       " ('n11879895', 'rapeseed', 0.013287706),\n",
       " ('n03532672', 'hook', 0.012680474)]"
      ]
     },
     "metadata": {},
     "output_type": "display_data"
    },
    {
     "data": {
      "text/plain": [
       "[('n03743016', 'megalith', 0.21033974),\n",
       " ('n06794110', 'street_sign', 0.10997611),\n",
       " ('n06359193', 'web_site', 0.076444805),\n",
       " ('n04326547', 'stone_wall', 0.029049424),\n",
       " ('n04467665', 'trailer_truck', 0.027753342)]"
      ]
     },
     "metadata": {},
     "output_type": "display_data"
    },
    {
     "data": {
      "text/plain": [
       "'Scaling x'"
      ]
     },
     "metadata": {},
     "output_type": "display_data"
    },
    {
     "data": {
      "text/plain": [
       "[('n06794110', 'street_sign', 0.15530884),\n",
       " ('n06359193', 'web_site', 0.07628507),\n",
       " ('n03594945', 'jeep', 0.07604185),\n",
       " ('n09246464', 'cliff', 0.052726828),\n",
       " ('n09399592', 'promontory', 0.035046965)]"
      ]
     },
     "metadata": {},
     "output_type": "display_data"
    },
    {
     "data": {
      "text/plain": [
       "'Scaling y'"
      ]
     },
     "metadata": {},
     "output_type": "display_data"
    },
    {
     "data": {
      "text/plain": [
       "[('n09428293', 'seashore', 0.036315136),\n",
       " ('n11879895', 'rapeseed', 0.035086352),\n",
       " ('n02814860', 'beacon', 0.025325976),\n",
       " ('n03041632', 'cleaver', 0.019391146),\n",
       " ('n09399592', 'promontory', 0.01819539)]"
      ]
     },
     "metadata": {},
     "output_type": "display_data"
    },
    {
     "data": {
      "text/plain": [
       "[('n02777292', 'balance_beam', 0.058587886),\n",
       " ('n04428191', 'thresher', 0.049847834),\n",
       " ('n06794110', 'street_sign', 0.030688284),\n",
       " ('n04099969', 'rocking_chair', 0.030005893),\n",
       " ('n04604644', 'worm_fence', 0.028635837)]"
      ]
     },
     "metadata": {},
     "output_type": "display_data"
    },
    {
     "data": {
      "text/plain": [
       "'Scaling x'"
      ]
     },
     "metadata": {},
     "output_type": "display_data"
    },
    {
     "data": {
      "text/plain": [
       "[('n06359193', 'web_site', 0.23084688),\n",
       " ('n04467665', 'trailer_truck', 0.033772293),\n",
       " ('n03196217', 'digital_clock', 0.026177468),\n",
       " ('n03782006', 'monitor', 0.021977905),\n",
       " ('n04152593', 'screen', 0.0150902765)]"
      ]
     },
     "metadata": {},
     "output_type": "display_data"
    },
    {
     "data": {
      "text/plain": [
       "'Scaling y'"
      ]
     },
     "metadata": {},
     "output_type": "display_data"
    },
    {
     "data": {
      "text/plain": [
       "[('n03041632', 'cleaver', 0.045176532),\n",
       " ('n09428293', 'seashore', 0.03271978),\n",
       " ('n06359193', 'web_site', 0.026760211),\n",
       " ('n11879895', 'rapeseed', 0.021304257),\n",
       " ('n04228054', 'ski', 0.019432854)]"
      ]
     },
     "metadata": {},
     "output_type": "display_data"
    },
    {
     "data": {
      "text/plain": [
       "[('n04613696', 'yurt', 0.028795255),\n",
       " ('n02437312', 'Arabian_camel', 0.026890347),\n",
       " ('n02793495', 'barn', 0.023441354),\n",
       " ('n03594945', 'jeep', 0.022650862),\n",
       " ('n09246464', 'cliff', 0.022175524)]"
      ]
     },
     "metadata": {},
     "output_type": "display_data"
    },
    {
     "data": {
      "text/plain": [
       "'Scaling x'"
      ]
     },
     "metadata": {},
     "output_type": "display_data"
    },
    {
     "data": {
      "text/plain": [
       "[('n04344873', 'studio_couch', 0.13661696),\n",
       " ('n04604644', 'worm_fence', 0.030022886),\n",
       " ('n02777292', 'balance_beam', 0.027359348),\n",
       " ('n04336792', 'stretcher', 0.025192285),\n",
       " ('n04099969', 'rocking_chair', 0.023145746)]"
      ]
     },
     "metadata": {},
     "output_type": "display_data"
    },
    {
     "data": {
      "text/plain": [
       "'Scaling y'"
      ]
     },
     "metadata": {},
     "output_type": "display_data"
    },
    {
     "data": {
      "text/plain": [
       "[('n03041632', 'cleaver', 0.037979655),\n",
       " ('n06359193', 'web_site', 0.023919934),\n",
       " ('n09428293', 'seashore', 0.020144338),\n",
       " ('n04228054', 'ski', 0.017712628),\n",
       " ('n03532672', 'hook', 0.012267614)]"
      ]
     },
     "metadata": {},
     "output_type": "display_data"
    },
    {
     "data": {
      "text/plain": [
       "[('n09399592', 'promontory', 0.101071864),\n",
       " ('n09428293', 'seashore', 0.06220966),\n",
       " ('n09246464', 'cliff', 0.049089875),\n",
       " ('n07802026', 'hay', 0.04838406),\n",
       " ('n02410509', 'bison', 0.036356907)]"
      ]
     },
     "metadata": {},
     "output_type": "display_data"
    },
    {
     "data": {
      "text/plain": [
       "'Scaling x'"
      ]
     },
     "metadata": {},
     "output_type": "display_data"
    },
    {
     "data": {
      "text/plain": [
       "[('n09428293', 'seashore', 0.07663795),\n",
       " ('n07802026', 'hay', 0.0372583),\n",
       " ('n09399592', 'promontory', 0.035111494),\n",
       " ('n02410509', 'bison', 0.030233268),\n",
       " ('n02437312', 'Arabian_camel', 0.028419355)]"
      ]
     },
     "metadata": {},
     "output_type": "display_data"
    },
    {
     "data": {
      "text/plain": [
       "'Scaling y'"
      ]
     },
     "metadata": {},
     "output_type": "display_data"
    },
    {
     "data": {
      "text/plain": [
       "[('n09428293', 'seashore', 0.039076578),\n",
       " ('n03041632', 'cleaver', 0.026485015),\n",
       " ('n02814860', 'beacon', 0.018737618),\n",
       " ('n11879895', 'rapeseed', 0.018150669),\n",
       " ('n09399592', 'promontory', 0.01707925)]"
      ]
     },
     "metadata": {},
     "output_type": "display_data"
    },
    {
     "data": {
      "text/plain": [
       "[('n07802026', 'hay', 0.05575865),\n",
       " ('n09428293', 'seashore', 0.03615791),\n",
       " ('n02410509', 'bison', 0.031702407),\n",
       " ('n02793495', 'barn', 0.030022921),\n",
       " ('n06359193', 'web_site', 0.023896774)]"
      ]
     },
     "metadata": {},
     "output_type": "display_data"
    },
    {
     "data": {
      "text/plain": [
       "'Scaling x'"
      ]
     },
     "metadata": {},
     "output_type": "display_data"
    },
    {
     "data": {
      "text/plain": [
       "[('n07802026', 'hay', 0.05008858),\n",
       " ('n09428293', 'seashore', 0.032040615),\n",
       " ('n06359193', 'web_site', 0.029783236),\n",
       " ('n02410509', 'bison', 0.02446708),\n",
       " ('n02437312', 'Arabian_camel', 0.023619512)]"
      ]
     },
     "metadata": {},
     "output_type": "display_data"
    },
    {
     "data": {
      "text/plain": [
       "'Scaling y'"
      ]
     },
     "metadata": {},
     "output_type": "display_data"
    },
    {
     "data": {
      "text/plain": [
       "[('n09428293', 'seashore', 0.04172311),\n",
       " ('n06359193', 'web_site', 0.027549637),\n",
       " ('n03041632', 'cleaver', 0.01951207),\n",
       " ('n11879895', 'rapeseed', 0.018549118),\n",
       " ('n02814860', 'beacon', 0.013490794)]"
      ]
     },
     "metadata": {},
     "output_type": "display_data"
    },
    {
     "data": {
      "text/plain": [
       "[('n07802026', 'hay', 0.04089478),\n",
       " ('n09428293', 'seashore', 0.038075346),\n",
       " ('n09399592', 'promontory', 0.03482412),\n",
       " ('n03743016', 'megalith', 0.03360695),\n",
       " ('n02793495', 'barn', 0.031007793)]"
      ]
     },
     "metadata": {},
     "output_type": "display_data"
    },
    {
     "data": {
      "text/plain": [
       "'Scaling x'"
      ]
     },
     "metadata": {},
     "output_type": "display_data"
    },
    {
     "data": {
      "text/plain": [
       "[('n07802026', 'hay', 0.06060054),\n",
       " ('n09428293', 'seashore', 0.059093624),\n",
       " ('n02437312', 'Arabian_camel', 0.026953245),\n",
       " ('n02410509', 'bison', 0.026710559),\n",
       " ('n09421951', 'sandbar', 0.024532035)]"
      ]
     },
     "metadata": {},
     "output_type": "display_data"
    },
    {
     "data": {
      "text/plain": [
       "'Scaling y'"
      ]
     },
     "metadata": {},
     "output_type": "display_data"
    },
    {
     "data": {
      "text/plain": [
       "[('n09399592', 'promontory', 0.050996244),\n",
       " ('n09428293', 'seashore', 0.049983878),\n",
       " ('n09246464', 'cliff', 0.045136996),\n",
       " ('n02417914', 'ibex', 0.035309754),\n",
       " ('n02814860', 'beacon', 0.026642105)]"
      ]
     },
     "metadata": {},
     "output_type": "display_data"
    },
    {
     "data": {
      "text/plain": [
       "[('n06359193', 'web_site', 0.08303136),\n",
       " ('n07802026', 'hay', 0.04944838),\n",
       " ('n03743016', 'megalith', 0.0292582),\n",
       " ('n03496892', 'harvester', 0.02142336),\n",
       " ('n04008634', 'projectile', 0.019896818)]"
      ]
     },
     "metadata": {},
     "output_type": "display_data"
    },
    {
     "data": {
      "text/plain": [
       "'Scaling x'"
      ]
     },
     "metadata": {},
     "output_type": "display_data"
    },
    {
     "data": {
      "text/plain": [
       "[('n06359193', 'web_site', 0.24421564),\n",
       " ('n03291819', 'envelope', 0.024256218),\n",
       " ('n04357314', 'sunscreen', 0.021448806),\n",
       " ('n03532672', 'hook', 0.01564801),\n",
       " ('n03445777', 'golf_ball', 0.010036815)]"
      ]
     },
     "metadata": {},
     "output_type": "display_data"
    },
    {
     "data": {
      "text/plain": [
       "'Scaling y'"
      ]
     },
     "metadata": {},
     "output_type": "display_data"
    },
    {
     "data": {
      "text/plain": [
       "[('n07802026', 'hay', 0.16760044),\n",
       " ('n03743016', 'megalith', 0.051318828),\n",
       " ('n03496892', 'harvester', 0.029385732),\n",
       " ('n04008634', 'projectile', 0.024495617),\n",
       " ('n01518878', 'ostrich', 0.021191228)]"
      ]
     },
     "metadata": {},
     "output_type": "display_data"
    },
    {
     "data": {
      "text/plain": [
       "[('n03743016', 'megalith', 0.10819083),\n",
       " ('n03496892', 'harvester', 0.077876374),\n",
       " ('n07802026', 'hay', 0.060284723),\n",
       " ('n01518878', 'ostrich', 0.048755847),\n",
       " ('n04428191', 'thresher', 0.037624914)]"
      ]
     },
     "metadata": {},
     "output_type": "display_data"
    },
    {
     "data": {
      "text/plain": [
       "'Scaling x'"
      ]
     },
     "metadata": {},
     "output_type": "display_data"
    },
    {
     "data": {
      "text/plain": [
       "[('n09246464', 'cliff', 0.093574114),\n",
       " ('n03743016', 'megalith', 0.07922972),\n",
       " ('n09428293', 'seashore', 0.04781482),\n",
       " ('n09399592', 'promontory', 0.046853695),\n",
       " ('n02437312', 'Arabian_camel', 0.028135767)]"
      ]
     },
     "metadata": {},
     "output_type": "display_data"
    },
    {
     "data": {
      "text/plain": [
       "'Scaling y'"
      ]
     },
     "metadata": {},
     "output_type": "display_data"
    },
    {
     "data": {
      "text/plain": [
       "[('n03743016', 'megalith', 0.43195564),\n",
       " ('n07802026', 'hay', 0.12673315),\n",
       " ('n02410509', 'bison', 0.123548985),\n",
       " ('n01518878', 'ostrich', 0.032838583),\n",
       " ('n03496892', 'harvester', 0.018757213)]"
      ]
     },
     "metadata": {},
     "output_type": "display_data"
    },
    {
     "data": {
      "text/plain": [
       "[('n06794110', 'street_sign', 0.078965925),\n",
       " ('n04090263', 'rifle', 0.07188407),\n",
       " ('n04370456', 'sweatshirt', 0.053708218),\n",
       " ('n02749479', 'assault_rifle', 0.047543906),\n",
       " ('n02841315', 'binoculars', 0.04285185)]"
      ]
     },
     "metadata": {},
     "output_type": "display_data"
    },
    {
     "data": {
      "text/plain": [
       "'Scaling x'"
      ]
     },
     "metadata": {},
     "output_type": "display_data"
    },
    {
     "data": {
      "text/plain": [
       "[('n06794110', 'street_sign', 0.09186134),\n",
       " ('n04370456', 'sweatshirt', 0.048918225),\n",
       " ('n04509417', 'unicycle', 0.047993176),\n",
       " ('n02835271', 'bicycle-built-for-two', 0.030940304),\n",
       " ('n04485082', 'tripod', 0.030777883)]"
      ]
     },
     "metadata": {},
     "output_type": "display_data"
    },
    {
     "data": {
      "text/plain": [
       "'Scaling y'"
      ]
     },
     "metadata": {},
     "output_type": "display_data"
    },
    {
     "data": {
      "text/plain": [
       "[('n06794110', 'street_sign', 0.22354053),\n",
       " ('n03743016', 'megalith', 0.102985226),\n",
       " ('n03891251', 'park_bench', 0.04892243),\n",
       " ('n04370456', 'sweatshirt', 0.040365994),\n",
       " ('n06359193', 'web_site', 0.02277654)]"
      ]
     },
     "metadata": {},
     "output_type": "display_data"
    },
    {
     "data": {
      "text/plain": [
       "[('n03888605', 'parallel_bars', 0.069560364),\n",
       " ('n06794110', 'street_sign', 0.052273236),\n",
       " ('n02437312', 'Arabian_camel', 0.045387506),\n",
       " ('n02106382', 'Bouvier_des_Flandres', 0.030699214),\n",
       " ('n09835506', 'ballplayer', 0.02329184)]"
      ]
     },
     "metadata": {},
     "output_type": "display_data"
    },
    {
     "data": {
      "text/plain": [
       "'Scaling x'"
      ]
     },
     "metadata": {},
     "output_type": "display_data"
    },
    {
     "data": {
      "text/plain": [
       "[('n06359193', 'web_site', 0.10273251),\n",
       " ('n04370456', 'sweatshirt', 0.039757036),\n",
       " ('n04404412', 'television', 0.030188385),\n",
       " ('n09835506', 'ballplayer', 0.028958414),\n",
       " ('n06794110', 'street_sign', 0.027585365)]"
      ]
     },
     "metadata": {},
     "output_type": "display_data"
    },
    {
     "data": {
      "text/plain": [
       "'Scaling y'"
      ]
     },
     "metadata": {},
     "output_type": "display_data"
    },
    {
     "data": {
      "text/plain": [
       "[('n06794110', 'street_sign', 0.38855627),\n",
       " ('n09835506', 'ballplayer', 0.044426877),\n",
       " ('n04149813', 'scoreboard', 0.035443272),\n",
       " ('n03623198', 'knee_pad', 0.021387253),\n",
       " ('n04254680', 'soccer_ball', 0.020926394)]"
      ]
     },
     "metadata": {},
     "output_type": "display_data"
    },
    {
     "data": {
      "text/plain": [
       "[('n03967562', 'plow', 0.07255738),\n",
       " ('n04428191', 'thresher', 0.06263358),\n",
       " ('n03792972', 'mountain_tent', 0.051722527),\n",
       " ('n04090263', 'rifle', 0.039280713),\n",
       " ('n03888605', 'parallel_bars', 0.024973923)]"
      ]
     },
     "metadata": {},
     "output_type": "display_data"
    },
    {
     "data": {
      "text/plain": [
       "'Scaling x'"
      ]
     },
     "metadata": {},
     "output_type": "display_data"
    },
    {
     "data": {
      "text/plain": [
       "[('n03888605', 'parallel_bars', 0.13983895),\n",
       " ('n03535780', 'horizontal_bar', 0.05350314),\n",
       " ('n04090263', 'rifle', 0.032740656),\n",
       " ('n09835506', 'ballplayer', 0.027463239),\n",
       " ('n04540053', 'volleyball', 0.020147873)]"
      ]
     },
     "metadata": {},
     "output_type": "display_data"
    },
    {
     "data": {
      "text/plain": [
       "'Scaling y'"
      ]
     },
     "metadata": {},
     "output_type": "display_data"
    },
    {
     "data": {
      "text/plain": [
       "[('n04428191', 'thresher', 0.025802774),\n",
       " ('n04044716', 'radio_telescope', 0.022700574),\n",
       " ('n03967562', 'plow', 0.022471897),\n",
       " ('n03792972', 'mountain_tent', 0.020756684),\n",
       " ('n02437616', 'llama', 0.018185416)]"
      ]
     },
     "metadata": {},
     "output_type": "display_data"
    },
    {
     "data": {
      "text/plain": [
       "[('n02437616', 'llama', 0.3225891),\n",
       " ('n02105505', 'komondor', 0.118009664),\n",
       " ('n02104029', 'kuvasz', 0.043251686),\n",
       " ('n02412080', 'ram', 0.03355189),\n",
       " ('n02114548', 'white_wolf', 0.025118832)]"
      ]
     },
     "metadata": {},
     "output_type": "display_data"
    },
    {
     "data": {
      "text/plain": [
       "'Scaling x'"
      ]
     },
     "metadata": {},
     "output_type": "display_data"
    },
    {
     "data": {
      "text/plain": [
       "[('n09428293', 'seashore', 0.040912554),\n",
       " ('n09421951', 'sandbar', 0.03730655),\n",
       " ('n04465501', 'tractor', 0.024263153),\n",
       " ('n02747177', 'ashcan', 0.023084432),\n",
       " ('n02437312', 'Arabian_camel', 0.022222375)]"
      ]
     },
     "metadata": {},
     "output_type": "display_data"
    },
    {
     "data": {
      "text/plain": [
       "'Scaling y'"
      ]
     },
     "metadata": {},
     "output_type": "display_data"
    },
    {
     "data": {
      "text/plain": [
       "[('n06794110', 'street_sign', 0.14804693),\n",
       " ('n04467665', 'trailer_truck', 0.07035139),\n",
       " ('n06359193', 'web_site', 0.058395345),\n",
       " ('n09193705', 'alp', 0.04537082),\n",
       " ('n09399592', 'promontory', 0.020506546)]"
      ]
     },
     "metadata": {},
     "output_type": "display_data"
    },
    {
     "data": {
      "text/plain": [
       "[('n02437616', 'llama', 0.4287538),\n",
       " ('n02412080', 'ram', 0.18784532),\n",
       " ('n02104029', 'kuvasz', 0.08824711),\n",
       " ('n02105505', 'komondor', 0.078767024),\n",
       " ('n02114548', 'white_wolf', 0.047644444)]"
      ]
     },
     "metadata": {},
     "output_type": "display_data"
    },
    {
     "data": {
      "text/plain": [
       "'Scaling x'"
      ]
     },
     "metadata": {},
     "output_type": "display_data"
    },
    {
     "data": {
      "text/plain": [
       "[('n04367480', 'swab', 0.59341836),\n",
       " ('n02105505', 'komondor', 0.058316395),\n",
       " ('n02906734', 'broom', 0.04204903),\n",
       " ('n06794110', 'street_sign', 0.040215947),\n",
       " ('n02437616', 'llama', 0.036379233)]"
      ]
     },
     "metadata": {},
     "output_type": "display_data"
    },
    {
     "data": {
      "text/plain": [
       "'Scaling y'"
      ]
     },
     "metadata": {},
     "output_type": "display_data"
    },
    {
     "data": {
      "text/plain": [
       "[('n06794110', 'street_sign', 0.15284574),\n",
       " ('n02114548', 'white_wolf', 0.040059563),\n",
       " ('n09193705', 'alp', 0.03700499),\n",
       " ('n02417914', 'ibex', 0.035516694),\n",
       " ('n02120079', 'Arctic_fox', 0.033522915)]"
      ]
     },
     "metadata": {},
     "output_type": "display_data"
    },
    {
     "data": {
      "text/plain": [
       "[('n02403003', 'ox', 0.39854637),\n",
       " ('n02412080', 'ram', 0.33135858),\n",
       " ('n02134084', 'ice_bear', 0.057919372),\n",
       " ('n02437616', 'llama', 0.044234768),\n",
       " ('n02395406', 'hog', 0.024072124)]"
      ]
     },
     "metadata": {},
     "output_type": "display_data"
    },
    {
     "data": {
      "text/plain": [
       "'Scaling x'"
      ]
     },
     "metadata": {},
     "output_type": "display_data"
    },
    {
     "data": {
      "text/plain": [
       "[('n02134084', 'ice_bear', 0.33392635),\n",
       " ('n02412080', 'ram', 0.12071782),\n",
       " ('n02114548', 'white_wolf', 0.07350781),\n",
       " ('n02104029', 'kuvasz', 0.054426737),\n",
       " ('n02437616', 'llama', 0.039392903)]"
      ]
     },
     "metadata": {},
     "output_type": "display_data"
    },
    {
     "data": {
      "text/plain": [
       "'Scaling y'"
      ]
     },
     "metadata": {},
     "output_type": "display_data"
    },
    {
     "data": {
      "text/plain": [
       "[('n03792972', 'mountain_tent', 0.11988429),\n",
       " ('n09193705', 'alp', 0.060412016),\n",
       " ('n06359193', 'web_site', 0.055156816),\n",
       " ('n06794110', 'street_sign', 0.047668487),\n",
       " ('n04357314', 'sunscreen', 0.046085685)]"
      ]
     },
     "metadata": {},
     "output_type": "display_data"
    },
    {
     "data": {
      "text/plain": [
       "[('n06359193', 'web_site', 0.26067552),\n",
       " ('n06794110', 'street_sign', 0.033753805),\n",
       " ('n04149813', 'scoreboard', 0.02394825),\n",
       " ('n04090263', 'rifle', 0.017447531),\n",
       " ('n02403003', 'ox', 0.016135437)]"
      ]
     },
     "metadata": {},
     "output_type": "display_data"
    },
    {
     "data": {
      "text/plain": [
       "'Scaling x'"
      ]
     },
     "metadata": {},
     "output_type": "display_data"
    },
    {
     "data": {
      "text/plain": [
       "[('n06359193', 'web_site', 0.15574114),\n",
       " ('n09421951', 'sandbar', 0.015739996),\n",
       " ('n03291819', 'envelope', 0.0155540155),\n",
       " ('n04357314', 'sunscreen', 0.014904525),\n",
       " ('n09428293', 'seashore', 0.01140787)]"
      ]
     },
     "metadata": {},
     "output_type": "display_data"
    },
    {
     "data": {
      "text/plain": [
       "'Scaling y'"
      ]
     },
     "metadata": {},
     "output_type": "display_data"
    },
    {
     "data": {
      "text/plain": [
       "[('n06359193', 'web_site', 0.055831425),\n",
       " ('n07802026', 'hay', 0.042754643),\n",
       " ('n03496892', 'harvester', 0.039467663),\n",
       " ('n01518878', 'ostrich', 0.037539683),\n",
       " ('n02422106', 'hartebeest', 0.031613346)]"
      ]
     },
     "metadata": {},
     "output_type": "display_data"
    },
    {
     "data": {
      "text/plain": [
       "[('n03967562', 'plow', 0.07920567),\n",
       " ('n03496892', 'harvester', 0.07179756),\n",
       " ('n04428191', 'thresher', 0.06482445),\n",
       " ('n06794110', 'street_sign', 0.06448532),\n",
       " ('n04389033', 'tank', 0.040807765)]"
      ]
     },
     "metadata": {},
     "output_type": "display_data"
    },
    {
     "data": {
      "text/plain": [
       "'Scaling x'"
      ]
     },
     "metadata": {},
     "output_type": "display_data"
    },
    {
     "data": {
      "text/plain": [
       "[('n06794110', 'street_sign', 0.059515007),\n",
       " ('n03496892', 'harvester', 0.035810016),\n",
       " ('n03967562', 'plow', 0.02856569),\n",
       " ('n02422106', 'hartebeest', 0.025796087),\n",
       " ('n04428191', 'thresher', 0.02436118)]"
      ]
     },
     "metadata": {},
     "output_type": "display_data"
    },
    {
     "data": {
      "text/plain": [
       "'Scaling y'"
      ]
     },
     "metadata": {},
     "output_type": "display_data"
    },
    {
     "data": {
      "text/plain": [
       "[('n03496892', 'harvester', 0.26236257),\n",
       " ('n07802026', 'hay', 0.172186),\n",
       " ('n04428191', 'thresher', 0.099162064),\n",
       " ('n03967562', 'plow', 0.03811107),\n",
       " ('n01518878', 'ostrich', 0.031162119)]"
      ]
     },
     "metadata": {},
     "output_type": "display_data"
    },
    {
     "data": {
      "text/plain": [
       "[('n09835506', 'ballplayer', 0.19750278),\n",
       " ('n02799071', 'baseball', 0.074949406),\n",
       " ('n04370456', 'sweatshirt', 0.046325773),\n",
       " ('n02879718', 'bow', 0.036806963),\n",
       " ('n04456115', 'torch', 0.034562107)]"
      ]
     },
     "metadata": {},
     "output_type": "display_data"
    },
    {
     "data": {
      "text/plain": [
       "'Scaling x'"
      ]
     },
     "metadata": {},
     "output_type": "display_data"
    },
    {
     "data": {
      "text/plain": [
       "[('n09835506', 'ballplayer', 0.28880972),\n",
       " ('n04039381', 'racket', 0.060960148),\n",
       " ('n02799071', 'baseball', 0.05387495),\n",
       " ('n04019541', 'puck', 0.024980014),\n",
       " ('n04149813', 'scoreboard', 0.020930327)]"
      ]
     },
     "metadata": {},
     "output_type": "display_data"
    },
    {
     "data": {
      "text/plain": [
       "'Scaling y'"
      ]
     },
     "metadata": {},
     "output_type": "display_data"
    },
    {
     "data": {
      "text/plain": [
       "[('n03787032', 'mortarboard', 0.06887167),\n",
       " ('n03535780', 'horizontal_bar', 0.06859074),\n",
       " ('n09835506', 'ballplayer', 0.05267276),\n",
       " ('n02879718', 'bow', 0.040683668),\n",
       " ('n03733131', 'maypole', 0.0405608)]"
      ]
     },
     "metadata": {},
     "output_type": "display_data"
    },
    {
     "data": {
      "text/plain": [
       "[('n09835506', 'ballplayer', 0.054619636),\n",
       " ('n04507155', 'umbrella', 0.034372024),\n",
       " ('n02667093', 'abaya', 0.030985236),\n",
       " ('n03787032', 'mortarboard', 0.028887449),\n",
       " ('n03535780', 'horizontal_bar', 0.028766649)]"
      ]
     },
     "metadata": {},
     "output_type": "display_data"
    },
    {
     "data": {
      "text/plain": [
       "'Scaling x'"
      ]
     },
     "metadata": {},
     "output_type": "display_data"
    },
    {
     "data": {
      "text/plain": [
       "[('n09835506', 'ballplayer', 0.10618153),\n",
       " ('n04370456', 'sweatshirt', 0.0632618),\n",
       " ('n04371774', 'swing', 0.040732414),\n",
       " ('n04254680', 'soccer_ball', 0.034790024),\n",
       " ('n03623198', 'knee_pad', 0.028619077)]"
      ]
     },
     "metadata": {},
     "output_type": "display_data"
    },
    {
     "data": {
      "text/plain": [
       "'Scaling y'"
      ]
     },
     "metadata": {},
     "output_type": "display_data"
    },
    {
     "data": {
      "text/plain": [
       "[('n03535780', 'horizontal_bar', 0.107651256),\n",
       " ('n03888605', 'parallel_bars', 0.101565965),\n",
       " ('n03787032', 'mortarboard', 0.08715366),\n",
       " ('n09835506', 'ballplayer', 0.072721034),\n",
       " ('n03045698', 'cloak', 0.046373628)]"
      ]
     },
     "metadata": {},
     "output_type": "display_data"
    },
    {
     "data": {
      "text/plain": [
       "[('n04509417', 'unicycle', 0.05380704),\n",
       " ('n09835506', 'ballplayer', 0.02663944),\n",
       " ('n02105251', 'briard', 0.023708344),\n",
       " ('n03792782', 'mountain_bike', 0.022516826),\n",
       " ('n02106662', 'German_shepherd', 0.021696886)]"
      ]
     },
     "metadata": {},
     "output_type": "display_data"
    },
    {
     "data": {
      "text/plain": [
       "'Scaling x'"
      ]
     },
     "metadata": {},
     "output_type": "display_data"
    },
    {
     "data": {
      "text/plain": [
       "[('n09835506', 'ballplayer', 0.19341612),\n",
       " ('n02799071', 'baseball', 0.104049824),\n",
       " ('n04509417', 'unicycle', 0.09184514),\n",
       " ('n04507155', 'umbrella', 0.04066986),\n",
       " ('n04039381', 'racket', 0.028146144)]"
      ]
     },
     "metadata": {},
     "output_type": "display_data"
    },
    {
     "data": {
      "text/plain": [
       "'Scaling y'"
      ]
     },
     "metadata": {},
     "output_type": "display_data"
    },
    {
     "data": {
      "text/plain": [
       "[('n02105251', 'briard', 0.03069326),\n",
       " ('n02111129', 'Leonberg', 0.028242577),\n",
       " ('n02106382', 'Bouvier_des_Flandres', 0.025901292),\n",
       " ('n03888257', 'parachute', 0.021608423),\n",
       " ('n09835506', 'ballplayer', 0.021366794)]"
      ]
     },
     "metadata": {},
     "output_type": "display_data"
    },
    {
     "data": {
      "text/plain": [
       "[('n02105505', 'komondor', 0.7608027),\n",
       " ('n02088094', 'Afghan_hound', 0.08486157),\n",
       " ('n02437616', 'llama', 0.03705864),\n",
       " ('n02091831', 'Saluki', 0.030955328),\n",
       " ('n02105251', 'briard', 0.01328194)]"
      ]
     },
     "metadata": {},
     "output_type": "display_data"
    },
    {
     "data": {
      "text/plain": [
       "'Scaling x'"
      ]
     },
     "metadata": {},
     "output_type": "display_data"
    },
    {
     "data": {
      "text/plain": [
       "[('n02106382', 'Bouvier_des_Flandres', 0.041275237),\n",
       " ('n04371774', 'swing', 0.038729336),\n",
       " ('n09835506', 'ballplayer', 0.020752959),\n",
       " ('n02389026', 'sorrel', 0.019427124),\n",
       " ('n01518878', 'ostrich', 0.018967705)]"
      ]
     },
     "metadata": {},
     "output_type": "display_data"
    },
    {
     "data": {
      "text/plain": [
       "'Scaling y'"
      ]
     },
     "metadata": {},
     "output_type": "display_data"
    },
    {
     "data": {
      "text/plain": [
       "[('n02105505', 'komondor', 0.53270453),\n",
       " ('n02088094', 'Afghan_hound', 0.12689142),\n",
       " ('n02437616', 'llama', 0.056518458),\n",
       " ('n02091831', 'Saluki', 0.047154628),\n",
       " ('n02105251', 'briard', 0.032883245)]"
      ]
     },
     "metadata": {},
     "output_type": "display_data"
    },
    {
     "data": {
      "text/plain": [
       "[('n02104029', 'kuvasz', 0.35961547),\n",
       " ('n02090622', 'borzoi', 0.25297332),\n",
       " ('n02437616', 'llama', 0.12784803),\n",
       " ('n02111500', 'Great_Pyrenees', 0.0895819),\n",
       " ('n02100735', 'English_setter', 0.05760458)]"
      ]
     },
     "metadata": {},
     "output_type": "display_data"
    },
    {
     "data": {
      "text/plain": [
       "'Scaling x'"
      ]
     },
     "metadata": {},
     "output_type": "display_data"
    },
    {
     "data": {
      "text/plain": [
       "[('n02105505', 'komondor', 0.8636481),\n",
       " ('n02437616', 'llama', 0.027630625),\n",
       " ('n02104029', 'kuvasz', 0.0173623),\n",
       " ('n02091635', 'otterhound', 0.016447783),\n",
       " ('n02090721', 'Irish_wolfhound', 0.0101691885)]"
      ]
     },
     "metadata": {},
     "output_type": "display_data"
    },
    {
     "data": {
      "text/plain": [
       "'Scaling y'"
      ]
     },
     "metadata": {},
     "output_type": "display_data"
    },
    {
     "ename": "KeyboardInterrupt",
     "evalue": "",
     "output_type": "error",
     "traceback": [
      "\u001b[0;31m---------------------------------------------------------------------------\u001b[0m",
      "\u001b[0;31mKeyboardInterrupt\u001b[0m                         Traceback (most recent call last)",
      "\u001b[0;32m<ipython-input-31-2233e1a611af>\u001b[0m in \u001b[0;36m<module>\u001b[0;34m()\u001b[0m\n\u001b[1;32m     87\u001b[0m                         \u001b[0mstretchedCrop\u001b[0m \u001b[0;34m=\u001b[0m \u001b[0mcv\u001b[0m\u001b[0;34m.\u001b[0m\u001b[0mresize\u001b[0m\u001b[0;34m(\u001b[0m\u001b[0mcrop\u001b[0m\u001b[0;34m,\u001b[0m \u001b[0;32mNone\u001b[0m\u001b[0;34m,\u001b[0m \u001b[0mfx\u001b[0m\u001b[0;34m=\u001b[0m\u001b[0;36m1\u001b[0m\u001b[0;34m,\u001b[0m \u001b[0mfy\u001b[0m\u001b[0;34m=\u001b[0m\u001b[0mscaleYFactor\u001b[0m\u001b[0;34m*\u001b[0m\u001b[0;34m(\u001b[0m\u001b[0;36m1\u001b[0m\u001b[0;34m+\u001b[0m\u001b[0mnumStretches\u001b[0m\u001b[0;34m)\u001b[0m\u001b[0;34m,\u001b[0m \u001b[0minterpolation\u001b[0m \u001b[0;34m=\u001b[0m \u001b[0mcv\u001b[0m\u001b[0;34m.\u001b[0m\u001b[0mINTER_CUBIC\u001b[0m\u001b[0;34m)\u001b[0m\u001b[0;34m\u001b[0m\u001b[0m\n\u001b[1;32m     88\u001b[0m                         \u001b[0mstretchedCropCropped\u001b[0m \u001b[0;34m=\u001b[0m \u001b[0mstretchedCrop\u001b[0m\u001b[0;34m[\u001b[0m\u001b[0;36m0\u001b[0m\u001b[0;34m:\u001b[0m\u001b[0mwindowSize\u001b[0m\u001b[0;34m,\u001b[0m \u001b[0;36m0\u001b[0m\u001b[0;34m:\u001b[0m\u001b[0mwindowSize\u001b[0m\u001b[0;34m]\u001b[0m\u001b[0;34m\u001b[0m\u001b[0m\n\u001b[0;32m---> 89\u001b[0;31m                         \u001b[0mtemp\u001b[0m \u001b[0;34m=\u001b[0m \u001b[0mmodelPredict\u001b[0m\u001b[0;34m(\u001b[0m\u001b[0mstretchedCropCropped\u001b[0m\u001b[0;34m,\u001b[0m \u001b[0mcurrentScale\u001b[0m\u001b[0;34m,\u001b[0m \u001b[0;36m1\u001b[0m\u001b[0;34m,\u001b[0m \u001b[0mscaleYFactor\u001b[0m\u001b[0;34m*\u001b[0m\u001b[0;34m(\u001b[0m\u001b[0;36m1\u001b[0m\u001b[0;34m+\u001b[0m\u001b[0mnumStretches\u001b[0m\u001b[0;34m)\u001b[0m\u001b[0;34m)\u001b[0m\u001b[0;34m\u001b[0m\u001b[0m\n\u001b[0m\u001b[1;32m     90\u001b[0m                         \u001b[0mresults\u001b[0m\u001b[0;34m.\u001b[0m\u001b[0mappend\u001b[0m\u001b[0;34m(\u001b[0m\u001b[0mtemp\u001b[0m\u001b[0;34m)\u001b[0m\u001b[0;34m\u001b[0m\u001b[0m\n\u001b[1;32m     91\u001b[0m \u001b[0;34m\u001b[0m\u001b[0m\n",
      "\u001b[0;32m<ipython-input-31-2233e1a611af>\u001b[0m in \u001b[0;36mmodelPredict\u001b[0;34m(predictionImage, currentScale, currentScaleX, currentScaleY)\u001b[0m\n\u001b[1;32m     31\u001b[0m     \u001b[0mpredictionImage\u001b[0m \u001b[0;34m=\u001b[0m \u001b[0mpredictionImage\u001b[0m\u001b[0;34m.\u001b[0m\u001b[0mastype\u001b[0m\u001b[0;34m(\u001b[0m\u001b[0mnp\u001b[0m\u001b[0;34m.\u001b[0m\u001b[0mfloat32\u001b[0m\u001b[0;34m)\u001b[0m\u001b[0;34m\u001b[0m\u001b[0m\n\u001b[1;32m     32\u001b[0m     \u001b[0mpredictionImage\u001b[0m \u001b[0;34m=\u001b[0m \u001b[0mnp\u001b[0m\u001b[0;34m.\u001b[0m\u001b[0mexpand_dims\u001b[0m\u001b[0;34m(\u001b[0m\u001b[0mpredictionImage\u001b[0m\u001b[0;34m,\u001b[0m \u001b[0maxis\u001b[0m\u001b[0;34m=\u001b[0m\u001b[0;36m0\u001b[0m\u001b[0;34m)\u001b[0m\u001b[0;34m\u001b[0m\u001b[0m\n\u001b[0;32m---> 33\u001b[0;31m     \u001b[0mresult\u001b[0m \u001b[0;34m=\u001b[0m \u001b[0mmodel\u001b[0m\u001b[0;34m.\u001b[0m\u001b[0mpredict\u001b[0m\u001b[0;34m(\u001b[0m\u001b[0mpredictionImage\u001b[0m\u001b[0;34m)\u001b[0m\u001b[0;34m\u001b[0m\u001b[0m\n\u001b[0m\u001b[1;32m     34\u001b[0m \u001b[0;34m\u001b[0m\u001b[0m\n\u001b[1;32m     35\u001b[0m     \u001b[0;31m######################################################\u001b[0m\u001b[0;34m\u001b[0m\u001b[0;34m\u001b[0m\u001b[0m\n",
      "\u001b[0;32m/usr/local/lib/python3.5/dist-packages/keras/engine/training.py\u001b[0m in \u001b[0;36mpredict\u001b[0;34m(self, x, batch_size, verbose, steps)\u001b[0m\n\u001b[1;32m   1840\u001b[0m         \u001b[0mf\u001b[0m \u001b[0;34m=\u001b[0m \u001b[0mself\u001b[0m\u001b[0;34m.\u001b[0m\u001b[0mpredict_function\u001b[0m\u001b[0;34m\u001b[0m\u001b[0m\n\u001b[1;32m   1841\u001b[0m         return self._predict_loop(f, ins, batch_size=batch_size,\n\u001b[0;32m-> 1842\u001b[0;31m                                   verbose=verbose, steps=steps)\n\u001b[0m\u001b[1;32m   1843\u001b[0m \u001b[0;34m\u001b[0m\u001b[0m\n\u001b[1;32m   1844\u001b[0m     def train_on_batch(self, x, y,\n",
      "\u001b[0;32m/usr/local/lib/python3.5/dist-packages/keras/engine/training.py\u001b[0m in \u001b[0;36m_predict_loop\u001b[0;34m(self, f, ins, batch_size, verbose, steps)\u001b[0m\n\u001b[1;32m   1335\u001b[0m                     \u001b[0mins_batch\u001b[0m\u001b[0;34m[\u001b[0m\u001b[0mi\u001b[0m\u001b[0;34m]\u001b[0m \u001b[0;34m=\u001b[0m \u001b[0mins_batch\u001b[0m\u001b[0;34m[\u001b[0m\u001b[0mi\u001b[0m\u001b[0;34m]\u001b[0m\u001b[0;34m.\u001b[0m\u001b[0mtoarray\u001b[0m\u001b[0;34m(\u001b[0m\u001b[0;34m)\u001b[0m\u001b[0;34m\u001b[0m\u001b[0m\n\u001b[1;32m   1336\u001b[0m \u001b[0;34m\u001b[0m\u001b[0m\n\u001b[0;32m-> 1337\u001b[0;31m                 \u001b[0mbatch_outs\u001b[0m \u001b[0;34m=\u001b[0m \u001b[0mf\u001b[0m\u001b[0;34m(\u001b[0m\u001b[0mins_batch\u001b[0m\u001b[0;34m)\u001b[0m\u001b[0;34m\u001b[0m\u001b[0m\n\u001b[0m\u001b[1;32m   1338\u001b[0m                 \u001b[0;32mif\u001b[0m \u001b[0;32mnot\u001b[0m \u001b[0misinstance\u001b[0m\u001b[0;34m(\u001b[0m\u001b[0mbatch_outs\u001b[0m\u001b[0;34m,\u001b[0m \u001b[0mlist\u001b[0m\u001b[0;34m)\u001b[0m\u001b[0;34m:\u001b[0m\u001b[0;34m\u001b[0m\u001b[0m\n\u001b[1;32m   1339\u001b[0m                     \u001b[0mbatch_outs\u001b[0m \u001b[0;34m=\u001b[0m \u001b[0;34m[\u001b[0m\u001b[0mbatch_outs\u001b[0m\u001b[0;34m]\u001b[0m\u001b[0;34m\u001b[0m\u001b[0m\n",
      "\u001b[0;32m/usr/local/lib/python3.5/dist-packages/keras/backend/tensorflow_backend.py\u001b[0m in \u001b[0;36m__call__\u001b[0;34m(self, inputs)\u001b[0m\n\u001b[1;32m   2473\u001b[0m         \u001b[0msession\u001b[0m \u001b[0;34m=\u001b[0m \u001b[0mget_session\u001b[0m\u001b[0;34m(\u001b[0m\u001b[0;34m)\u001b[0m\u001b[0;34m\u001b[0m\u001b[0m\n\u001b[1;32m   2474\u001b[0m         updated = session.run(fetches=fetches, feed_dict=feed_dict,\n\u001b[0;32m-> 2475\u001b[0;31m                               **self.session_kwargs)\n\u001b[0m\u001b[1;32m   2476\u001b[0m         \u001b[0;32mreturn\u001b[0m \u001b[0mupdated\u001b[0m\u001b[0;34m[\u001b[0m\u001b[0;34m:\u001b[0m\u001b[0mlen\u001b[0m\u001b[0;34m(\u001b[0m\u001b[0mself\u001b[0m\u001b[0;34m.\u001b[0m\u001b[0moutputs\u001b[0m\u001b[0;34m)\u001b[0m\u001b[0;34m]\u001b[0m\u001b[0;34m\u001b[0m\u001b[0m\n\u001b[1;32m   2477\u001b[0m \u001b[0;34m\u001b[0m\u001b[0m\n",
      "\u001b[0;32m/usr/local/lib/python3.5/dist-packages/tensorflow/python/client/session.py\u001b[0m in \u001b[0;36mrun\u001b[0;34m(self, fetches, feed_dict, options, run_metadata)\u001b[0m\n\u001b[1;32m    903\u001b[0m     \u001b[0;32mtry\u001b[0m\u001b[0;34m:\u001b[0m\u001b[0;34m\u001b[0m\u001b[0m\n\u001b[1;32m    904\u001b[0m       result = self._run(None, fetches, feed_dict, options_ptr,\n\u001b[0;32m--> 905\u001b[0;31m                          run_metadata_ptr)\n\u001b[0m\u001b[1;32m    906\u001b[0m       \u001b[0;32mif\u001b[0m \u001b[0mrun_metadata\u001b[0m\u001b[0;34m:\u001b[0m\u001b[0;34m\u001b[0m\u001b[0m\n\u001b[1;32m    907\u001b[0m         \u001b[0mproto_data\u001b[0m \u001b[0;34m=\u001b[0m \u001b[0mtf_session\u001b[0m\u001b[0;34m.\u001b[0m\u001b[0mTF_GetBuffer\u001b[0m\u001b[0;34m(\u001b[0m\u001b[0mrun_metadata_ptr\u001b[0m\u001b[0;34m)\u001b[0m\u001b[0;34m\u001b[0m\u001b[0m\n",
      "\u001b[0;32m/usr/local/lib/python3.5/dist-packages/tensorflow/python/client/session.py\u001b[0m in \u001b[0;36m_run\u001b[0;34m(self, handle, fetches, feed_dict, options, run_metadata)\u001b[0m\n\u001b[1;32m   1135\u001b[0m     \u001b[0;32mif\u001b[0m \u001b[0mfinal_fetches\u001b[0m \u001b[0;32mor\u001b[0m \u001b[0mfinal_targets\u001b[0m \u001b[0;32mor\u001b[0m \u001b[0;34m(\u001b[0m\u001b[0mhandle\u001b[0m \u001b[0;32mand\u001b[0m \u001b[0mfeed_dict_tensor\u001b[0m\u001b[0;34m)\u001b[0m\u001b[0;34m:\u001b[0m\u001b[0;34m\u001b[0m\u001b[0m\n\u001b[1;32m   1136\u001b[0m       results = self._do_run(handle, final_targets, final_fetches,\n\u001b[0;32m-> 1137\u001b[0;31m                              feed_dict_tensor, options, run_metadata)\n\u001b[0m\u001b[1;32m   1138\u001b[0m     \u001b[0;32melse\u001b[0m\u001b[0;34m:\u001b[0m\u001b[0;34m\u001b[0m\u001b[0m\n\u001b[1;32m   1139\u001b[0m       \u001b[0mresults\u001b[0m \u001b[0;34m=\u001b[0m \u001b[0;34m[\u001b[0m\u001b[0;34m]\u001b[0m\u001b[0;34m\u001b[0m\u001b[0m\n",
      "\u001b[0;32m/usr/local/lib/python3.5/dist-packages/tensorflow/python/client/session.py\u001b[0m in \u001b[0;36m_do_run\u001b[0;34m(self, handle, target_list, fetch_list, feed_dict, options, run_metadata)\u001b[0m\n\u001b[1;32m   1353\u001b[0m     \u001b[0;32mif\u001b[0m \u001b[0mhandle\u001b[0m \u001b[0;32mis\u001b[0m \u001b[0;32mNone\u001b[0m\u001b[0;34m:\u001b[0m\u001b[0;34m\u001b[0m\u001b[0m\n\u001b[1;32m   1354\u001b[0m       return self._do_call(_run_fn, self._session, feeds, fetches, targets,\n\u001b[0;32m-> 1355\u001b[0;31m                            options, run_metadata)\n\u001b[0m\u001b[1;32m   1356\u001b[0m     \u001b[0;32melse\u001b[0m\u001b[0;34m:\u001b[0m\u001b[0;34m\u001b[0m\u001b[0m\n\u001b[1;32m   1357\u001b[0m       \u001b[0;32mreturn\u001b[0m \u001b[0mself\u001b[0m\u001b[0;34m.\u001b[0m\u001b[0m_do_call\u001b[0m\u001b[0;34m(\u001b[0m\u001b[0m_prun_fn\u001b[0m\u001b[0;34m,\u001b[0m \u001b[0mself\u001b[0m\u001b[0;34m.\u001b[0m\u001b[0m_session\u001b[0m\u001b[0;34m,\u001b[0m \u001b[0mhandle\u001b[0m\u001b[0;34m,\u001b[0m \u001b[0mfeeds\u001b[0m\u001b[0;34m,\u001b[0m \u001b[0mfetches\u001b[0m\u001b[0;34m)\u001b[0m\u001b[0;34m\u001b[0m\u001b[0m\n",
      "\u001b[0;32m/usr/local/lib/python3.5/dist-packages/tensorflow/python/client/session.py\u001b[0m in \u001b[0;36m_do_call\u001b[0;34m(self, fn, *args)\u001b[0m\n\u001b[1;32m   1359\u001b[0m   \u001b[0;32mdef\u001b[0m \u001b[0m_do_call\u001b[0m\u001b[0;34m(\u001b[0m\u001b[0mself\u001b[0m\u001b[0;34m,\u001b[0m \u001b[0mfn\u001b[0m\u001b[0;34m,\u001b[0m \u001b[0;34m*\u001b[0m\u001b[0margs\u001b[0m\u001b[0;34m)\u001b[0m\u001b[0;34m:\u001b[0m\u001b[0;34m\u001b[0m\u001b[0m\n\u001b[1;32m   1360\u001b[0m     \u001b[0;32mtry\u001b[0m\u001b[0;34m:\u001b[0m\u001b[0;34m\u001b[0m\u001b[0m\n\u001b[0;32m-> 1361\u001b[0;31m       \u001b[0;32mreturn\u001b[0m \u001b[0mfn\u001b[0m\u001b[0;34m(\u001b[0m\u001b[0;34m*\u001b[0m\u001b[0margs\u001b[0m\u001b[0;34m)\u001b[0m\u001b[0;34m\u001b[0m\u001b[0m\n\u001b[0m\u001b[1;32m   1362\u001b[0m     \u001b[0;32mexcept\u001b[0m \u001b[0merrors\u001b[0m\u001b[0;34m.\u001b[0m\u001b[0mOpError\u001b[0m \u001b[0;32mas\u001b[0m \u001b[0me\u001b[0m\u001b[0;34m:\u001b[0m\u001b[0;34m\u001b[0m\u001b[0m\n\u001b[1;32m   1363\u001b[0m       \u001b[0mmessage\u001b[0m \u001b[0;34m=\u001b[0m \u001b[0mcompat\u001b[0m\u001b[0;34m.\u001b[0m\u001b[0mas_text\u001b[0m\u001b[0;34m(\u001b[0m\u001b[0me\u001b[0m\u001b[0;34m.\u001b[0m\u001b[0mmessage\u001b[0m\u001b[0;34m)\u001b[0m\u001b[0;34m\u001b[0m\u001b[0m\n",
      "\u001b[0;32m/usr/local/lib/python3.5/dist-packages/tensorflow/python/client/session.py\u001b[0m in \u001b[0;36m_run_fn\u001b[0;34m(session, feed_dict, fetch_list, target_list, options, run_metadata)\u001b[0m\n\u001b[1;32m   1338\u001b[0m         \u001b[0;32melse\u001b[0m\u001b[0;34m:\u001b[0m\u001b[0;34m\u001b[0m\u001b[0m\n\u001b[1;32m   1339\u001b[0m           return tf_session.TF_Run(session, options, feed_dict, fetch_list,\n\u001b[0;32m-> 1340\u001b[0;31m                                    target_list, status, run_metadata)\n\u001b[0m\u001b[1;32m   1341\u001b[0m \u001b[0;34m\u001b[0m\u001b[0m\n\u001b[1;32m   1342\u001b[0m     \u001b[0;32mdef\u001b[0m \u001b[0m_prun_fn\u001b[0m\u001b[0;34m(\u001b[0m\u001b[0msession\u001b[0m\u001b[0;34m,\u001b[0m \u001b[0mhandle\u001b[0m\u001b[0;34m,\u001b[0m \u001b[0mfeed_dict\u001b[0m\u001b[0;34m,\u001b[0m \u001b[0mfetch_list\u001b[0m\u001b[0;34m)\u001b[0m\u001b[0;34m:\u001b[0m\u001b[0;34m\u001b[0m\u001b[0m\n",
      "\u001b[0;31mKeyboardInterrupt\u001b[0m: "
     ]
    }
   ],
   "source": [
    "#Read in image\n",
    "imageName = \"ex1.png\"\n",
    "image = cv.imread(imageName)\n",
    "imageHeight, imageWidth, imageChannels = image.shape\n",
    "\n",
    "#Parameters to play around with\n",
    "windowSize = 224 #REMEBER TO CHANGE THIS TO 128!!!!!!!!!!!!!!!!!!!!!!!!!!!!!!!!!!!!!!\n",
    "numStacks = 4  #Nunmber of times to shrink the image. If this shrinks the image past\n",
    "               #the point where the image size is less than the window size, the script will end\n",
    "               #without any loss\n",
    "zoomFactor = 2 # How much to initially enlarge image in order to zoom in on smaller boxes.\n",
    "               # Smallest box size wikll be windowSize / zoomFactor, so a zoomfactor of 2 will\n",
    "               # have a minimum size of 112 with a window size of 224.\n",
    "scaleFactor = .9 #Determines how much smaller each subsequent scaling of the image is. Percentage\n",
    "scaleX = 1 #How many times to apply a scale in the x direction only\n",
    "scaleY = 1 #How many times to apply a scale in the y direction only\n",
    "scaleXFactor = 1.5 #How much to stretch when scaling in the x direction (Percentage)\n",
    "scaleYFactor = 1.5 #How much to stretch when scaling in the y direction\n",
    "convStrideFactor = .5 #Percent of window size to use as convStride\n",
    "convStride = int(windowSize * convStrideFactor)\n",
    "\n",
    "class boxResult:\n",
    "    x=0\n",
    "    y=0\n",
    "    height=0\n",
    "    width=0\n",
    "    classification=0\n",
    "    confidence=0.0\n",
    "\n",
    "def modelPredict(predictionImage, currentScale, currentScaleX=1, currentScaleY=1):\n",
    "    predictionImage = predictionImage.astype(np.float32)\n",
    "    predictionImage = np.expand_dims(predictionImage, axis=0)\n",
    "    result = model.predict(predictionImage)\n",
    "\n",
    "    ######################################################\n",
    "    label = decode_predictions(result)[0]\n",
    "    display(label)\n",
    "\n",
    "    #This section makes sense of the VGG19 results and makes sense of them\n",
    "    #As long as the highest weighted result ends up in temp.classification\n",
    "    #and temp.confidence below, everything should still work when switching\n",
    "    #models.\n",
    "    ######################################################\n",
    "    #Store results in an array\n",
    "    #x, y, h, w, class, confidence\n",
    "    temp = boxResult()\n",
    "    temp.x = int(x / currentScaleX / currentScale)\n",
    "    temp.y = int(y / currentScaleY / currentScale)\n",
    "    temp.height = int(windowSize / currentScaleX / currentScale)\n",
    "    temp.width = int(windowSize / currentScaleY / currentScale)\n",
    "    temp.classification = label[1]################################\n",
    "    temp.confididence = label[2]##################################\n",
    "    return temp\n",
    "\n",
    "#Image info\n",
    "display(\"Image \" + str(imageName) + \" is \" + str(imageWidth) + \"x\" + str(imageHeight) + \".\")\n",
    "\n",
    "\n",
    "\n",
    "#Scale up image to get zoomed in squares\n",
    "image = cv.resize(image, None, fx=zoomFactor, fy=zoomFactor, interpolation = cv.INTER_CUBIC)\n",
    "currentScale = zoomFactor\n",
    "results = []\n",
    "\n",
    "#Get frames then scale down\n",
    "# number of times based on numStacks\n",
    "for i in range (0,numStacks): \n",
    "    display(\"Stack #\"+str(i))\n",
    "    for y in range (0, int(imageHeight * currentScale) - windowSize):\n",
    "        if y%convStride == 0:\n",
    "            for x in range (0, int(imageWidth * currentScale) - windowSize):\n",
    "                if x%convStride == 0:\n",
    "                    #Perform classification on the baseline window\n",
    "                    crop = image[y:y+windowSize, x:x+windowSize]\n",
    "                    temp = modelPredict(crop, currentScale)\n",
    "                    results.append(temp)\n",
    "                    #Perform classification on any stretched windows\n",
    "                    #X Stretches\n",
    "                    for numStretches in range (0, scaleX):\n",
    "                        display(\"Scaling x\")\n",
    "                        stretchedCrop = cv.resize(crop, None, fx=scaleXFactor*(1+numStretches), fy=1, interpolation = cv.INTER_CUBIC)\n",
    "                        stretchedCropCropped = stretchedCrop[0:windowSize, 0:windowSize]\n",
    "                        temp = modelPredict(stretchedCropCropped, currentScale, scaleXFactor*(1+numStretches))\n",
    "                        results.append(temp)\n",
    "                    for numStretches in range (0, scaleY):\n",
    "                        display(\"Scaling y\")\n",
    "                        stretchedCrop = cv.resize(crop, None, fx=1, fy=scaleYFactor*(1+numStretches), interpolation = cv.INTER_CUBIC)\n",
    "                        stretchedCropCropped = stretchedCrop[0:windowSize, 0:windowSize]\n",
    "                        temp = modelPredict(stretchedCropCropped, currentScale, 1, scaleYFactor*(1+numStretches))\n",
    "                        results.append(temp)\n",
    "                    \n",
    "    #Resize image, update currentScale\n",
    "    image = cv.resize(image, None, fx=scaleFactor, fy=scaleFactor, interpolation = cv.INTER_AREA)\n",
    "    currentScale *= scaleFactor\n",
    "    \n",
    "display(\"Done!\")"
   ]
  },
  {
   "cell_type": "code",
   "execution_count": 32,
   "metadata": {},
   "outputs": [],
   "source": [
    "storageImage = cv.imread(imageName)\n",
    "displayImage = storageImage.copy()\n",
    "prevHeight = 0\n",
    "lineColor = (255,0,0)\n",
    "lineWidth = 2\n",
    "for box in results:\n",
    "    cv.rectangle(displayImage,(box.x,box.y),(box.x+box.width,box.y+box.height),lineColor,lineWidth)\n",
    "    cv.imshow('Windows',displayImage)\n",
    "    cv.waitKey(500)\n",
    "    displayImage = storageImage.copy()\n",
    "cv.destroyAllWindows()"
   ]
  },
  {
   "cell_type": "code",
   "execution_count": 35,
   "metadata": {},
   "outputs": [],
   "source": [
    "#Variables to play with\n",
    "confidenceThresh = 0.8 #Poin whether or not to prune a box from the list\n",
    "\n",
    "#Create copy of results list to make playing with data easier\n",
    "boxes = list(results)\n",
    "             \n",
    "#Pruning\n",
    "for box in boxes:\n",
    "    if box.confidence < confidenceThresh:\n",
    "        boxes.remove(box)\n",
    "\n",
    "#NMS\n",
    "def nmsFast(boxes, overlapThreshold):\n",
    "    #Ensure there are boxes\n",
    "    if len(boxes) == 0:\n",
    "        return []\n",
    "    \n",
    "    #Initialize list of picked boxes, and of coordinates\n",
    "    x1 = np.array([])\n",
    "    x2 = []\n",
    "    y1 = []\n",
    "    y2 = []\n",
    "    pick = []\n",
    "    \n",
    "    #Get coordinates from bounding boxes and cast as floats\n",
    "    for box in boxes:\n",
    "        x1.append(float(box.x))\n",
    "        x2.append(float(box.x+box.width))\n",
    "        y1.append(float(box.y))\n",
    "        y2.append(float(box.y+box.height))\n",
    "    \n",
    "    #Compute and store area of bounding boxes\n",
    "    area = (x2-x1+1) * (y2-y1+1)\n",
    "    \n",
    "    #Sort boxes by bottom right coordinates\n",
    "    idxs = np.argsort(y2)\n",
    "    \n",
    "    while len(idxs) > 0:\n",
    "        last = len(idxs)-1\n",
    "        i = idxs[last]\n",
    "        pick.append(i)\n",
    "        \n",
    "        xx1 = np.maximum(x1[i],x1[idxs[:last]])\n",
    "        xx2 = np.minimum(x2[i],x2[idxs[:last]])\n",
    "        yy1 = np.maximum(y1[i],y1[idxs[:last]])\n",
    "        yy2 = np.minimum(y2[i],y2[idxs[:last]])\n",
    "        \n",
    "        #compute width and height\n",
    "        w = np.maximum(0, xx2-xx1+1)\n",
    "        h = np.maximum(0, yy2-yy1+1)\n",
    "        \n",
    "        #compute overlap\n",
    "        overlap = (w*h) / area[adxs[:last]]\n",
    "        \n",
    "        #delete indices that have overlap over overlapThreshold\n",
    "        idxs = np.delete(idxs, np.concatenate(([last], np.where(overlap > overlapThresh)[0])))\n",
    "    \n",
    "    return boxes[pick]"
   ]
  },
  {
   "cell_type": "code",
   "execution_count": 37,
   "metadata": {},
   "outputs": [
    {
     "ename": "TypeError",
     "evalue": "unsupported operand type(s) for -: 'list' and 'list'",
     "output_type": "error",
     "traceback": [
      "\u001b[0;31m---------------------------------------------------------------------------\u001b[0m",
      "\u001b[0;31mTypeError\u001b[0m                                 Traceback (most recent call last)",
      "\u001b[0;32m<ipython-input-37-ea6134c0680e>\u001b[0m in \u001b[0;36m<module>\u001b[0;34m()\u001b[0m\n\u001b[0;32m----> 1\u001b[0;31m \u001b[0mnms_rez\u001b[0m \u001b[0;34m=\u001b[0m \u001b[0mnmsFast\u001b[0m\u001b[0;34m(\u001b[0m\u001b[0mresults\u001b[0m\u001b[0;34m,\u001b[0m \u001b[0;36m.8\u001b[0m\u001b[0;34m)\u001b[0m\u001b[0;34m\u001b[0m\u001b[0m\n\u001b[0m\u001b[1;32m      2\u001b[0m \u001b[0mprint\u001b[0m\u001b[0;34m(\u001b[0m\u001b[0mlen\u001b[0m\u001b[0;34m(\u001b[0m\u001b[0mnms_rez\u001b[0m\u001b[0;34m)\u001b[0m\u001b[0;34m)\u001b[0m\u001b[0;34m\u001b[0m\u001b[0m\n\u001b[1;32m      3\u001b[0m \u001b[0;34m\u001b[0m\u001b[0m\n\u001b[1;32m      4\u001b[0m \u001b[0;34m\u001b[0m\u001b[0m\n\u001b[1;32m      5\u001b[0m \u001b[0;34m\u001b[0m\u001b[0m\n",
      "\u001b[0;32m<ipython-input-35-f18591678b84>\u001b[0m in \u001b[0;36mnmsFast\u001b[0;34m(boxes, overlapThreshold)\u001b[0m\n\u001b[1;32m     31\u001b[0m \u001b[0;34m\u001b[0m\u001b[0m\n\u001b[1;32m     32\u001b[0m     \u001b[0;31m#Compute and store area of bounding boxes\u001b[0m\u001b[0;34m\u001b[0m\u001b[0;34m\u001b[0m\u001b[0m\n\u001b[0;32m---> 33\u001b[0;31m     \u001b[0marea\u001b[0m \u001b[0;34m=\u001b[0m \u001b[0;34m(\u001b[0m\u001b[0mx2\u001b[0m\u001b[0;34m-\u001b[0m\u001b[0mx1\u001b[0m\u001b[0;34m+\u001b[0m\u001b[0;36m1\u001b[0m\u001b[0;34m)\u001b[0m \u001b[0;34m*\u001b[0m \u001b[0;34m(\u001b[0m\u001b[0my2\u001b[0m\u001b[0;34m-\u001b[0m\u001b[0my1\u001b[0m\u001b[0;34m+\u001b[0m\u001b[0;36m1\u001b[0m\u001b[0;34m)\u001b[0m\u001b[0;34m\u001b[0m\u001b[0m\n\u001b[0m\u001b[1;32m     34\u001b[0m \u001b[0;34m\u001b[0m\u001b[0m\n\u001b[1;32m     35\u001b[0m     \u001b[0;31m#Sort boxes by bottom right coordinates\u001b[0m\u001b[0;34m\u001b[0m\u001b[0;34m\u001b[0m\u001b[0m\n",
      "\u001b[0;31mTypeError\u001b[0m: unsupported operand type(s) for -: 'list' and 'list'"
     ]
    }
   ],
   "source": [
    "nms_rez = nmsFast(results, .8)\n",
    "print(len(nms_rez))\n",
    "\n",
    "\n",
    "\n",
    "\n"
   ]
  }
 ],
 "metadata": {
  "kernelspec": {
   "display_name": "Python 3",
   "language": "python",
   "name": "python3"
  },
  "language_info": {
   "codemirror_mode": {
    "name": "ipython",
    "version": 3
   },
   "file_extension": ".py",
   "mimetype": "text/x-python",
   "name": "python",
   "nbconvert_exporter": "python",
   "pygments_lexer": "ipython3",
   "version": "3.5.2"
  }
 },
 "nbformat": 4,
 "nbformat_minor": 2
}
